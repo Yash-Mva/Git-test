{
 "cells": [
  {
   "cell_type": "markdown",
   "id": "977b80b4",
   "metadata": {},
   "source": [
    "### Variable and Constant\n",
    "\n",
    "#### Variable \n",
    "\n",
    "   - A container that is going to store a particular value in it and we can change the store value in the variable at any point of time\n",
    "   - A variable is going to retain the last assigned in it till the next assignment is done\n",
    "   - A variable name should always be in lowercase (small letter)"
   ]
  },
  {
   "cell_type": "code",
   "execution_count": 1,
   "id": "b13e8f2d",
   "metadata": {},
   "outputs": [
    {
     "name": "stdout",
     "output_type": "stream",
     "text": [
      "10\n"
     ]
    }
   ],
   "source": [
    "a = 10\n",
    "print(a)"
   ]
  },
  {
   "cell_type": "code",
   "execution_count": 2,
   "id": "305d3014",
   "metadata": {},
   "outputs": [],
   "source": [
    "b = 20\n",
    "c = 2.0\n",
    "d = 2+7j\n",
    "e= 'Mayank'"
   ]
  },
  {
   "cell_type": "code",
   "execution_count": 3,
   "id": "0bf129fb",
   "metadata": {},
   "outputs": [
    {
     "data": {
      "text/plain": [
       "10"
      ]
     },
     "execution_count": 3,
     "metadata": {},
     "output_type": "execute_result"
    }
   ],
   "source": [
    "a"
   ]
  },
  {
   "cell_type": "code",
   "execution_count": 4,
   "id": "58d9b72e",
   "metadata": {},
   "outputs": [
    {
     "name": "stdout",
     "output_type": "stream",
     "text": [
      "12\n"
     ]
    }
   ],
   "source": [
    "a = 12\n",
    "print(a)"
   ]
  },
  {
   "cell_type": "markdown",
   "id": "539cba80",
   "metadata": {},
   "source": [
    "### Constants\n",
    "\n",
    "- Constants are variable only but we have set our mind that we will never change their value \n",
    "- Constants should always be in uppercase (Capital letter)"
   ]
  },
  {
   "cell_type": "code",
   "execution_count": 6,
   "id": "357e0628",
   "metadata": {},
   "outputs": [
    {
     "name": "stdout",
     "output_type": "stream",
     "text": [
      "Enter the radius14\n",
      "87.92\n"
     ]
    }
   ],
   "source": [
    "PI = 3.14\n",
    "r = int(input('Enter the radius'))\n",
    "circumfernce = 2*PI*r\n",
    "print(circumfernce)"
   ]
  },
  {
   "cell_type": "code",
   "execution_count": 7,
   "id": "b4019f5b",
   "metadata": {},
   "outputs": [
    {
     "data": {
      "text/plain": [
       "87.92"
      ]
     },
     "execution_count": 7,
     "metadata": {},
     "output_type": "execute_result"
    }
   ],
   "source": [
    "2*3.14*14"
   ]
  },
  {
   "cell_type": "markdown",
   "id": "96fcd368",
   "metadata": {},
   "source": [
    "### id() function \n",
    "\n",
    "- It is used to tell me the memory space location/address which is associated with the value "
   ]
  },
  {
   "cell_type": "code",
   "execution_count": 8,
   "id": "51422631",
   "metadata": {},
   "outputs": [
    {
     "name": "stdout",
     "output_type": "stream",
     "text": [
      "140728745890600\n"
     ]
    }
   ],
   "source": [
    "a = 1\n",
    "print(id(a))"
   ]
  },
  {
   "cell_type": "code",
   "execution_count": 9,
   "id": "f7f9011c",
   "metadata": {},
   "outputs": [
    {
     "name": "stdout",
     "output_type": "stream",
     "text": [
      "1\n"
     ]
    }
   ],
   "source": [
    "print(a)"
   ]
  },
  {
   "cell_type": "code",
   "execution_count": 11,
   "id": "adb4286e",
   "metadata": {},
   "outputs": [
    {
     "name": "stdout",
     "output_type": "stream",
     "text": [
      "140728745890600 140728745890600\n"
     ]
    }
   ],
   "source": [
    "a = 1\n",
    "b = 1\n",
    "print(id(a),id(b))"
   ]
  },
  {
   "cell_type": "markdown",
   "id": "cbba0865",
   "metadata": {},
   "source": [
    "### Object Reusability / Memory Resuability"
   ]
  },
  {
   "cell_type": "code",
   "execution_count": null,
   "id": "ab6512ad",
   "metadata": {},
   "outputs": [],
   "source": [
    "int --- -5 to 256\n",
    "Boolean - True or False \n",
    "string --- normal string do follow object resulability but comlpex string does not"
   ]
  },
  {
   "cell_type": "code",
   "execution_count": 12,
   "id": "64b51ce3",
   "metadata": {},
   "outputs": [
    {
     "name": "stdout",
     "output_type": "stream",
     "text": [
      "140728745890888 140728745890888\n"
     ]
    }
   ],
   "source": [
    "a = 10\n",
    "b = 10\n",
    "print(id(a), id(b))"
   ]
  },
  {
   "cell_type": "code",
   "execution_count": 13,
   "id": "7ca7e72f",
   "metadata": {},
   "outputs": [
    {
     "name": "stdout",
     "output_type": "stream",
     "text": [
      "3075848147184 3075848155440\n"
     ]
    }
   ],
   "source": [
    "a = 257\n",
    "b = 257\n",
    "print(id(a), id(b))"
   ]
  },
  {
   "cell_type": "code",
   "execution_count": 14,
   "id": "5bc6f745",
   "metadata": {},
   "outputs": [
    {
     "name": "stdout",
     "output_type": "stream",
     "text": [
      "140728745898760 140728745898760\n"
     ]
    }
   ],
   "source": [
    "a = 256\n",
    "b = 256\n",
    "print(id(a), id(b))"
   ]
  },
  {
   "cell_type": "code",
   "execution_count": 15,
   "id": "9f1ff722",
   "metadata": {},
   "outputs": [
    {
     "name": "stdout",
     "output_type": "stream",
     "text": [
      "140728745890408 140728745890408\n"
     ]
    }
   ],
   "source": [
    "a = -5\n",
    "b = -5\n",
    "print(id(a), id(b))"
   ]
  },
  {
   "cell_type": "code",
   "execution_count": 16,
   "id": "bcdb0df9",
   "metadata": {},
   "outputs": [
    {
     "name": "stdout",
     "output_type": "stream",
     "text": [
      "3075848154960 3075848147056\n"
     ]
    }
   ],
   "source": [
    "a = -6\n",
    "b = -6\n",
    "print(id(a), id(b))"
   ]
  },
  {
   "cell_type": "code",
   "execution_count": 19,
   "id": "08e0dfc6",
   "metadata": {},
   "outputs": [
    {
     "name": "stdout",
     "output_type": "stream",
     "text": [
      "140728745890600 140728745890632\n"
     ]
    }
   ],
   "source": [
    "a = 1\n",
    "b = 2\n",
    "print(id(a), id(b))"
   ]
  },
  {
   "cell_type": "code",
   "execution_count": 17,
   "id": "2e450355",
   "metadata": {},
   "outputs": [
    {
     "name": "stdout",
     "output_type": "stream",
     "text": [
      "3075819864944 3075819864944\n"
     ]
    }
   ],
   "source": [
    "a = 'Mayank'\n",
    "b = 'Mayank'\n",
    "print(id(a), id(b))"
   ]
  },
  {
   "cell_type": "markdown",
   "id": "017cb552",
   "metadata": {},
   "source": [
    "Special Characters are !@#$%^&*()-+= and space "
   ]
  },
  {
   "cell_type": "code",
   "execution_count": 27,
   "id": "aec7d94b",
   "metadata": {},
   "outputs": [
    {
     "name": "stdout",
     "output_type": "stream",
     "text": [
      "3075848601136 3075849373104\n"
     ]
    }
   ],
   "source": [
    "a = 'Mayank$Ghai'\n",
    "b = 'Mayank$Ghai'\n",
    "print(id(a), id(b))"
   ]
  },
  {
   "cell_type": "code",
   "execution_count": 28,
   "id": "87039cf3",
   "metadata": {},
   "outputs": [
    {
     "name": "stdout",
     "output_type": "stream",
     "text": [
      "3075849313456 3075849313456\n"
     ]
    }
   ],
   "source": [
    "a = 'Mayank_Ghai'\n",
    "b = 'Mayank_Ghai'\n",
    "print(id(a), id(b))"
   ]
  },
  {
   "cell_type": "code",
   "execution_count": 30,
   "id": "c87f7790",
   "metadata": {},
   "outputs": [
    {
     "name": "stdout",
     "output_type": "stream",
     "text": [
      "3075849356592 3075849359664\n"
     ]
    }
   ],
   "source": [
    "a = 'Mayankatulghai@'\n",
    "b = 'Mayankatulghai@'\n",
    "print(id(a), id(b))"
   ]
  },
  {
   "cell_type": "markdown",
   "id": "edbfc02d",
   "metadata": {},
   "source": [
    "### Boolean -- True or False"
   ]
  },
  {
   "cell_type": "code",
   "execution_count": 32,
   "id": "a0c3fc60",
   "metadata": {},
   "outputs": [
    {
     "data": {
      "text/plain": [
       "True"
      ]
     },
     "execution_count": 32,
     "metadata": {},
     "output_type": "execute_result"
    }
   ],
   "source": [
    "bool(1)"
   ]
  },
  {
   "cell_type": "code",
   "execution_count": 33,
   "id": "0655224b",
   "metadata": {},
   "outputs": [
    {
     "data": {
      "text/plain": [
       "False"
      ]
     },
     "execution_count": 33,
     "metadata": {},
     "output_type": "execute_result"
    }
   ],
   "source": [
    "bool(0)"
   ]
  },
  {
   "cell_type": "code",
   "execution_count": 38,
   "id": "803e9a88",
   "metadata": {},
   "outputs": [
    {
     "name": "stdout",
     "output_type": "stream",
     "text": [
      "140728744421920 140728744421920\n"
     ]
    }
   ],
   "source": [
    "a = bool(1)\n",
    "b = bool(1)\n",
    "print(id(a), id(b))"
   ]
  },
  {
   "cell_type": "code",
   "execution_count": 39,
   "id": "a031ac24",
   "metadata": {},
   "outputs": [
    {
     "name": "stdout",
     "output_type": "stream",
     "text": [
      "140728744421920\n"
     ]
    }
   ],
   "source": [
    "c =True\n",
    "print(id(c))"
   ]
  },
  {
   "cell_type": "code",
   "execution_count": 40,
   "id": "d48bc95d",
   "metadata": {},
   "outputs": [
    {
     "data": {
      "text/plain": [
       "False"
      ]
     },
     "execution_count": 40,
     "metadata": {},
     "output_type": "execute_result"
    }
   ],
   "source": [
    "bool(0)"
   ]
  },
  {
   "cell_type": "code",
   "execution_count": 41,
   "id": "685ea5c3",
   "metadata": {},
   "outputs": [
    {
     "data": {
      "text/plain": [
       "True"
      ]
     },
     "execution_count": 41,
     "metadata": {},
     "output_type": "execute_result"
    }
   ],
   "source": [
    "bool(1)"
   ]
  },
  {
   "cell_type": "code",
   "execution_count": 42,
   "id": "6b26cc4d",
   "metadata": {},
   "outputs": [
    {
     "data": {
      "text/plain": [
       "True"
      ]
     },
     "execution_count": 42,
     "metadata": {},
     "output_type": "execute_result"
    }
   ],
   "source": [
    "bool(6)"
   ]
  },
  {
   "cell_type": "code",
   "execution_count": 43,
   "id": "bd88f30a",
   "metadata": {},
   "outputs": [
    {
     "data": {
      "text/plain": [
       "True"
      ]
     },
     "execution_count": 43,
     "metadata": {},
     "output_type": "execute_result"
    }
   ],
   "source": [
    "bool(7)"
   ]
  },
  {
   "cell_type": "code",
   "execution_count": 44,
   "id": "5bb98602",
   "metadata": {},
   "outputs": [
    {
     "name": "stdout",
     "output_type": "stream",
     "text": [
      "140728744421920 140728744421920\n"
     ]
    }
   ],
   "source": [
    "a = bool(100)\n",
    "b = bool(-100)\n",
    "print(id(a), id(b))"
   ]
  },
  {
   "cell_type": "code",
   "execution_count": 45,
   "id": "6890b574",
   "metadata": {},
   "outputs": [
    {
     "name": "stdout",
     "output_type": "stream",
     "text": [
      "140728744421920 140728744421920 140728745890600\n"
     ]
    }
   ],
   "source": [
    "a = True\n",
    "b = bool(1)\n",
    "c = 1\n",
    "print(id(a),id(b),id(c))\n"
   ]
  },
  {
   "cell_type": "markdown",
   "id": "941aca5b",
   "metadata": {},
   "source": [
    "### Datatype \n",
    "\n",
    "    - A data-type is a type identifier of the value or information that is being stored in a variable "
   ]
  },
  {
   "cell_type": "markdown",
   "id": "8e1bf290",
   "metadata": {},
   "source": [
    "### Different Types of Data\n",
    "\n",
    "#### Basic Datatypes or Fundamental Datatypes or Primitive Datatypes \n",
    "    \n",
    "    - int\n",
    "    - float\n",
    "    - complex\n",
    "    - string\n",
    "    - boolean \n",
    "    - None \n",
    "    - range\n",
    "    \n",
    "##### Derived Datatypes\n",
    "\n",
    "    - list\n",
    "    - tuples\n",
    "    - dictionary\n",
    "    - set\n",
    "    - frozenset"
   ]
  },
  {
   "cell_type": "markdown",
   "id": "c44a0cd2",
   "metadata": {},
   "source": [
    "### type() function\n",
    "\n",
    "- It tells us about which kind of the datatype the variable has stored in it "
   ]
  },
  {
   "cell_type": "markdown",
   "id": "84edf9c0",
   "metadata": {},
   "source": [
    "### Integer\n",
    "\n",
    "- Any number +ve, -ve or 0 , without a decimal value is known as integer "
   ]
  },
  {
   "cell_type": "code",
   "execution_count": 46,
   "id": "bcaa9469",
   "metadata": {},
   "outputs": [
    {
     "name": "stdout",
     "output_type": "stream",
     "text": [
      "<class 'int'>\n"
     ]
    }
   ],
   "source": [
    "a = 100\n",
    "print(type(a))"
   ]
  },
  {
   "cell_type": "code",
   "execution_count": 47,
   "id": "86d4eef8",
   "metadata": {},
   "outputs": [
    {
     "name": "stdout",
     "output_type": "stream",
     "text": [
      "<class 'int'>\n"
     ]
    }
   ],
   "source": [
    "a = -100\n",
    "print(type(a))"
   ]
  },
  {
   "cell_type": "code",
   "execution_count": 48,
   "id": "d7cb7ada",
   "metadata": {},
   "outputs": [
    {
     "name": "stdout",
     "output_type": "stream",
     "text": [
      "<class 'int'>\n"
     ]
    }
   ],
   "source": [
    "a "
   ]
  },
  {
   "cell_type": "markdown",
   "id": "d006709f",
   "metadata": {},
   "source": [
    "### float\n",
    "\n",
    "- Any value +ve, -ve or 0 with decimal values is known as float datatype "
   ]
  },
  {
   "cell_type": "code",
   "execution_count": 49,
   "id": "0726547d",
   "metadata": {},
   "outputs": [
    {
     "name": "stdout",
     "output_type": "stream",
     "text": [
      "<class 'float'>\n"
     ]
    }
   ],
   "source": [
    "a = 10.0\n",
    "print(type(a))"
   ]
  },
  {
   "cell_type": "code",
   "execution_count": 50,
   "id": "47f61422",
   "metadata": {},
   "outputs": [
    {
     "name": "stdout",
     "output_type": "stream",
     "text": [
      "<class 'float'>\n"
     ]
    }
   ],
   "source": [
    "b = 20.9\n",
    "print(type(a))"
   ]
  },
  {
   "cell_type": "code",
   "execution_count": 51,
   "id": "a45dcad5",
   "metadata": {},
   "outputs": [
    {
     "name": "stdout",
     "output_type": "stream",
     "text": [
      "3075848144944 3075848156016\n"
     ]
    }
   ],
   "source": [
    "a = 10.0\n",
    "b = 10.0\n",
    "print(id(a), id(b))"
   ]
  },
  {
   "cell_type": "code",
   "execution_count": null,
   "id": "b6cc76da",
   "metadata": {},
   "outputs": [],
   "source": [
    "10.0 ---- 100/10 ---- 100*10^-1 ---- 1*10^1 ----100e1"
   ]
  },
  {
   "cell_type": "code",
   "execution_count": 54,
   "id": "9209457c",
   "metadata": {},
   "outputs": [
    {
     "data": {
      "text/plain": [
       "10.0"
      ]
     },
     "execution_count": 54,
     "metadata": {},
     "output_type": "execute_result"
    }
   ],
   "source": [
    "100e-1  \n",
    "Python stores the float values in exponential form and this makes them numbers complex"
   ]
  },
  {
   "cell_type": "code",
   "execution_count": 56,
   "id": "e72bcb07",
   "metadata": {},
   "outputs": [
    {
     "name": "stdout",
     "output_type": "stream",
     "text": [
      "140728745890888 3075848143600\n",
      "<class 'int'> <class 'float'>\n"
     ]
    }
   ],
   "source": [
    "a = 10\n",
    "b = 10.0\n",
    "print(id(a), id(b))\n",
    "print(type(a), type(b))"
   ]
  },
  {
   "cell_type": "markdown",
   "id": "043b788f",
   "metadata": {},
   "source": [
    "### Complex Datatype \n",
    "\n",
    "- Any number stored in the form of a+bj or a+bJ will be considered as a complex datatype \n",
    "- The number without the j or J is known as a real number and the part with the J or J in called the imaginary number "
   ]
  },
  {
   "cell_type": "code",
   "execution_count": 104,
   "id": "6eee1831",
   "metadata": {},
   "outputs": [
    {
     "name": "stdout",
     "output_type": "stream",
     "text": [
      "<class 'complex'>\n"
     ]
    }
   ],
   "source": [
    "x = 6+5j #---> 6.0\n",
    "print(type(x))"
   ]
  },
  {
   "cell_type": "code",
   "execution_count": 105,
   "id": "ce857afb",
   "metadata": {},
   "outputs": [
    {
     "data": {
      "text/plain": [
       "3075849650480"
      ]
     },
     "execution_count": 105,
     "metadata": {},
     "output_type": "execute_result"
    }
   ],
   "source": [
    "id(x)"
   ]
  },
  {
   "cell_type": "code",
   "execution_count": 106,
   "id": "187c0c1b",
   "metadata": {},
   "outputs": [
    {
     "name": "stdout",
     "output_type": "stream",
     "text": [
      "<class 'complex'>\n"
     ]
    }
   ],
   "source": [
    "y = 7-7J  #-------------- 7+(-7)j\n",
    "print(type(y))"
   ]
  },
  {
   "cell_type": "code",
   "execution_count": 107,
   "id": "f471bcc8",
   "metadata": {},
   "outputs": [
    {
     "data": {
      "text/plain": [
       "6.0"
      ]
     },
     "execution_count": 107,
     "metadata": {},
     "output_type": "execute_result"
    }
   ],
   "source": [
    "x.real"
   ]
  },
  {
   "cell_type": "code",
   "execution_count": 108,
   "id": "79777695",
   "metadata": {},
   "outputs": [
    {
     "data": {
      "text/plain": [
       "5.0"
      ]
     },
     "execution_count": 108,
     "metadata": {},
     "output_type": "execute_result"
    }
   ],
   "source": [
    "x.imag"
   ]
  },
  {
   "cell_type": "code",
   "execution_count": 109,
   "id": "a808c622",
   "metadata": {},
   "outputs": [
    {
     "data": {
      "text/plain": [
       "7.0"
      ]
     },
     "execution_count": 109,
     "metadata": {},
     "output_type": "execute_result"
    }
   ],
   "source": [
    "y.real"
   ]
  },
  {
   "cell_type": "code",
   "execution_count": 110,
   "id": "b8c9bbe6",
   "metadata": {},
   "outputs": [
    {
     "data": {
      "text/plain": [
       "-7.0"
      ]
     },
     "execution_count": 110,
     "metadata": {},
     "output_type": "execute_result"
    }
   ],
   "source": [
    "y.imag"
   ]
  },
  {
   "cell_type": "markdown",
   "id": "b26d2845",
   "metadata": {},
   "source": [
    "### Precedence \n",
    "\n",
    "Int<Float<Complex ----- Numeric datatypes "
   ]
  },
  {
   "cell_type": "markdown",
   "id": "9a99f2a7",
   "metadata": {},
   "source": [
    "### String\n",
    "\n",
    "- Anything written inside '....', \"....\", '''.....''' or \"\"\".....\"\"\"\n",
    "- It can be a character, word, sentense, integer, float, or any other datatype "
   ]
  },
  {
   "cell_type": "code",
   "execution_count": 63,
   "id": "15c60a26",
   "metadata": {},
   "outputs": [
    {
     "name": "stdout",
     "output_type": "stream",
     "text": [
      "<class 'str'>\n"
     ]
    }
   ],
   "source": [
    "a = '1'\n",
    "print(type(a))"
   ]
  },
  {
   "cell_type": "code",
   "execution_count": 65,
   "id": "19ca22aa",
   "metadata": {},
   "outputs": [
    {
     "name": "stdout",
     "output_type": "stream",
     "text": [
      "<class 'str'>\n"
     ]
    }
   ],
   "source": [
    "a = \"10.0\"\n",
    "print(type(a))"
   ]
  },
  {
   "cell_type": "code",
   "execution_count": 66,
   "id": "1f04e0ad",
   "metadata": {},
   "outputs": [
    {
     "name": "stdout",
     "output_type": "stream",
     "text": [
      "<class 'str'>\n"
     ]
    }
   ],
   "source": [
    "a = '''7+8j'''\n",
    "print(type(a))"
   ]
  },
  {
   "cell_type": "code",
   "execution_count": 67,
   "id": "ed1ade66",
   "metadata": {},
   "outputs": [
    {
     "name": "stdout",
     "output_type": "stream",
     "text": [
      "<class 'str'>\n"
     ]
    }
   ],
   "source": [
    "a = \"\"\"Mayank\"\"\"\n",
    "print(type(a))"
   ]
  },
  {
   "cell_type": "code",
   "execution_count": 68,
   "id": "a12acff9",
   "metadata": {},
   "outputs": [
    {
     "name": "stdout",
     "output_type": "stream",
     "text": [
      "3075849371504 3075849310576\n"
     ]
    }
   ],
   "source": [
    "a = '10.0'\n",
    "b = '10.0'\n",
    "print(id(a), id(b))"
   ]
  },
  {
   "cell_type": "code",
   "execution_count": 69,
   "id": "fb82800c",
   "metadata": {},
   "outputs": [
    {
     "name": "stdout",
     "output_type": "stream",
     "text": [
      "<class 'str'>\n"
     ]
    }
   ],
   "source": [
    "a = 'mayank112333435i3y6798569874589349'\n",
    "print(type(a))"
   ]
  },
  {
   "cell_type": "code",
   "execution_count": 71,
   "id": "0a7b6b4e",
   "metadata": {},
   "outputs": [
    {
     "name": "stdout",
     "output_type": "stream",
     "text": [
      "I'm a data analyst\n"
     ]
    }
   ],
   "source": [
    "a = \"I'm a data analyst\"\n",
    "print(a)"
   ]
  },
  {
   "cell_type": "code",
   "execution_count": 72,
   "id": "d8fe89f0",
   "metadata": {},
   "outputs": [
    {
     "name": "stdout",
     "output_type": "stream",
     "text": [
      "My name is Mayank Atul Ghai\n",
      "I am a python trainer at learnbay\n",
      "I am having more than 7 years of experience <class 'str'>\n"
     ]
    }
   ],
   "source": [
    "a = '''My name is Mayank Atul Ghai\n",
    "I am a python trainer at learnbay\n",
    "I am having more than 7 years of experience'''\n",
    "print(a, type(a))"
   ]
  },
  {
   "cell_type": "markdown",
   "id": "80cf33c4",
   "metadata": {},
   "source": [
    "'''....''' or \"\"\".....\"\"\" are used for Docstring or Also knowns as Documenatational Strings"
   ]
  },
  {
   "cell_type": "code",
   "execution_count": 75,
   "id": "4de92656",
   "metadata": {},
   "outputs": [],
   "source": [
    "def add(a, b):\n",
    "    '''Functionality: Will take two numbers and return the sum of these two numbers\n",
    "        a = First Number\n",
    "        b = second number\n",
    "        c = result'''\n",
    "    \n",
    "    return c"
   ]
  },
  {
   "cell_type": "code",
   "execution_count": null,
   "id": "47c25f34",
   "metadata": {},
   "outputs": [],
   "source": [
    "add() #shift +tab"
   ]
  },
  {
   "cell_type": "markdown",
   "id": "c3311371",
   "metadata": {},
   "source": [
    "### Boolean Datatype \n",
    "\n",
    "- Boolean means two \n",
    "- It will store only two binary values in it i.e True or False"
   ]
  },
  {
   "cell_type": "code",
   "execution_count": 76,
   "id": "a3444384",
   "metadata": {},
   "outputs": [
    {
     "name": "stdout",
     "output_type": "stream",
     "text": [
      "<class 'bool'>\n"
     ]
    }
   ],
   "source": [
    "a = True \n",
    "print(type(a))"
   ]
  },
  {
   "cell_type": "code",
   "execution_count": 77,
   "id": "2b0952fd",
   "metadata": {},
   "outputs": [
    {
     "name": "stdout",
     "output_type": "stream",
     "text": [
      "<class 'bool'>\n"
     ]
    }
   ],
   "source": [
    "b = False\n",
    "print(type(b))"
   ]
  },
  {
   "cell_type": "markdown",
   "id": "cf67b0db",
   "metadata": {},
   "source": [
    "### None Datatype \n",
    "\n",
    "- It is used to represent missing values or a null value in Python\n",
    "- It is space holder"
   ]
  },
  {
   "cell_type": "code",
   "execution_count": 78,
   "id": "f8360970",
   "metadata": {},
   "outputs": [
    {
     "name": "stdout",
     "output_type": "stream",
     "text": [
      "<class 'NoneType'>\n"
     ]
    }
   ],
   "source": [
    "a = None\n",
    "print(type(a))"
   ]
  },
  {
   "cell_type": "code",
   "execution_count": 80,
   "id": "920626cb",
   "metadata": {},
   "outputs": [],
   "source": [
    "Name = 'Mayank'\n",
    "Age = 32\n",
    "City = None"
   ]
  },
  {
   "cell_type": "markdown",
   "id": "ad90f06a",
   "metadata": {},
   "source": [
    "_None__ is not used a variable name"
   ]
  },
  {
   "cell_type": "code",
   "execution_count": 82,
   "id": "5b6ff608",
   "metadata": {},
   "outputs": [
    {
     "data": {
      "text/plain": [
       "140728744504048"
      ]
     },
     "execution_count": 82,
     "metadata": {},
     "output_type": "execute_result"
    }
   ],
   "source": [
    "id(a)"
   ]
  },
  {
   "cell_type": "code",
   "execution_count": 83,
   "id": "78852034",
   "metadata": {},
   "outputs": [
    {
     "data": {
      "text/plain": [
       "140728744504048"
      ]
     },
     "execution_count": 83,
     "metadata": {},
     "output_type": "execute_result"
    }
   ],
   "source": [
    "id(City)"
   ]
  },
  {
   "cell_type": "markdown",
   "id": "52ef4949",
   "metadata": {},
   "source": [
    "### Range\n",
    "\n",
    "- It will give you a range between two specifed number\n",
    "- the last number will not be included\n",
    "- It is going to start by default by 0"
   ]
  },
  {
   "cell_type": "code",
   "execution_count": 84,
   "id": "c745e131",
   "metadata": {},
   "outputs": [
    {
     "data": {
      "text/plain": [
       "range(0, 5)"
      ]
     },
     "execution_count": 84,
     "metadata": {},
     "output_type": "execute_result"
    }
   ],
   "source": [
    "range(5)"
   ]
  },
  {
   "cell_type": "code",
   "execution_count": 85,
   "id": "10fd533d",
   "metadata": {},
   "outputs": [
    {
     "name": "stdout",
     "output_type": "stream",
     "text": [
      "0\n",
      "1\n",
      "2\n",
      "3\n",
      "4\n"
     ]
    }
   ],
   "source": [
    "for i in range(5):\n",
    "    print(i)"
   ]
  },
  {
   "cell_type": "code",
   "execution_count": 86,
   "id": "c6ae85e6",
   "metadata": {},
   "outputs": [
    {
     "data": {
      "text/plain": [
       "range(1, 5)"
      ]
     },
     "execution_count": 86,
     "metadata": {},
     "output_type": "execute_result"
    }
   ],
   "source": [
    "range(1,5)"
   ]
  },
  {
   "cell_type": "code",
   "execution_count": 88,
   "id": "5244ea81",
   "metadata": {},
   "outputs": [
    {
     "name": "stdout",
     "output_type": "stream",
     "text": [
      "1\n",
      "2\n",
      "3\n",
      "4\n"
     ]
    }
   ],
   "source": [
    "for i in range(1,5):\n",
    "    print(i)"
   ]
  },
  {
   "cell_type": "code",
   "execution_count": 89,
   "id": "365a84f6",
   "metadata": {},
   "outputs": [
    {
     "name": "stdout",
     "output_type": "stream",
     "text": [
      "range(1, 20)\n"
     ]
    }
   ],
   "source": [
    "a = 1\n",
    "b = 20\n",
    "c = range(a, b)\n",
    "print(c)"
   ]
  },
  {
   "cell_type": "code",
   "execution_count": 90,
   "id": "99431cdb",
   "metadata": {},
   "outputs": [
    {
     "data": {
      "text/plain": [
       "range(-5, -1)"
      ]
     },
     "execution_count": 90,
     "metadata": {},
     "output_type": "execute_result"
    }
   ],
   "source": [
    "range(-5,-1)"
   ]
  },
  {
   "cell_type": "code",
   "execution_count": 95,
   "id": "6a08ca7d",
   "metadata": {},
   "outputs": [
    {
     "name": "stdout",
     "output_type": "stream",
     "text": [
      "-5\n",
      "-4\n",
      "-3\n",
      "-2\n"
     ]
    }
   ],
   "source": [
    "for i in range(-5, -1):\n",
    "    print(i)"
   ]
  },
  {
   "cell_type": "code",
   "execution_count": 96,
   "id": "08538dc9",
   "metadata": {},
   "outputs": [
    {
     "name": "stdout",
     "output_type": "stream",
     "text": [
      "-2\n"
     ]
    }
   ],
   "source": [
    "print(i)"
   ]
  },
  {
   "cell_type": "code",
   "execution_count": 92,
   "id": "7f943bef",
   "metadata": {},
   "outputs": [
    {
     "data": {
      "text/plain": [
       "range"
      ]
     },
     "execution_count": 92,
     "metadata": {},
     "output_type": "execute_result"
    }
   ],
   "source": [
    "type(c)"
   ]
  },
  {
   "cell_type": "code",
   "execution_count": 98,
   "id": "a9699fa0",
   "metadata": {},
   "outputs": [
    {
     "data": {
      "text/plain": [
       "str"
      ]
     },
     "execution_count": 98,
     "metadata": {},
     "output_type": "execute_result"
    }
   ],
   "source": [
    "c = print('Mayank')\n",
    "type(c)"
   ]
  },
  {
   "cell_type": "code",
   "execution_count": null,
   "id": "7a5fa36d",
   "metadata": {},
   "outputs": [],
   "source": [
    "range(starting value, ending_value, step_size)\n",
    "by default starting_value will take 0\n"
   ]
  },
  {
   "cell_type": "code",
   "execution_count": 101,
   "id": "6959cf7e",
   "metadata": {},
   "outputs": [
    {
     "name": "stdout",
     "output_type": "stream",
     "text": [
      "10\n",
      "11\n",
      "12\n",
      "13\n",
      "14\n",
      "15\n",
      "16\n",
      "17\n",
      "18\n",
      "19\n"
     ]
    }
   ],
   "source": [
    "for i in range(10,20):\n",
    "    #----> [10, 20)\n",
    "    print(i)"
   ]
  },
  {
   "cell_type": "code",
   "execution_count": 111,
   "id": "67c1ad0f",
   "metadata": {},
   "outputs": [
    {
     "data": {
      "text/plain": [
       "2.0"
      ]
     },
     "execution_count": 111,
     "metadata": {},
     "output_type": "execute_result"
    }
   ],
   "source": [
    "2.0"
   ]
  },
  {
   "cell_type": "code",
   "execution_count": 114,
   "id": "5a862c44",
   "metadata": {},
   "outputs": [],
   "source": [
    "a = 2e0"
   ]
  },
  {
   "cell_type": "code",
   "execution_count": 115,
   "id": "0af8ef35",
   "metadata": {},
   "outputs": [
    {
     "data": {
      "text/plain": [
       "3075848157840"
      ]
     },
     "execution_count": 115,
     "metadata": {},
     "output_type": "execute_result"
    }
   ],
   "source": [
    "id(a)"
   ]
  },
  {
   "cell_type": "code",
   "execution_count": 116,
   "id": "372f2c0b",
   "metadata": {},
   "outputs": [
    {
     "data": {
      "text/plain": [
       "140728745890632"
      ]
     },
     "execution_count": 116,
     "metadata": {},
     "output_type": "execute_result"
    }
   ],
   "source": [
    "a = 2\n",
    "id(a)"
   ]
  },
  {
   "cell_type": "code",
   "execution_count": null,
   "id": "a2f0feec",
   "metadata": {},
   "outputs": [],
   "source": []
  }
 ],
 "metadata": {
  "kernelspec": {
   "display_name": "Python 3 (ipykernel)",
   "language": "python",
   "name": "python3"
  },
  "language_info": {
   "codemirror_mode": {
    "name": "ipython",
    "version": 3
   },
   "file_extension": ".py",
   "mimetype": "text/x-python",
   "name": "python",
   "nbconvert_exporter": "python",
   "pygments_lexer": "ipython3",
   "version": "3.11.5"
  }
 },
 "nbformat": 4,
 "nbformat_minor": 5
}
