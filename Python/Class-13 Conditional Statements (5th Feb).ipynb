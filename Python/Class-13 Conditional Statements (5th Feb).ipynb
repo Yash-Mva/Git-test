{
 "cells": [
  {
   "cell_type": "markdown",
   "id": "b025c887",
   "metadata": {},
   "source": [
    "### Conditional Statement or Control Statement\n",
    "\n",
    "- Conditional statements are used when we want some piece of code to be executed if a particular condition is true or false \n",
    "- __if__ keyword is used to write a conditional statement"
   ]
  },
  {
   "cell_type": "markdown",
   "id": "5c422180",
   "metadata": {},
   "source": [
    "### Types of conditional Statement\n",
    "\n",
    "- if statement\n",
    "- if... else statement\n",
    "- multiple if statement\n",
    "- if...elif...else statement \n",
    "- nested if...else statement "
   ]
  },
  {
   "cell_type": "markdown",
   "id": "a3dd5f87",
   "metadata": {},
   "source": [
    "### 1. if conditional statement \n",
    "\n",
    "- This statement will check only one condition \n",
    "\n",
    "    Syntax:\n",
    "        \n",
    "            if condition:\n",
    "                code_1\n",
    "                code_2\n",
    "            "
   ]
  },
  {
   "cell_type": "markdown",
   "id": "242c7e62",
   "metadata": {},
   "source": [
    "### Indentations\n",
    "\n",
    "- It is space before the code \n",
    "- Indentations are used to define the scope of a code written either inside a conditional statement, loops or functions \n",
    "- It segregates the block of code from the main program "
   ]
  },
  {
   "cell_type": "code",
   "execution_count": 1,
   "id": "8fbbac2c",
   "metadata": {},
   "outputs": [
    {
     "ename": "IndentationError",
     "evalue": "expected an indented block after 'if' statement on line 3 (4206981475.py, line 4)",
     "output_type": "error",
     "traceback": [
      "\u001b[1;36m  Cell \u001b[1;32mIn[1], line 4\u001b[1;36m\u001b[0m\n\u001b[1;33m    print(f'{a} is an even number')\u001b[0m\n\u001b[1;37m    ^\u001b[0m\n\u001b[1;31mIndentationError\u001b[0m\u001b[1;31m:\u001b[0m expected an indented block after 'if' statement on line 3\n"
     ]
    }
   ],
   "source": [
    "a = int(input('Enter a number: '))\n",
    "\n",
    "if a % 2 == 0:\n",
    "print(f'{a} is an even number')"
   ]
  },
  {
   "cell_type": "code",
   "execution_count": 2,
   "id": "178c42ba",
   "metadata": {},
   "outputs": [
    {
     "name": "stdout",
     "output_type": "stream",
     "text": [
      "Enter a number: 14\n",
      "14 is an even number\n"
     ]
    }
   ],
   "source": [
    "a = int(input('Enter a number: '))\n",
    "\n",
    "if a % 2 == 0:\n",
    "    print(f'{a} is an even number')"
   ]
  },
  {
   "cell_type": "code",
   "execution_count": 3,
   "id": "a27685cf",
   "metadata": {},
   "outputs": [
    {
     "name": "stdout",
     "output_type": "stream",
     "text": [
      "Enter a number: 19\n"
     ]
    }
   ],
   "source": [
    "a = int(input('Enter a number: '))\n",
    "\n",
    "if a % 2 == 0:\n",
    "    print(f'{a} is an even number')"
   ]
  },
  {
   "cell_type": "markdown",
   "id": "40ef2c92",
   "metadata": {},
   "source": [
    "### 2. if.... else statement\n",
    "\n",
    "    Syntax:\n",
    "    \n",
    "        if condition:\n",
    "            code-1\n",
    "            code-2\n",
    "        else:\n",
    "            code-3 \n",
    "            code-4\n",
    "            \n",
    "__Note__: \n",
    "\n",
    "- When the if condition is True then the code inside the if block gets executed \n",
    "- When the if condition is False then the code inside the else block gets executed"
   ]
  },
  {
   "cell_type": "code",
   "execution_count": 4,
   "id": "f90c8d4e",
   "metadata": {},
   "outputs": [
    {
     "name": "stdout",
     "output_type": "stream",
     "text": [
      "Enter a number: 19\n",
      "19 is an odd number\n"
     ]
    }
   ],
   "source": [
    "a = int(input('Enter a number: '))\n",
    "\n",
    "if a % 2 == 0:\n",
    "    print(f'{a} is an even number')\n",
    "else:\n",
    "    print(f'{a} is an odd number')"
   ]
  },
  {
   "cell_type": "code",
   "execution_count": 5,
   "id": "bb87d567",
   "metadata": {},
   "outputs": [
    {
     "name": "stdout",
     "output_type": "stream",
     "text": [
      "Enter a number: 14\n",
      "14 is an even number\n"
     ]
    }
   ],
   "source": [
    "a = int(input('Enter a number: '))\n",
    "\n",
    "if a % 2 == 0:\n",
    "    print(f'{a} is an even number')\n",
    "else:\n",
    "    print(f'{a} is an odd number')"
   ]
  },
  {
   "cell_type": "code",
   "execution_count": 6,
   "id": "37bd5118",
   "metadata": {
    "scrolled": true
   },
   "outputs": [
    {
     "name": "stdout",
     "output_type": "stream",
     "text": [
      "Enter a number: 14\n",
      "Even\n"
     ]
    }
   ],
   "source": [
    "a = int(input('Enter a number: '))\n",
    "\n",
    "print('Even' if a%2 ==0 else 'Odd')"
   ]
  },
  {
   "cell_type": "code",
   "execution_count": 7,
   "id": "1d7aa5bf",
   "metadata": {},
   "outputs": [
    {
     "name": "stdout",
     "output_type": "stream",
     "text": [
      "Enter a number: 19\n",
      "Odd\n"
     ]
    }
   ],
   "source": [
    "a = int(input('Enter a number: '))\n",
    "\n",
    "print('Even' if a%2 ==0 else 'Odd')"
   ]
  },
  {
   "cell_type": "markdown",
   "id": "8cb990d4",
   "metadata": {},
   "source": [
    "### 3. multiple if condition \n",
    "\n",
    "    Syntax:\n",
    "    \n",
    "        if condition-1:\n",
    "            code-1\n",
    "        if condition-2:\n",
    "            code-2\n",
    "        if condition-3:\n",
    "            code-3 \n",
    "        .\n",
    "        .\n",
    "        .\n",
    "        .\n",
    "        if condition-n:\n",
    "            code-n\n",
    "            \n",
    "__Note__: Here all the condition are check every condition irrespective of the fact that if  one statement is True"
   ]
  },
  {
   "cell_type": "code",
   "execution_count": 9,
   "id": "12f5b85f",
   "metadata": {},
   "outputs": [
    {
     "name": "stdout",
     "output_type": "stream",
     "text": [
      "Enter a number between 0 to 5: 5\n",
      "Five\n"
     ]
    }
   ],
   "source": [
    "a = int(input('Enter a number between 0 to 5: '))\n",
    "\n",
    "if a == 0:\n",
    "    print('Zero')\n",
    "if a == 1:\n",
    "    print('One')\n",
    "if a == 2:\n",
    "    print('Two')\n",
    "if a == 3:\n",
    "    print('Three')\n",
    "if a == 4:\n",
    "    print('Four')\n",
    "if a == 5:\n",
    "    print('Five')    "
   ]
  },
  {
   "cell_type": "code",
   "execution_count": 24,
   "id": "a41771ad",
   "metadata": {},
   "outputs": [
    {
     "name": "stdout",
     "output_type": "stream",
     "text": [
      "Enter a number between 0 to 5: 2\n",
      "Two\n",
      "Three\n"
     ]
    }
   ],
   "source": [
    "a = int(input('Enter a number between 0 to 5: '))\n",
    "\n",
    "if a == 0:\n",
    "    print('Zero')\n",
    "if a == 1:\n",
    "    print('One')\n",
    "if a == 2:\n",
    "    print('Two')\n",
    "if a == 2:\n",
    "    print('Three')\n",
    "if a == 4:\n",
    "    print('Four')\n",
    "if a == 5:\n",
    "    print('Five')   \n"
   ]
  },
  {
   "cell_type": "code",
   "execution_count": 23,
   "id": "9bf615ab",
   "metadata": {},
   "outputs": [
    {
     "name": "stdout",
     "output_type": "stream",
     "text": [
      "Enter a number between 0 to 5: 5\n",
      "Five\n"
     ]
    }
   ],
   "source": [
    "a = int(input('Enter a number between 0 to 5: '))\n",
    "\n",
    "if a == 0:\n",
    "    print('Zero')\n",
    "if a == 1:\n",
    "    print('One')\n",
    "if a == 2:\n",
    "    print('Two')\n",
    "if a == 3:\n",
    "    print('Three')\n",
    "if a == 4:\n",
    "    print('Four')\n",
    "if a == 5:\n",
    "    print('Five')   \n",
    "else:\n",
    "    print('Invalid Input')"
   ]
  },
  {
   "cell_type": "code",
   "execution_count": 30,
   "id": "25a7cc1b",
   "metadata": {},
   "outputs": [
    {
     "name": "stdout",
     "output_type": "stream",
     "text": [
      "Enter a number between 0 to 5: 6\n",
      "Invalid Input\n"
     ]
    }
   ],
   "source": [
    "a = int(input('Enter a number between 0 to 5: '))\n",
    "\n",
    "if a == 0:\n",
    "    print('Zero')\n",
    "if a == 1:\n",
    "    print('One')\n",
    "if a == 2:\n",
    "    print('Two')\n",
    "if a == 3:\n",
    "    print('Three')\n",
    "if a == 4:\n",
    "    print('Four')\n",
    "if a == 5:\n",
    "    print('Five')   \n",
    "else:\n",
    "    print('Invalid Input')"
   ]
  },
  {
   "cell_type": "markdown",
   "id": "cddb83d5",
   "metadata": {},
   "source": [
    "#### Here the else condition is associated with the last if statement and is independent to all the rest if conditions "
   ]
  },
  {
   "cell_type": "markdown",
   "id": "d5de5d60",
   "metadata": {},
   "source": [
    "### 4. if..elif..else statement \n",
    "\n",
    "    Syntax:\n",
    "        \n",
    "        if condition-1:\n",
    "            code-1\n",
    "            \n",
    "        elif condition-2\n",
    "            code-2\n",
    "        \n",
    "        elif conditin-3\n",
    "            code-3\n",
    "        \n",
    "         else:\n",
    "             code-n\n",
    "             \n",
    "__Note__: \n",
    "- Here each condition is independent of one another \n",
    "- else is associated will all of them\n",
    "- if one condition is met, the execution of the code will go out of this conditional statement"
   ]
  },
  {
   "cell_type": "code",
   "execution_count": 17,
   "id": "d19cfb80",
   "metadata": {},
   "outputs": [
    {
     "name": "stdout",
     "output_type": "stream",
     "text": [
      "Enter a number between 0 to 5: 2\n",
      "Two\n"
     ]
    }
   ],
   "source": [
    "a = int(input('Enter a number between 0 to 5: '))\n",
    "\n",
    "if a == 0:\n",
    "    print('Zero')\n",
    "elif a == 1:\n",
    "    print('One')\n",
    "elif a == 2:\n",
    "    print('Two')\n",
    "elif a == 3:\n",
    "    print('Three')\n",
    "elif a == 4:\n",
    "    print('Four')\n",
    "elif a == 5:\n",
    "    print('Five')\n",
    "else:\n",
    "    print('Invalid Input')\n"
   ]
  },
  {
   "cell_type": "code",
   "execution_count": 25,
   "id": "e9786f6c",
   "metadata": {},
   "outputs": [
    {
     "name": "stdout",
     "output_type": "stream",
     "text": [
      "Enter a number between 0 to 5: 3.5\n"
     ]
    },
    {
     "ename": "ValueError",
     "evalue": "invalid literal for int() with base 10: '3.5'",
     "output_type": "error",
     "traceback": [
      "\u001b[1;31m---------------------------------------------------------------------------\u001b[0m",
      "\u001b[1;31mValueError\u001b[0m                                Traceback (most recent call last)",
      "Cell \u001b[1;32mIn[25], line 1\u001b[0m\n\u001b[1;32m----> 1\u001b[0m a \u001b[38;5;241m=\u001b[39m \u001b[38;5;28mint\u001b[39m(\u001b[38;5;28minput\u001b[39m(\u001b[38;5;124m'\u001b[39m\u001b[38;5;124mEnter a number between 0 to 5: \u001b[39m\u001b[38;5;124m'\u001b[39m))\n\u001b[0;32m      3\u001b[0m \u001b[38;5;28;01mif\u001b[39;00m a \u001b[38;5;241m==\u001b[39m \u001b[38;5;241m0\u001b[39m:\n\u001b[0;32m      4\u001b[0m     \u001b[38;5;28mprint\u001b[39m(\u001b[38;5;124m'\u001b[39m\u001b[38;5;124mZero\u001b[39m\u001b[38;5;124m'\u001b[39m)\n",
      "\u001b[1;31mValueError\u001b[0m: invalid literal for int() with base 10: '3.5'"
     ]
    }
   ],
   "source": [
    "a = int(input('Enter a number between 0 to 5: '))\n",
    "if a == 0:\n",
    "    print('Zero')\n",
    "elif a == 1:\n",
    "    print('One')\n",
    "elif a == 2:\n",
    "    print('Two')\n",
    "elif a == 3:\n",
    "    print('Three')\n",
    "elif a == 4:\n",
    "    print('Four')\n",
    "elif a == 5:\n",
    "    print('Five')\n",
    "else:\n",
    "    print('Invalid Input')\n"
   ]
  },
  {
   "cell_type": "markdown",
   "id": "c4d184e8",
   "metadata": {},
   "source": [
    "a = '3.5' ---> . is a character \n",
    "interger does not have anything as a . \n",
    "convert string into float ---> . in float is a decimal value \n",
    "\n",
    "type cast float into an integer"
   ]
  },
  {
   "cell_type": "code",
   "execution_count": 26,
   "id": "91158fff",
   "metadata": {},
   "outputs": [
    {
     "ename": "ValueError",
     "evalue": "invalid literal for int() with base 10: '3.5'",
     "output_type": "error",
     "traceback": [
      "\u001b[1;31m---------------------------------------------------------------------------\u001b[0m",
      "\u001b[1;31mValueError\u001b[0m                                Traceback (most recent call last)",
      "Cell \u001b[1;32mIn[26], line 2\u001b[0m\n\u001b[0;32m      1\u001b[0m a \u001b[38;5;241m=\u001b[39m \u001b[38;5;124m'\u001b[39m\u001b[38;5;124m3.5\u001b[39m\u001b[38;5;124m'\u001b[39m\n\u001b[1;32m----> 2\u001b[0m b \u001b[38;5;241m=\u001b[39m \u001b[38;5;28mint\u001b[39m(a)\n",
      "\u001b[1;31mValueError\u001b[0m: invalid literal for int() with base 10: '3.5'"
     ]
    }
   ],
   "source": [
    "a = '3.5'\n",
    "b = int(a)"
   ]
  },
  {
   "cell_type": "code",
   "execution_count": 28,
   "id": "faaefdd5",
   "metadata": {},
   "outputs": [
    {
     "data": {
      "text/plain": [
       "3"
      ]
     },
     "execution_count": 28,
     "metadata": {},
     "output_type": "execute_result"
    }
   ],
   "source": [
    "a = '3.5'\n",
    "b = float(a)\n",
    "c = int(b)\n",
    "c"
   ]
  },
  {
   "cell_type": "code",
   "execution_count": null,
   "id": "0fc6d975",
   "metadata": {},
   "outputs": [],
   "source": [
    "3.5 = 3+0.5"
   ]
  },
  {
   "cell_type": "code",
   "execution_count": 31,
   "id": "f6012987",
   "metadata": {},
   "outputs": [
    {
     "name": "stdout",
     "output_type": "stream",
     "text": [
      "Please enter marks: 95\n",
      "Passed\n"
     ]
    }
   ],
   "source": [
    "b = int (input('Please enter marks: '))\n",
    "if b >= 35:\n",
    "    print ('Passed')\n",
    "elif b>= 60:\n",
    "    print ('and also in first class')\n",
    "else:\n",
    "    print ('failed') \n"
   ]
  },
  {
   "cell_type": "code",
   "execution_count": 33,
   "id": "d4332f2e",
   "metadata": {},
   "outputs": [
    {
     "name": "stdout",
     "output_type": "stream",
     "text": [
      "Please enter marks: 45\n",
      "Passed\n"
     ]
    }
   ],
   "source": [
    "b = int (input('Please enter marks: '))\n",
    "if b >= 35 and b<=60:\n",
    "    print ('Passed')\n",
    "elif b >= 35 and b>= 60:\n",
    "    print ('Passed and also in first class')\n",
    "else:\n",
    "    print ('failed') "
   ]
  },
  {
   "cell_type": "code",
   "execution_count": 35,
   "id": "ee60c882",
   "metadata": {},
   "outputs": [
    {
     "name": "stdout",
     "output_type": "stream",
     "text": [
      "Please enter marks: 60\n",
      "Passed and also in first class\n"
     ]
    }
   ],
   "source": [
    "b = int (input('Please enter marks: '))\n",
    "if b >= 35 and b<60:\n",
    "    print ('Passed')\n",
    "elif b >= 35 and b>= 60:\n",
    "    print ('Passed and also in first class')\n",
    "else:\n",
    "    print ('failed') "
   ]
  },
  {
   "cell_type": "code",
   "execution_count": 36,
   "id": "957536d7",
   "metadata": {},
   "outputs": [
    {
     "name": "stdout",
     "output_type": "stream",
     "text": [
      "Please enter marks: 25\n"
     ]
    }
   ],
   "source": [
    "b = int (input('Please enter marks: '))\n",
    "if b >= 35 and b<60:\n",
    "    print ('Passed')\n",
    "elif b >= 35 and b>= 60:\n",
    "    print ('Passed and also in first class')\n",
    " "
   ]
  },
  {
   "cell_type": "code",
   "execution_count": 37,
   "id": "a5b6f62c",
   "metadata": {
    "scrolled": true
   },
   "outputs": [
    {
     "name": "stdout",
     "output_type": "stream",
     "text": [
      "Please enter marks: 25\n",
      "failed\n"
     ]
    }
   ],
   "source": [
    "b = int (input('Please enter marks: '))\n",
    "\n",
    "if b >= 35 and b<60:\n",
    "    print ('Passed')\n",
    "elif b >= 35 and b>= 60 :\n",
    "    print ('Passed and also in first class')\n",
    "else:\n",
    "    print ('failed') "
   ]
  },
  {
   "cell_type": "code",
   "execution_count": 38,
   "id": "40e9fe35",
   "metadata": {},
   "outputs": [
    {
     "name": "stdout",
     "output_type": "stream",
     "text": [
      "Please enter marks: 25\n",
      "Failed\n"
     ]
    }
   ],
   "source": [
    "a = int (input('Please enter marks: '))\n",
    "\n",
    "print('Pass' if (a>=35 and a<60) else 'First Class' if (a>=35 and a>=60) else 'Failed')"
   ]
  },
  {
   "cell_type": "code",
   "execution_count": 39,
   "id": "b2f3f3cd",
   "metadata": {},
   "outputs": [
    {
     "name": "stdout",
     "output_type": "stream",
     "text": [
      "Please enter marks: 35\n",
      "Pass\n"
     ]
    }
   ],
   "source": [
    "a = int (input('Please enter marks: '))\n",
    "\n",
    "print('Pass' if (a>=35 and a<60) else 'First Class' if (a>=35 and a>=60) else 'Failed')"
   ]
  },
  {
   "cell_type": "code",
   "execution_count": 40,
   "id": "a2705313",
   "metadata": {},
   "outputs": [
    {
     "name": "stdout",
     "output_type": "stream",
     "text": [
      "Please enter marks: 60\n",
      "First Class\n"
     ]
    }
   ],
   "source": [
    "a = int (input('Please enter marks: '))\n",
    "\n",
    "print('Pass' if (a>=35 and a<60) else 'First Class' if (a>=60) else 'Failed')"
   ]
  },
  {
   "cell_type": "markdown",
   "id": "63df24f3",
   "metadata": {},
   "source": [
    "### Nested if else statement\n",
    "\n",
    "- When we have an if...else statement inside another if...else statement it is called a nested if else statement\n",
    "\n",
    "\n",
    "    Syntax:\n",
    "    \n",
    "        if condition-1:\n",
    "            code-1\n",
    "            if conidition-2:\n",
    "                code-2\n",
    "            else:\n",
    "                code-3\n",
    "        else:\n",
    "            if condition-2:\n",
    "                code-2\n",
    "            else:\n",
    "                code-3\n",
    "                code-4\n",
    "                \n",
    "                                     "
   ]
  },
  {
   "cell_type": "code",
   "execution_count": 41,
   "id": "d7b46167",
   "metadata": {},
   "outputs": [
    {
     "name": "stdout",
     "output_type": "stream",
     "text": [
      "Enter a character between A-Z or a-z: A\n",
      "A is a Vowel\n"
     ]
    }
   ],
   "source": [
    "# Take an alphabet from the user and check whether it is a vowel or a consonants\n",
    "\n",
    "vowels = 'aeiouAEIOU'\n",
    "\n",
    "a = input('Enter a character between A-Z or a-z: ')\n",
    "\n",
    "if a.isalpha(): # this checks that is my input a valid alphabet or not \n",
    "    if a in vowels:\n",
    "        print(f'{a} is a Vowel')\n",
    "    else:\n",
    "        print(f'{a} is a Consonant')\n",
    "else:\n",
    "    print('Invalid Input')"
   ]
  },
  {
   "cell_type": "code",
   "execution_count": 42,
   "id": "e0bbcd33",
   "metadata": {},
   "outputs": [
    {
     "name": "stdout",
     "output_type": "stream",
     "text": [
      "Enter a character between A-Z or a-z: Z\n",
      "Z is a Consonant\n"
     ]
    }
   ],
   "source": [
    "# Take an alphabet from the user and check whether it is a vowel or a consonants\n",
    "\n",
    "vowels = 'aeiouAEIOU'\n",
    "\n",
    "a = input('Enter a character between A-Z or a-z: ')\n",
    "\n",
    "if a.isalpha(): # this checks that is my input a valid alphabet or not \n",
    "    if a in vowels:\n",
    "        print(f'{a} is a Vowel')\n",
    "    else:\n",
    "        print(f'{a} is a Consonant')\n",
    "else:\n",
    "    print('Invalid Input')"
   ]
  },
  {
   "cell_type": "code",
   "execution_count": 43,
   "id": "82d8178b",
   "metadata": {},
   "outputs": [
    {
     "name": "stdout",
     "output_type": "stream",
     "text": [
      "Enter a character between A-Z or a-z: a\n",
      "a is a Vowel\n"
     ]
    }
   ],
   "source": [
    "# Take an alphabet from the user and check whether it is a vowel or a consonants\n",
    "\n",
    "vowels = 'aeiouAEIOU'\n",
    "\n",
    "a = input('Enter a character between A-Z or a-z: ')\n",
    "\n",
    "if a.isalpha(): # this checks that is my input a valid alphabet or not \n",
    "    if a in vowels:\n",
    "        print(f'{a} is a Vowel')\n",
    "    else:\n",
    "        print(f'{a} is a Consonant')\n",
    "else:\n",
    "    print('Invalid Input')"
   ]
  },
  {
   "cell_type": "code",
   "execution_count": 44,
   "id": "43358250",
   "metadata": {},
   "outputs": [
    {
     "name": "stdout",
     "output_type": "stream",
     "text": [
      "Enter a character between A-Z or a-z: q\n",
      "q is a Consonant\n"
     ]
    }
   ],
   "source": [
    "# Take an alphabet from the user and check whether it is a vowel or a consonants\n",
    "\n",
    "vowels = 'aeiouAEIOU'\n",
    "\n",
    "a = input('Enter a character between A-Z or a-z: ')\n",
    "\n",
    "if a.isalpha(): # this checks that is my input a valid alphabet or not \n",
    "    if a in vowels:\n",
    "        print(f'{a} is a Vowel')\n",
    "    else:\n",
    "        print(f'{a} is a Consonant')\n",
    "else:\n",
    "    print('Invalid Input')"
   ]
  },
  {
   "cell_type": "code",
   "execution_count": 47,
   "id": "c8e5170c",
   "metadata": {},
   "outputs": [
    {
     "name": "stdout",
     "output_type": "stream",
     "text": [
      "Enter any character or any number : 5\n",
      "5 is an odd number\n"
     ]
    }
   ],
   "source": [
    "# Take an input from the user and check whether if the input is a alphabet whether it is a vowel or a consonants\n",
    "# or if it is a number then is it an even or odd number\n",
    "\n",
    "vowels = 'aeiouAEIOU'\n",
    "\n",
    "a = input('Enter any character or any number : ')\n",
    "\n",
    "if a.isalpha(): # this checks that is my input a valid alphabet or not \n",
    "    if a in vowels:\n",
    "        print(f'{a} is a Vowel')\n",
    "    else:\n",
    "        print(f'{a} is a Consonant')\n",
    "else:\n",
    "    if a.isdecimal():\n",
    "        if int(a)%2 == 0:\n",
    "            print(f'{a} is an even number')\n",
    "        else:\n",
    "            print(f'{a} is an odd number')"
   ]
  },
  {
   "cell_type": "code",
   "execution_count": 48,
   "id": "53de53d8",
   "metadata": {},
   "outputs": [
    {
     "name": "stdout",
     "output_type": "stream",
     "text": [
      "Enter any character or any number : h\n",
      "h is a Consonant\n"
     ]
    }
   ],
   "source": [
    "# Take an input from the user and check whether if the input is a alphabet whether it is a vowel or a consonants\n",
    "# or if it is a number then is it an even or odd number\n",
    "\n",
    "vowels = 'aeiouAEIOU'\n",
    "\n",
    "a = input('Enter any character or any number : ')\n",
    "\n",
    "if a.isalpha(): # this checks that is my input a valid alphabet or not \n",
    "    if a in vowels:\n",
    "        print(f'{a} is a Vowel')\n",
    "    else:\n",
    "        print(f'{a} is a Consonant')\n",
    "else:\n",
    "    if a.isdecimal():\n",
    "        if int(a)%2 == 0:\n",
    "            print(f'{a} is an even number')\n",
    "        else:\n",
    "            print(f'{a} is an odd number')"
   ]
  },
  {
   "cell_type": "code",
   "execution_count": 49,
   "id": "139d1194",
   "metadata": {},
   "outputs": [
    {
     "name": "stdout",
     "output_type": "stream",
     "text": [
      "Enter any character or any number : @\n"
     ]
    }
   ],
   "source": [
    "# Take an input from the user and check whether if the input is a alphabet whether it is a vowel or a consonants\n",
    "# or if it is a number then is it an even or odd number\n",
    "\n",
    "vowels = 'aeiouAEIOU'\n",
    "\n",
    "a = input('Enter any character or any number : ')\n",
    "\n",
    "if a.isalpha(): # this checks that is my input a valid alphabet or not \n",
    "    if a in vowels:\n",
    "        print(f'{a} is a Vowel')\n",
    "    else:\n",
    "        print(f'{a} is a Consonant')\n",
    "else:\n",
    "    if a.isdecimal():\n",
    "        if int(a)%2 == 0:\n",
    "            print(f'{a} is an even number')\n",
    "        else:\n",
    "            print(f'{a} is an odd number')"
   ]
  },
  {
   "cell_type": "code",
   "execution_count": 50,
   "id": "c6ae49c6",
   "metadata": {},
   "outputs": [
    {
     "name": "stdout",
     "output_type": "stream",
     "text": [
      "Enter any character or any number : 5\n",
      "5 is an odd number\n"
     ]
    }
   ],
   "source": [
    "# Take an input from the user and check whether if the input is a alphabet whether it is a vowel or a consonants\n",
    "# or if it is a number then is it an even or odd number\n",
    "\n",
    "vowels = 'aeiouAEIOU'\n",
    "\n",
    "a = input('Enter any character or any number : ')\n",
    "\n",
    "if a.isalpha(): # this checks that is my input a valid alphabet or not \n",
    "    if a in vowels:\n",
    "        print(f'{a} is a Vowel')\n",
    "    else:\n",
    "        print(f'{a} is a Consonant')\n",
    "elif a.isdecimal():\n",
    "    if int(a)%2 == 0:\n",
    "        print(f'{a} is an even number')\n",
    "    else:\n",
    "        print(f'{a} is an odd number')\n",
    "else:\n",
    "    print('Invalid Input')"
   ]
  },
  {
   "cell_type": "code",
   "execution_count": 51,
   "id": "5905e4e9",
   "metadata": {},
   "outputs": [
    {
     "name": "stdout",
     "output_type": "stream",
     "text": [
      "Enter any character or any number : G\n",
      "G is a Consonant\n"
     ]
    }
   ],
   "source": [
    "# Take an input from the user and check whether if the input is a alphabet whether it is a vowel or a consonants\n",
    "# or if it is a number then is it an even or odd number\n",
    "\n",
    "vowels = 'aeiouAEIOU'\n",
    "\n",
    "a = input('Enter any character or any number : ')\n",
    "\n",
    "if a.isalpha(): # this checks that is my input a valid alphabet or not \n",
    "    if a in vowels:\n",
    "        print(f'{a} is a Vowel')\n",
    "    else:\n",
    "        print(f'{a} is a Consonant')\n",
    "elif a.isdecimal():\n",
    "    if int(a)%2 == 0:\n",
    "        print(f'{a} is an even number')\n",
    "    else:\n",
    "        print(f'{a} is an odd number')\n",
    "else:\n",
    "    print('Invalid Input')"
   ]
  },
  {
   "cell_type": "code",
   "execution_count": 52,
   "id": "2802133c",
   "metadata": {},
   "outputs": [
    {
     "name": "stdout",
     "output_type": "stream",
     "text": [
      "Enter any character or any number : @\n",
      "Invalid Input\n"
     ]
    }
   ],
   "source": [
    "# Take an input from the user and check whether if the input is a alphabet whether it is a vowel or a consonants\n",
    "# or if it is a number then is it an even or odd number\n",
    "\n",
    "vowels = 'aeiouAEIOU'\n",
    "\n",
    "a = input('Enter any character or any number : ')\n",
    "\n",
    "if a.isalpha(): # this checks that is my input a valid alphabet or not \n",
    "    if a in vowels:\n",
    "        print(f'{a} is a Vowel')\n",
    "    else:\n",
    "        print(f'{a} is a Consonant')\n",
    "elif a.isdecimal():\n",
    "    if int(a)%2 == 0:\n",
    "        print(f'{a} is an even number')\n",
    "    else:\n",
    "        print(f'{a} is an odd number')\n",
    "else:\n",
    "    print('Invalid Input')"
   ]
  },
  {
   "cell_type": "code",
   "execution_count": null,
   "id": "effbf093",
   "metadata": {},
   "outputs": [],
   "source": [
    "isdigit will be True if the character are going to be digits, superscript and subscript\n",
    "isdecimal will be True only if all the character are digits"
   ]
  },
  {
   "cell_type": "code",
   "execution_count": 53,
   "id": "f8e811ce",
   "metadata": {},
   "outputs": [
    {
     "name": "stdout",
     "output_type": "stream",
     "text": [
      "Enter any character or any number : G3\n",
      "Invalid Input\n"
     ]
    }
   ],
   "source": [
    "# Take an input from the user and check whether if the input is a alphabet whether it is a vowel or a consonants\n",
    "# or if it is a number then is it an even or odd number\n",
    "\n",
    "vowels = 'aeiouAEIOU'\n",
    "\n",
    "a = input('Enter any character or any number : ')\n",
    "\n",
    "if a.isalpha(): # this checks that is my input a valid alphabet or not \n",
    "    if a in vowels:\n",
    "        print(f'{a} is a Vowel')\n",
    "    else:\n",
    "        print(f'{a} is a Consonant')\n",
    "elif a.isdecimal():\n",
    "    if int(a)%2 == 0:\n",
    "        print(f'{a} is an even number')\n",
    "    else:\n",
    "        print(f'{a} is an odd number')\n",
    "else:\n",
    "    print('Invalid Input')"
   ]
  },
  {
   "cell_type": "code",
   "execution_count": 76,
   "id": "d81001dc",
   "metadata": {
    "scrolled": true
   },
   "outputs": [
    {
     "name": "stdout",
     "output_type": "stream",
     "text": [
      "Enter any character or any number : h\n"
     ]
    }
   ],
   "source": [
    "a = input('Enter any character or any number : ')\n",
    "\n",
    "if not (a.isalpha()): # this checks that is my input a valid alphabet or not \n",
    "    print(f'{a} is a special character')"
   ]
  },
  {
   "cell_type": "code",
   "execution_count": 75,
   "id": "f30265ca",
   "metadata": {},
   "outputs": [
    {
     "data": {
      "text/plain": [
       "False"
      ]
     },
     "execution_count": 75,
     "metadata": {},
     "output_type": "execute_result"
    }
   ],
   "source": [
    "a = 'z'\n",
    "not (a.isalpha())"
   ]
  },
  {
   "cell_type": "code",
   "execution_count": null,
   "id": "0488c6c7",
   "metadata": {},
   "outputs": [],
   "source": []
  }
 ],
 "metadata": {
  "kernelspec": {
   "display_name": "Python 3 (ipykernel)",
   "language": "python",
   "name": "python3"
  },
  "language_info": {
   "codemirror_mode": {
    "name": "ipython",
    "version": 3
   },
   "file_extension": ".py",
   "mimetype": "text/x-python",
   "name": "python",
   "nbconvert_exporter": "python",
   "pygments_lexer": "ipython3",
   "version": "3.11.5"
  }
 },
 "nbformat": 4,
 "nbformat_minor": 5
}
