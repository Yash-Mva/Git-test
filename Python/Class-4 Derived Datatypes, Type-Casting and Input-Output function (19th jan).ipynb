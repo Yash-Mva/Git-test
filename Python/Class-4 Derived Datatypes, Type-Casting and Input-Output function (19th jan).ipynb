{
 "cells": [
  {
   "cell_type": "markdown",
   "id": "b377d3ad",
   "metadata": {},
   "source": [
    "### Derived Data-types\n",
    "\n",
    "- These are container types that are used to store multiple values or multiple elements at the same time\n",
    "- We are going to store multiple primitive and dervied dattype in it which can be similar or non-similar datatype \n",
    "\n",
    "    - list\n",
    "    - tuple\n",
    "    - dictionary\n",
    "    - set\n",
    "    - frozenset"
   ]
  },
  {
   "cell_type": "markdown",
   "id": "13716a33",
   "metadata": {},
   "source": [
    "### List\n",
    "\n",
    "- anything written inside a square bracket [.....], will be considered as a list datatype \n",
    "- each element should be seperated by a comma(,) from each other \n",
    "- a list can have heterogenous (different type ) elements in it\n",
    "- a list can have duplicate values in it \n",
    "- item assignment is possible in list\n",
    "- we can add or remove anything from a list that means they are mutable "
   ]
  },
  {
   "cell_type": "code",
   "execution_count": 1,
   "id": "0eea927c",
   "metadata": {},
   "outputs": [
    {
     "name": "stdout",
     "output_type": "stream",
     "text": [
      "[1, 2, 3, 4, 5, 6] <class 'list'>\n"
     ]
    }
   ],
   "source": [
    "lst = [1,2,3,4,5,6]\n",
    "print(lst, type(lst))"
   ]
  },
  {
   "cell_type": "code",
   "execution_count": 2,
   "id": "752da595",
   "metadata": {},
   "outputs": [
    {
     "name": "stdout",
     "output_type": "stream",
     "text": [
      "[1, 2.0, (4+6j), 'Python', None, True, range(0, 5), [1, 2, 3]] <class 'list'>\n"
     ]
    }
   ],
   "source": [
    "lst = [1, 2.0, 4+6j, 'Python', None, True, range(5), [1,2, 3]]\n",
    "print(lst, type(lst))"
   ]
  },
  {
   "cell_type": "code",
   "execution_count": 3,
   "id": "010c58fb",
   "metadata": {},
   "outputs": [
    {
     "name": "stdout",
     "output_type": "stream",
     "text": [
      "1 <class 'int'>\n",
      "2.0 <class 'float'>\n",
      "(4+6j) <class 'complex'>\n",
      "Python <class 'str'>\n",
      "None <class 'NoneType'>\n",
      "True <class 'bool'>\n",
      "range(0, 5) <class 'range'>\n",
      "[1, 2, 3] <class 'list'>\n"
     ]
    }
   ],
   "source": [
    "for i in lst:\n",
    "    print(i, type(i))"
   ]
  },
  {
   "cell_type": "code",
   "execution_count": 15,
   "id": "31de51c4",
   "metadata": {},
   "outputs": [
    {
     "name": "stdout",
     "output_type": "stream",
     "text": [
      "[1, 2, 3, 4, 5, 4, 3, 2, 1]\n"
     ]
    }
   ],
   "source": [
    "lst = [1,2,3,4,5,4,3,2,1]\n",
    "print(lst)"
   ]
  },
  {
   "cell_type": "code",
   "execution_count": 7,
   "id": "c3001d50",
   "metadata": {
    "scrolled": true
   },
   "outputs": [
    {
     "name": "stdout",
     "output_type": "stream",
     "text": [
      "[1, 2, 3, 4, 5, 4, 3, 2, 1, 100]\n"
     ]
    }
   ],
   "source": [
    "lst = lst + [100]\n",
    "print(lst)"
   ]
  },
  {
   "cell_type": "code",
   "execution_count": 9,
   "id": "f9d5d526",
   "metadata": {},
   "outputs": [
    {
     "ename": "TypeError",
     "evalue": "unsupported operand type(s) for -: 'list' and 'list'",
     "output_type": "error",
     "traceback": [
      "\u001b[1;31m---------------------------------------------------------------------------\u001b[0m",
      "\u001b[1;31mTypeError\u001b[0m                                 Traceback (most recent call last)",
      "Cell \u001b[1;32mIn[9], line 1\u001b[0m\n\u001b[1;32m----> 1\u001b[0m lst \u001b[38;5;241m=\u001b[39m lst \u001b[38;5;241m-\u001b[39m [\u001b[38;5;241m100\u001b[39m]\n\u001b[0;32m      2\u001b[0m \u001b[38;5;28mprint\u001b[39m(lst)\n",
      "\u001b[1;31mTypeError\u001b[0m: unsupported operand type(s) for -: 'list' and 'list'"
     ]
    }
   ],
   "source": [
    "lst = lst - [100]\n",
    "print(lst)"
   ]
  },
  {
   "cell_type": "code",
   "execution_count": 16,
   "id": "cd520f68",
   "metadata": {},
   "outputs": [
    {
     "data": {
      "text/plain": [
       "[1, 2, 3, 4, 5, 4, 3, 2, 1]"
      ]
     },
     "execution_count": 16,
     "metadata": {},
     "output_type": "execute_result"
    }
   ],
   "source": [
    "lst"
   ]
  },
  {
   "cell_type": "code",
   "execution_count": 17,
   "id": "92f528d2",
   "metadata": {},
   "outputs": [
    {
     "data": {
      "text/plain": [
       "2366646888256"
      ]
     },
     "execution_count": 17,
     "metadata": {},
     "output_type": "execute_result"
    }
   ],
   "source": [
    "id(lst)"
   ]
  },
  {
   "cell_type": "code",
   "execution_count": 18,
   "id": "c0c3195b",
   "metadata": {},
   "outputs": [],
   "source": [
    "lst.append(1)"
   ]
  },
  {
   "cell_type": "code",
   "execution_count": 19,
   "id": "09cd66cd",
   "metadata": {
    "scrolled": true
   },
   "outputs": [
    {
     "data": {
      "text/plain": [
       "[1, 2, 3, 4, 5, 4, 3, 2, 1, 1]"
      ]
     },
     "execution_count": 19,
     "metadata": {},
     "output_type": "execute_result"
    }
   ],
   "source": [
    "lst"
   ]
  },
  {
   "cell_type": "code",
   "execution_count": 20,
   "id": "4a264b41",
   "metadata": {},
   "outputs": [
    {
     "data": {
      "text/plain": [
       "2366646888256"
      ]
     },
     "execution_count": 20,
     "metadata": {},
     "output_type": "execute_result"
    }
   ],
   "source": [
    "id(lst)"
   ]
  },
  {
   "cell_type": "code",
   "execution_count": 22,
   "id": "fed74e7d",
   "metadata": {},
   "outputs": [],
   "source": [
    "lst.remove(5)"
   ]
  },
  {
   "cell_type": "code",
   "execution_count": 23,
   "id": "87746df4",
   "metadata": {},
   "outputs": [
    {
     "data": {
      "text/plain": [
       "[1, 2, 3, 4, 4, 3, 2, 1, 1]"
      ]
     },
     "execution_count": 23,
     "metadata": {},
     "output_type": "execute_result"
    }
   ],
   "source": [
    "lst"
   ]
  },
  {
   "cell_type": "code",
   "execution_count": 24,
   "id": "a52eddfc",
   "metadata": {
    "scrolled": true
   },
   "outputs": [
    {
     "data": {
      "text/plain": [
       "2366646888256"
      ]
     },
     "execution_count": 24,
     "metadata": {},
     "output_type": "execute_result"
    }
   ],
   "source": [
    "id(lst)"
   ]
  },
  {
   "cell_type": "code",
   "execution_count": 27,
   "id": "be63c125",
   "metadata": {
    "scrolled": true
   },
   "outputs": [
    {
     "data": {
      "text/plain": [
       "[1, 2, 3, 4, 4, 3, 2, 1, 1]"
      ]
     },
     "execution_count": 27,
     "metadata": {},
     "output_type": "execute_result"
    }
   ],
   "source": [
    "lst"
   ]
  },
  {
   "cell_type": "code",
   "execution_count": 28,
   "id": "d8178cc6",
   "metadata": {},
   "outputs": [
    {
     "name": "stdout",
     "output_type": "stream",
     "text": [
      "[0, 2, 3, 4, 4, 3, 2, 1, 1]\n"
     ]
    }
   ],
   "source": [
    "lst[0] = 0\n",
    "print(lst)"
   ]
  },
  {
   "cell_type": "markdown",
   "id": "8cc12c1e",
   "metadata": {},
   "source": [
    "### Tuple \n",
    "\n",
    "- anything written inside a round bracket (.....), will be considered as a tuple datatype \n",
    "- each element should be seperated by a comma(,) from each other \n",
    "- a tuple can have heterogenous (different type ) elements in it\n",
    "- a tuple can have duplicate values in it \n",
    "- item assignmnet is not possible here \n",
    "- we cannot add or remove anything from a tuple that means they are immutable "
   ]
  },
  {
   "cell_type": "code",
   "execution_count": 25,
   "id": "84752534",
   "metadata": {},
   "outputs": [
    {
     "name": "stdout",
     "output_type": "stream",
     "text": [
      "(1, 2, 3, 4, 5) <class 'tuple'>\n"
     ]
    }
   ],
   "source": [
    "t = (1,2,3,4,5)\n",
    "print(t, type(t))"
   ]
  },
  {
   "cell_type": "code",
   "execution_count": 26,
   "id": "97d2ba9a",
   "metadata": {},
   "outputs": [
    {
     "name": "stdout",
     "output_type": "stream",
     "text": [
      "1 <class 'int'>\n",
      "2.0 <class 'float'>\n",
      "(4+6j) <class 'complex'>\n",
      "Python <class 'str'>\n",
      "None <class 'NoneType'>\n",
      "True <class 'bool'>\n",
      "range(0, 5) <class 'range'>\n",
      "[1, 2, 3] <class 'list'>\n",
      "(1, 2, 3) <class 'tuple'>\n"
     ]
    }
   ],
   "source": [
    "t = (1, 2.0, 4+6j, 'Python', None, True, range(5), [1,2, 3],(1,2,3))\n",
    "for i in t:\n",
    "    print(i, type(i))"
   ]
  },
  {
   "cell_type": "code",
   "execution_count": 29,
   "id": "d6eee6be",
   "metadata": {},
   "outputs": [
    {
     "data": {
      "text/plain": [
       "(1, 2.0, (4+6j), 'Python', None, True, range(0, 5), [1, 2, 3], (1, 2, 3))"
      ]
     },
     "execution_count": 29,
     "metadata": {},
     "output_type": "execute_result"
    }
   ],
   "source": [
    "t"
   ]
  },
  {
   "cell_type": "code",
   "execution_count": 30,
   "id": "be772993",
   "metadata": {},
   "outputs": [
    {
     "ename": "TypeError",
     "evalue": "'tuple' object does not support item assignment",
     "output_type": "error",
     "traceback": [
      "\u001b[1;31m---------------------------------------------------------------------------\u001b[0m",
      "\u001b[1;31mTypeError\u001b[0m                                 Traceback (most recent call last)",
      "Cell \u001b[1;32mIn[30], line 1\u001b[0m\n\u001b[1;32m----> 1\u001b[0m t[\u001b[38;5;241m0\u001b[39m] \u001b[38;5;241m=\u001b[39m \u001b[38;5;241m0\u001b[39m\n",
      "\u001b[1;31mTypeError\u001b[0m: 'tuple' object does not support item assignment"
     ]
    }
   ],
   "source": [
    "t[0] = 0"
   ]
  },
  {
   "cell_type": "markdown",
   "id": "a6a6a359",
   "metadata": {},
   "source": [
    "### How list and tuple are actually different ?"
   ]
  },
  {
   "cell_type": "code",
   "execution_count": 31,
   "id": "2eeb9059",
   "metadata": {},
   "outputs": [
    {
     "name": "stdout",
     "output_type": "stream",
     "text": [
      "[1, 2, 3, 4, 5]\n"
     ]
    }
   ],
   "source": [
    "lst = [1,2,3,4,5]\n",
    "print(lst)"
   ]
  },
  {
   "cell_type": "code",
   "execution_count": 32,
   "id": "2a094605",
   "metadata": {},
   "outputs": [
    {
     "name": "stdout",
     "output_type": "stream",
     "text": [
      "2366660959488\n"
     ]
    }
   ],
   "source": [
    "print(id(lst))"
   ]
  },
  {
   "cell_type": "code",
   "execution_count": 33,
   "id": "58e012c9",
   "metadata": {},
   "outputs": [],
   "source": [
    "lst.remove(2)"
   ]
  },
  {
   "cell_type": "code",
   "execution_count": 34,
   "id": "64c529db",
   "metadata": {},
   "outputs": [
    {
     "data": {
      "text/plain": [
       "[1, 3, 4, 5]"
      ]
     },
     "execution_count": 34,
     "metadata": {},
     "output_type": "execute_result"
    }
   ],
   "source": [
    "lst"
   ]
  },
  {
   "cell_type": "code",
   "execution_count": 36,
   "id": "20906427",
   "metadata": {},
   "outputs": [
    {
     "name": "stdout",
     "output_type": "stream",
     "text": [
      "2366660959488\n"
     ]
    }
   ],
   "source": [
    "print(id(lst))"
   ]
  },
  {
   "cell_type": "code",
   "execution_count": 37,
   "id": "3a617e9c",
   "metadata": {},
   "outputs": [
    {
     "name": "stdout",
     "output_type": "stream",
     "text": [
      "(1, 2, 3, 4) <class 'tuple'> 2366661049888\n"
     ]
    }
   ],
   "source": [
    "t = (1,2,3,4)\n",
    "print(t, type(t), id(t))"
   ]
  },
  {
   "cell_type": "code",
   "execution_count": 38,
   "id": "92f7bf87",
   "metadata": {},
   "outputs": [
    {
     "ename": "AttributeError",
     "evalue": "'tuple' object has no attribute 'append'",
     "output_type": "error",
     "traceback": [
      "\u001b[1;31m---------------------------------------------------------------------------\u001b[0m",
      "\u001b[1;31mAttributeError\u001b[0m                            Traceback (most recent call last)",
      "Cell \u001b[1;32mIn[38], line 1\u001b[0m\n\u001b[1;32m----> 1\u001b[0m t\u001b[38;5;241m.\u001b[39mappend(\u001b[38;5;241m9\u001b[39m)\n",
      "\u001b[1;31mAttributeError\u001b[0m: 'tuple' object has no attribute 'append'"
     ]
    }
   ],
   "source": [
    "t.append(9)"
   ]
  },
  {
   "cell_type": "code",
   "execution_count": 39,
   "id": "ae3e907c",
   "metadata": {},
   "outputs": [
    {
     "ename": "AttributeError",
     "evalue": "'tuple' object has no attribute 'remove'",
     "output_type": "error",
     "traceback": [
      "\u001b[1;31m---------------------------------------------------------------------------\u001b[0m",
      "\u001b[1;31mAttributeError\u001b[0m                            Traceback (most recent call last)",
      "Cell \u001b[1;32mIn[39], line 1\u001b[0m\n\u001b[1;32m----> 1\u001b[0m t\u001b[38;5;241m.\u001b[39mremove(\u001b[38;5;241m1\u001b[39m)\n",
      "\u001b[1;31mAttributeError\u001b[0m: 'tuple' object has no attribute 'remove'"
     ]
    }
   ],
   "source": [
    "t.remove(1)"
   ]
  },
  {
   "cell_type": "markdown",
   "id": "ba10e5fb",
   "metadata": {},
   "source": [
    "### Dictionary \n",
    "\n",
    "- a dictionary is a collection of keys and value pair \n",
    "- it will be in curly brackets {}\n",
    "- every key:value pair is seperated by a comma(,)\n",
    "    - key can have immutable datatype such as int, float, string, tuple\n",
    "    - values can have mutable datatype such as list, dictionary etc\n",
    "- key should have unique values in it whereas values can have duplicate values "
   ]
  },
  {
   "cell_type": "code",
   "execution_count": 40,
   "id": "5c1e3633",
   "metadata": {},
   "outputs": [
    {
     "name": "stdout",
     "output_type": "stream",
     "text": [
      "{'name': 'Mayank', 'age': 32, 'city': 'Bengaluru'} <class 'dict'>\n"
     ]
    }
   ],
   "source": [
    "d = {'name':'Mayank', 'age':32, 'city':'Bengaluru'}\n",
    "print(d, type(d))"
   ]
  },
  {
   "cell_type": "code",
   "execution_count": 42,
   "id": "05b5e973",
   "metadata": {},
   "outputs": [
    {
     "data": {
      "text/plain": [
       "dict_keys(['name', 'age', 'city'])"
      ]
     },
     "execution_count": 42,
     "metadata": {},
     "output_type": "execute_result"
    }
   ],
   "source": [
    "d.keys()"
   ]
  },
  {
   "cell_type": "code",
   "execution_count": 43,
   "id": "d54c99a0",
   "metadata": {},
   "outputs": [
    {
     "data": {
      "text/plain": [
       "dict_values(['Mayank', 32, 'Bengaluru'])"
      ]
     },
     "execution_count": 43,
     "metadata": {},
     "output_type": "execute_result"
    }
   ],
   "source": [
    "d.values()"
   ]
  },
  {
   "cell_type": "code",
   "execution_count": 50,
   "id": "c6d6632f",
   "metadata": {},
   "outputs": [
    {
     "name": "stdout",
     "output_type": "stream",
     "text": [
      "{'name': ['Mayank', 'Geetika', 'Priya', 'Rishabh', 'Deepak'], 'age': [32, 28, 27, 32, 25, 6], 'salary': [75000, 80000, 65000, 65000, 23000]} <class 'dict'>\n"
     ]
    }
   ],
   "source": [
    "emp = {'name':['Mayank', 'Geetika', 'Priya', 'Rishabh', 'Deepak'],\n",
    "       'age':[32, 28, 27, 32, 25, 6],\n",
    "       'salary':[75000, 80000, 65000, 65000, 23000]}\n",
    "\n",
    "print(emp, type(emp))"
   ]
  },
  {
   "cell_type": "code",
   "execution_count": 45,
   "id": "4bfbe8d6",
   "metadata": {},
   "outputs": [
    {
     "data": {
      "text/plain": [
       "dict_keys(['name', 'age', 'salary'])"
      ]
     },
     "execution_count": 45,
     "metadata": {},
     "output_type": "execute_result"
    }
   ],
   "source": [
    "emp.keys()"
   ]
  },
  {
   "cell_type": "code",
   "execution_count": 46,
   "id": "72b20985",
   "metadata": {},
   "outputs": [
    {
     "data": {
      "text/plain": [
       "dict_values([['Mayank', 'Geetika', 'Priya', 'Rishabh', 'Deepak'], [32, 28, 27, 32, 25], [75000, 80000, 65000, 65000, 23000]])"
      ]
     },
     "execution_count": 46,
     "metadata": {},
     "output_type": "execute_result"
    }
   ],
   "source": [
    "emp.values()"
   ]
  },
  {
   "cell_type": "code",
   "execution_count": 57,
   "id": "93aaa6e5",
   "metadata": {},
   "outputs": [],
   "source": [
    "a = emp['name'][1], emp['age'][1]"
   ]
  },
  {
   "cell_type": "code",
   "execution_count": 58,
   "id": "766835bf",
   "metadata": {
    "scrolled": true
   },
   "outputs": [
    {
     "data": {
      "text/plain": [
       "('Geetika', 28)"
      ]
     },
     "execution_count": 58,
     "metadata": {},
     "output_type": "execute_result"
    }
   ],
   "source": [
    "a"
   ]
  },
  {
   "cell_type": "code",
   "execution_count": 59,
   "id": "3486494f",
   "metadata": {
    "scrolled": true
   },
   "outputs": [
    {
     "ename": "TypeError",
     "evalue": "'tuple' object does not support item assignment",
     "output_type": "error",
     "traceback": [
      "\u001b[1;31m---------------------------------------------------------------------------\u001b[0m",
      "\u001b[1;31mTypeError\u001b[0m                                 Traceback (most recent call last)",
      "Cell \u001b[1;32mIn[59], line 1\u001b[0m\n\u001b[1;32m----> 1\u001b[0m a[\u001b[38;5;241m0\u001b[39m] \u001b[38;5;241m=\u001b[39m \u001b[38;5;124m'\u001b[39m\u001b[38;5;124mRitika\u001b[39m\u001b[38;5;124m'\u001b[39m\n",
      "\u001b[1;31mTypeError\u001b[0m: 'tuple' object does not support item assignment"
     ]
    }
   ],
   "source": [
    "a[0] = 'Ritika'"
   ]
  },
  {
   "cell_type": "code",
   "execution_count": 60,
   "id": "b1a1b691",
   "metadata": {},
   "outputs": [
    {
     "ename": "KeyError",
     "evalue": "('name', 'age')",
     "output_type": "error",
     "traceback": [
      "\u001b[1;31m---------------------------------------------------------------------------\u001b[0m",
      "\u001b[1;31mKeyError\u001b[0m                                  Traceback (most recent call last)",
      "Cell \u001b[1;32mIn[60], line 1\u001b[0m\n\u001b[1;32m----> 1\u001b[0m emp[\u001b[38;5;124m'\u001b[39m\u001b[38;5;124mname\u001b[39m\u001b[38;5;124m'\u001b[39m, \u001b[38;5;124m'\u001b[39m\u001b[38;5;124mage\u001b[39m\u001b[38;5;124m'\u001b[39m]\n",
      "\u001b[1;31mKeyError\u001b[0m: ('name', 'age')"
     ]
    }
   ],
   "source": [
    "emp['name', 'age']"
   ]
  },
  {
   "cell_type": "markdown",
   "id": "4002c4fd",
   "metadata": {},
   "source": [
    "### set\n",
    "\n",
    "- Anything which we will write in the curly bracket {}\n",
    "- comma is used to seperate different elements \n",
    "- a set can have hetrogenous (different type) elements in it \n",
    "- a set does not allow any duplicate value \n",
    "- a non sequential datatype means it will not follow indexing\n",
    "- it is an un-ordered collection of datatype s\n",
    "- set is a muatble data"
   ]
  },
  {
   "cell_type": "code",
   "execution_count": 61,
   "id": "5c7a5af8",
   "metadata": {},
   "outputs": [
    {
     "name": "stdout",
     "output_type": "stream",
     "text": [
      "{1, 2, 3, 4, 5, 6} <class 'set'>\n"
     ]
    }
   ],
   "source": [
    "s = {1,2,3,4,5,6}\n",
    "print(s, type(s))"
   ]
  },
  {
   "cell_type": "code",
   "execution_count": 62,
   "id": "4fb48bab",
   "metadata": {},
   "outputs": [
    {
     "name": "stdout",
     "output_type": "stream",
     "text": [
      "{1, 2, 3, 4, 5, 6, 7}\n"
     ]
    }
   ],
   "source": [
    "s = {3,2,1,3,4,5,6,2,3,4,6,7}\n",
    "print(s)"
   ]
  },
  {
   "cell_type": "code",
   "execution_count": 64,
   "id": "12d050cf",
   "metadata": {},
   "outputs": [
    {
     "data": {
      "text/plain": [
       "{' ', 'G', 'M', 'a', 'h', 'i', 'k', 'n', 'y'}"
      ]
     },
     "execution_count": 64,
     "metadata": {},
     "output_type": "execute_result"
    }
   ],
   "source": [
    "b = 'Mayank Ghai'\n",
    "set(b)"
   ]
  },
  {
   "cell_type": "code",
   "execution_count": null,
   "id": "96f7c145",
   "metadata": {},
   "outputs": [],
   "source": [
    "ASCII - American standard code for information interchange"
   ]
  },
  {
   "cell_type": "code",
   "execution_count": 65,
   "id": "4e78fdfc",
   "metadata": {
    "scrolled": false
   },
   "outputs": [
    {
     "data": {
      "text/plain": [
       "32"
      ]
     },
     "execution_count": 65,
     "metadata": {},
     "output_type": "execute_result"
    }
   ],
   "source": [
    "ord(' ')"
   ]
  },
  {
   "cell_type": "code",
   "execution_count": 66,
   "id": "df7fd76c",
   "metadata": {},
   "outputs": [
    {
     "data": {
      "text/plain": [
       "71"
      ]
     },
     "execution_count": 66,
     "metadata": {},
     "output_type": "execute_result"
    }
   ],
   "source": [
    "ord('G')"
   ]
  },
  {
   "cell_type": "code",
   "execution_count": 69,
   "id": "ddcd998e",
   "metadata": {},
   "outputs": [
    {
     "data": {
      "text/plain": [
       "65"
      ]
     },
     "execution_count": 69,
     "metadata": {},
     "output_type": "execute_result"
    }
   ],
   "source": [
    "ord('A')"
   ]
  },
  {
   "cell_type": "code",
   "execution_count": 67,
   "id": "8a633285",
   "metadata": {
    "scrolled": true
   },
   "outputs": [
    {
     "data": {
      "text/plain": [
       "97"
      ]
     },
     "execution_count": 67,
     "metadata": {},
     "output_type": "execute_result"
    }
   ],
   "source": [
    "ord('a')"
   ]
  },
  {
   "cell_type": "code",
   "execution_count": 68,
   "id": "6b971f04",
   "metadata": {},
   "outputs": [
    {
     "data": {
      "text/plain": [
       "121"
      ]
     },
     "execution_count": 68,
     "metadata": {},
     "output_type": "execute_result"
    }
   ],
   "source": [
    "ord('y')"
   ]
  },
  {
   "cell_type": "code",
   "execution_count": 70,
   "id": "97399597",
   "metadata": {},
   "outputs": [
    {
     "name": "stdout",
     "output_type": "stream",
     "text": [
      "{'k', 'h', 'n', 'M', 'a', 'G', ' ', 'i', 'y'}\n"
     ]
    }
   ],
   "source": [
    "print(set(b))"
   ]
  },
  {
   "cell_type": "code",
   "execution_count": 71,
   "id": "5163f4fd",
   "metadata": {},
   "outputs": [
    {
     "name": "stdout",
     "output_type": "stream",
     "text": [
      "{3, 4, 5, 6, 777, 778, 11, 22, 88} <class 'set'>\n"
     ]
    }
   ],
   "source": [
    "s1={11,22,3,3,4,4,5,6,777,778,88}\n",
    "print(s1, type(s1)) \n"
   ]
  },
  {
   "cell_type": "markdown",
   "id": "42eaf592",
   "metadata": {},
   "source": [
    "### Frozenset()\n",
    "\n",
    "- whenever we pass an itearble object (string, list, tuple, sets) is written inside the frozenset() then it becomes a frozenset\n",
    "- comma is used to seperate different elements \n",
    "- a frozenset can have hetrogenous (different type) elements in it \n",
    "- a frozenset does not allow any duplicate value \n",
    "- a non sequential datatype means it will not follow indexing\n",
    "- it is an un-ordered collection of datatype\n",
    "- frozenset is a immutable data"
   ]
  },
  {
   "cell_type": "code",
   "execution_count": 72,
   "id": "1111ac8f",
   "metadata": {},
   "outputs": [
    {
     "name": "stdout",
     "output_type": "stream",
     "text": [
      "frozenset({'k', 'm', 'h', 'g', 'n', 't', 'l', 'a', ' ', 'u', 'i', 'y'}) <class 'frozenset'>\n"
     ]
    }
   ],
   "source": [
    "my_str = 'mayank atul ghai' #'m'+'a'+'y'+'a'+'n'\n",
    "a = frozenset(my_str)\n",
    "print(a, type(a))"
   ]
  },
  {
   "cell_type": "markdown",
   "id": "f03e98e3",
   "metadata": {},
   "source": [
    "### Mutable and Immutable \n",
    "\n",
    "#### Mutable data-type\n",
    "\n",
    "   - any datatype where we can change the value or we can add a value or we cn remove a value are called mutable datatype \n",
    "   - if something is added or removed or changed the memory space where the thing is stored will remain the same as when the object was first declared\n",
    "   - __Example:__ list, dictionary"
   ]
  },
  {
   "cell_type": "code",
   "execution_count": 77,
   "id": "c80aab2b",
   "metadata": {},
   "outputs": [
    {
     "name": "stdout",
     "output_type": "stream",
     "text": [
      "[1, 2, 3, 4] 2366663680064\n"
     ]
    }
   ],
   "source": [
    "lst = [1,2,3,4]\n",
    "print(lst, id(lst))"
   ]
  },
  {
   "cell_type": "code",
   "execution_count": 78,
   "id": "3569b9ef",
   "metadata": {},
   "outputs": [],
   "source": [
    "lst[3] = 5\n"
   ]
  },
  {
   "cell_type": "code",
   "execution_count": 79,
   "id": "7b74d34f",
   "metadata": {},
   "outputs": [
    {
     "data": {
      "text/plain": [
       "[1, 2, 3, 5]"
      ]
     },
     "execution_count": 79,
     "metadata": {},
     "output_type": "execute_result"
    }
   ],
   "source": [
    "lst"
   ]
  },
  {
   "cell_type": "code",
   "execution_count": 80,
   "id": "72f8c23e",
   "metadata": {},
   "outputs": [
    {
     "data": {
      "text/plain": [
       "2366663680064"
      ]
     },
     "execution_count": 80,
     "metadata": {},
     "output_type": "execute_result"
    }
   ],
   "source": [
    "id(lst)"
   ]
  },
  {
   "cell_type": "code",
   "execution_count": 81,
   "id": "1296ca2d",
   "metadata": {},
   "outputs": [
    {
     "name": "stdout",
     "output_type": "stream",
     "text": [
      "[1, 2, 3, 5, 257] <class 'list'>\n"
     ]
    }
   ],
   "source": [
    "lst.append(257)\n",
    "print(lst, type(lst))"
   ]
  },
  {
   "cell_type": "code",
   "execution_count": 82,
   "id": "47387be7",
   "metadata": {},
   "outputs": [
    {
     "data": {
      "text/plain": [
       "2366663680064"
      ]
     },
     "execution_count": 82,
     "metadata": {},
     "output_type": "execute_result"
    }
   ],
   "source": [
    "id(lst)"
   ]
  },
  {
   "cell_type": "code",
   "execution_count": 83,
   "id": "c311d4df",
   "metadata": {},
   "outputs": [
    {
     "name": "stdout",
     "output_type": "stream",
     "text": [
      "1 <class 'int'> 140720262714152\n",
      "2 <class 'int'> 140720262714184\n",
      "3 <class 'int'> 140720262714216\n",
      "5 <class 'int'> 140720262714280\n",
      "257 <class 'int'> 2366673456720\n"
     ]
    }
   ],
   "source": [
    "for i in range(len(lst)):\n",
    "    print(lst[i], type(lst[i]), id(lst[i]))"
   ]
  },
  {
   "cell_type": "code",
   "execution_count": 84,
   "id": "09f59fb3",
   "metadata": {},
   "outputs": [],
   "source": [
    "lst.append(257)"
   ]
  },
  {
   "cell_type": "code",
   "execution_count": 85,
   "id": "6d9df417",
   "metadata": {},
   "outputs": [
    {
     "data": {
      "text/plain": [
       "[1, 2, 3, 5, 257, 257]"
      ]
     },
     "execution_count": 85,
     "metadata": {},
     "output_type": "execute_result"
    }
   ],
   "source": [
    "lst"
   ]
  },
  {
   "cell_type": "code",
   "execution_count": 86,
   "id": "afa89163",
   "metadata": {},
   "outputs": [
    {
     "name": "stdout",
     "output_type": "stream",
     "text": [
      "1 <class 'int'> 140720262714152\n",
      "2 <class 'int'> 140720262714184\n",
      "3 <class 'int'> 140720262714216\n",
      "5 <class 'int'> 140720262714280\n",
      "257 <class 'int'> 2366673456720\n",
      "257 <class 'int'> 2366659738960\n"
     ]
    }
   ],
   "source": [
    "for i in range(len(lst)):\n",
    "    print(lst[i], type(lst[i]), id(lst[i]))"
   ]
  },
  {
   "cell_type": "code",
   "execution_count": 87,
   "id": "5273335d",
   "metadata": {},
   "outputs": [
    {
     "data": {
      "text/plain": [
       "140720262714152"
      ]
     },
     "execution_count": 87,
     "metadata": {},
     "output_type": "execute_result"
    }
   ],
   "source": [
    "id(1)"
   ]
  },
  {
   "cell_type": "code",
   "execution_count": 89,
   "id": "c47022a7",
   "metadata": {},
   "outputs": [],
   "source": [
    "lst[0] = 5"
   ]
  },
  {
   "cell_type": "code",
   "execution_count": 90,
   "id": "a8ef37d6",
   "metadata": {},
   "outputs": [
    {
     "data": {
      "text/plain": [
       "[5, 2, 3, 5, 257, 257]"
      ]
     },
     "execution_count": 90,
     "metadata": {},
     "output_type": "execute_result"
    }
   ],
   "source": [
    "lst"
   ]
  },
  {
   "cell_type": "code",
   "execution_count": 91,
   "id": "ce06c0d5",
   "metadata": {},
   "outputs": [
    {
     "data": {
      "text/plain": [
       "2366663680064"
      ]
     },
     "execution_count": 91,
     "metadata": {},
     "output_type": "execute_result"
    }
   ],
   "source": [
    "id(lst)"
   ]
  },
  {
   "cell_type": "code",
   "execution_count": 92,
   "id": "e6db37d4",
   "metadata": {},
   "outputs": [
    {
     "name": "stdout",
     "output_type": "stream",
     "text": [
      "5 <class 'int'> 140720262714280\n",
      "2 <class 'int'> 140720262714184\n",
      "3 <class 'int'> 140720262714216\n",
      "5 <class 'int'> 140720262714280\n",
      "257 <class 'int'> 2366673456720\n",
      "257 <class 'int'> 2366659738960\n"
     ]
    }
   ],
   "source": [
    "for i in range(len(lst)):\n",
    "    print(lst[i], type(lst[i]), id(lst[i]))"
   ]
  },
  {
   "cell_type": "markdown",
   "id": "a79162b2",
   "metadata": {},
   "source": [
    "### Immutable Dataype \n",
    "\n",
    "- any datatype where change cannot happen that means object once created they have a fixed memory space \n",
    "- we cannot modify the object \n",
    "- __Examples:__ int, float, complex, string, tuples, frozenset, None"
   ]
  },
  {
   "cell_type": "code",
   "execution_count": 93,
   "id": "6c51dc59",
   "metadata": {},
   "outputs": [
    {
     "data": {
      "text/plain": [
       "'Rohan'"
      ]
     },
     "execution_count": 93,
     "metadata": {},
     "output_type": "execute_result"
    }
   ],
   "source": [
    "a = 'Rohan'\n",
    "a"
   ]
  },
  {
   "cell_type": "code",
   "execution_count": 94,
   "id": "92bd1547",
   "metadata": {},
   "outputs": [
    {
     "ename": "TypeError",
     "evalue": "'str' object does not support item assignment",
     "output_type": "error",
     "traceback": [
      "\u001b[1;31m---------------------------------------------------------------------------\u001b[0m",
      "\u001b[1;31mTypeError\u001b[0m                                 Traceback (most recent call last)",
      "Cell \u001b[1;32mIn[94], line 1\u001b[0m\n\u001b[1;32m----> 1\u001b[0m a[\u001b[38;5;241m0\u001b[39m] \u001b[38;5;241m=\u001b[39m \u001b[38;5;124m'\u001b[39m\u001b[38;5;124mS\u001b[39m\u001b[38;5;124m'\u001b[39m\n",
      "\u001b[1;31mTypeError\u001b[0m: 'str' object does not support item assignment"
     ]
    }
   ],
   "source": [
    "a[0] = 'S'"
   ]
  },
  {
   "cell_type": "code",
   "execution_count": 95,
   "id": "8db3c911",
   "metadata": {},
   "outputs": [],
   "source": [
    "a = 11"
   ]
  },
  {
   "cell_type": "code",
   "execution_count": 96,
   "id": "32f52ffa",
   "metadata": {},
   "outputs": [
    {
     "ename": "TypeError",
     "evalue": "'int' object does not support item assignment",
     "output_type": "error",
     "traceback": [
      "\u001b[1;31m---------------------------------------------------------------------------\u001b[0m",
      "\u001b[1;31mTypeError\u001b[0m                                 Traceback (most recent call last)",
      "Cell \u001b[1;32mIn[96], line 1\u001b[0m\n\u001b[1;32m----> 1\u001b[0m a[\u001b[38;5;241m0\u001b[39m] \u001b[38;5;241m=\u001b[39m \u001b[38;5;241m0\u001b[39m\n",
      "\u001b[1;31mTypeError\u001b[0m: 'int' object does not support item assignment"
     ]
    }
   ],
   "source": [
    "a[0] = 0"
   ]
  },
  {
   "cell_type": "markdown",
   "id": "992dc746",
   "metadata": {},
   "source": [
    "### Type-Casting\n",
    "\n",
    "- It converts one datatype into another datatype"
   ]
  },
  {
   "cell_type": "code",
   "execution_count": 97,
   "id": "28a2010a",
   "metadata": {},
   "outputs": [
    {
     "name": "stdout",
     "output_type": "stream",
     "text": [
      "10 <class 'int'>\n"
     ]
    }
   ],
   "source": [
    "a = 10\n",
    "print(a, type(a))"
   ]
  },
  {
   "cell_type": "code",
   "execution_count": 99,
   "id": "ae39524a",
   "metadata": {},
   "outputs": [
    {
     "name": "stdout",
     "output_type": "stream",
     "text": [
      "10.0 <class 'float'>\n"
     ]
    }
   ],
   "source": [
    "b = float(a)\n",
    "print(b, type(b))"
   ]
  },
  {
   "cell_type": "code",
   "execution_count": 100,
   "id": "092c1577",
   "metadata": {},
   "outputs": [
    {
     "name": "stdout",
     "output_type": "stream",
     "text": [
      "(10+0j) <class 'complex'>\n"
     ]
    }
   ],
   "source": [
    "c = complex(a)\n",
    "print(c, type(c))"
   ]
  },
  {
   "cell_type": "code",
   "execution_count": 101,
   "id": "cd85fde9",
   "metadata": {},
   "outputs": [
    {
     "name": "stdout",
     "output_type": "stream",
     "text": [
      "10 <class 'int'>\n"
     ]
    }
   ],
   "source": [
    "print(a, type(a))"
   ]
  },
  {
   "cell_type": "code",
   "execution_count": 102,
   "id": "932329d0",
   "metadata": {},
   "outputs": [
    {
     "ename": "ValueError",
     "evalue": "invalid literal for int() with base 10: 'Mayank'",
     "output_type": "error",
     "traceback": [
      "\u001b[1;31m---------------------------------------------------------------------------\u001b[0m",
      "\u001b[1;31mValueError\u001b[0m                                Traceback (most recent call last)",
      "Cell \u001b[1;32mIn[102], line 2\u001b[0m\n\u001b[0;32m      1\u001b[0m a \u001b[38;5;241m=\u001b[39m \u001b[38;5;124m'\u001b[39m\u001b[38;5;124mMayank\u001b[39m\u001b[38;5;124m'\u001b[39m\n\u001b[1;32m----> 2\u001b[0m b \u001b[38;5;241m=\u001b[39m \u001b[38;5;28mint\u001b[39m(a)\n",
      "\u001b[1;31mValueError\u001b[0m: invalid literal for int() with base 10: 'Mayank'"
     ]
    }
   ],
   "source": [
    "a = 'Mayank'\n",
    "b = int(a)"
   ]
  },
  {
   "cell_type": "markdown",
   "id": "8c9eed44",
   "metadata": {},
   "source": [
    "### Type of Type Casting\n",
    "\n",
    "- implicit type casting ----> this will be done by the interpreter automatically \n",
    "- explicit type casting ----> this is done by us "
   ]
  },
  {
   "cell_type": "code",
   "execution_count": 104,
   "id": "6ff730dd",
   "metadata": {},
   "outputs": [
    {
     "name": "stdout",
     "output_type": "stream",
     "text": [
      "30.0\n"
     ]
    }
   ],
   "source": [
    "# implicit type casting\n",
    "\n",
    "a = 10 # 10.0\n",
    "b = 20.0\n",
    "print(a+b)"
   ]
  },
  {
   "cell_type": "code",
   "execution_count": 109,
   "id": "d4bb02d0",
   "metadata": {},
   "outputs": [
    {
     "name": "stdout",
     "output_type": "stream",
     "text": [
      "(40+7j)\n"
     ]
    }
   ],
   "source": [
    "a = 10.0 # 10+0j\n",
    "b = 20+7j\n",
    "c = 10 # 10+0j\n",
    "print(a+b+c)"
   ]
  },
  {
   "cell_type": "code",
   "execution_count": 110,
   "id": "d901a8d5",
   "metadata": {},
   "outputs": [
    {
     "name": "stdout",
     "output_type": "stream",
     "text": [
      "Enter a number: 10\n",
      "10 <class 'str'>\n"
     ]
    }
   ],
   "source": [
    "#explicit\n",
    "\n",
    "a = input('Enter a number: ')\n",
    "print(a, type(a))"
   ]
  },
  {
   "cell_type": "code",
   "execution_count": 111,
   "id": "1664fca9",
   "metadata": {},
   "outputs": [
    {
     "name": "stdout",
     "output_type": "stream",
     "text": [
      "Enter a number: 10\n",
      "10 <class 'int'>\n"
     ]
    }
   ],
   "source": [
    "a = int(input('Enter a number: '))\n",
    "print(a, type(a))"
   ]
  },
  {
   "cell_type": "code",
   "execution_count": 112,
   "id": "7ae55c5e",
   "metadata": {},
   "outputs": [
    {
     "name": "stdout",
     "output_type": "stream",
     "text": [
      "Enter a number: 10\n",
      "10.0 <class 'float'>\n"
     ]
    }
   ],
   "source": [
    "a = float(input('Enter a number: '))\n",
    "print(a, type(a))"
   ]
  },
  {
   "cell_type": "code",
   "execution_count": 114,
   "id": "162ccd4a",
   "metadata": {},
   "outputs": [
    {
     "name": "stdout",
     "output_type": "stream",
     "text": [
      "Enter a number: 2\n",
      "(2+0j) <class 'complex'>\n"
     ]
    }
   ],
   "source": [
    "a = complex(input('Enter a number: '))\n",
    "print(a, type(a))"
   ]
  },
  {
   "cell_type": "code",
   "execution_count": 115,
   "id": "e71302eb",
   "metadata": {},
   "outputs": [
    {
     "name": "stdout",
     "output_type": "stream",
     "text": [
      "Enter a list: 10,20,30,40\n",
      "10,20,30,40 <class 'str'>\n"
     ]
    }
   ],
   "source": [
    "b = input('Enter a list: ')\n",
    "print(b, type(b))"
   ]
  },
  {
   "cell_type": "code",
   "execution_count": 116,
   "id": "4b9f7902",
   "metadata": {},
   "outputs": [
    {
     "name": "stdout",
     "output_type": "stream",
     "text": [
      "Enter a list: 10,20,30,40\n",
      "['1', '0', ',', '2', '0', ',', '3', '0', ',', '4', '0'] <class 'list'>\n"
     ]
    }
   ],
   "source": [
    "b = list(input('Enter a list: '))\n",
    "print(b, type(b))"
   ]
  },
  {
   "cell_type": "markdown",
   "id": "5a28967f",
   "metadata": {},
   "source": [
    "### Input and Output\n",
    "\n",
    "- input function ----> takes the argument from the user (input() function)\n",
    "- Output function ----> it displays the outcome in the screen (print() function)"
   ]
  },
  {
   "cell_type": "code",
   "execution_count": 117,
   "id": "ebdc4da4",
   "metadata": {},
   "outputs": [
    {
     "name": "stdout",
     "output_type": "stream",
     "text": [
      "Enter a number: 10\n"
     ]
    }
   ],
   "source": [
    "a = int(input('Enter a number: '))"
   ]
  },
  {
   "cell_type": "code",
   "execution_count": 118,
   "id": "103430b4",
   "metadata": {},
   "outputs": [
    {
     "name": "stdout",
     "output_type": "stream",
     "text": [
      "10\n"
     ]
    }
   ],
   "source": [
    "print(a)"
   ]
  },
  {
   "cell_type": "code",
   "execution_count": 119,
   "id": "8be9be67",
   "metadata": {},
   "outputs": [
    {
     "name": "stdout",
     "output_type": "stream",
     "text": [
      "Enter your name: mayank atul ghai\n"
     ]
    }
   ],
   "source": [
    "a = input('Enter your name: ')"
   ]
  },
  {
   "cell_type": "code",
   "execution_count": 120,
   "id": "10cc2528",
   "metadata": {},
   "outputs": [
    {
     "name": "stdout",
     "output_type": "stream",
     "text": [
      "mayank atul ghai\n"
     ]
    }
   ],
   "source": [
    "print(a)"
   ]
  },
  {
   "cell_type": "code",
   "execution_count": null,
   "id": "53d3f38f",
   "metadata": {},
   "outputs": [],
   "source": []
  }
 ],
 "metadata": {
  "kernelspec": {
   "display_name": "Python 3 (ipykernel)",
   "language": "python",
   "name": "python3"
  },
  "language_info": {
   "codemirror_mode": {
    "name": "ipython",
    "version": 3
   },
   "file_extension": ".py",
   "mimetype": "text/x-python",
   "name": "python",
   "nbconvert_exporter": "python",
   "pygments_lexer": "ipython3",
   "version": "3.11.5"
  }
 },
 "nbformat": 4,
 "nbformat_minor": 5
}
