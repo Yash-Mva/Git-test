{
 "cells": [
  {
   "cell_type": "markdown",
   "id": "98c575ec",
   "metadata": {},
   "source": [
    "### Index\n",
    "\n",
    "- It returns the index of the first occurance of a specified character or a sub-string from left to right\n",
    "- If the character or sub-string is not found, then it will throw a value error\n",
    "- It will return the lowest possible index\n",
    "\n",
    "    Syntax:\n",
    "        \n",
    "        my_str.index('character')\n",
    "        my_str.index('character', starting_index)\n",
    "        my_str.index('character', starting_index, ending_index)\n",
    "        \n",
    "__Note:__ Irrespective of the fact, from where you are starting to search for the character it will alawys going to give us the index of the original string corresponding to that specific character "
   ]
  },
  {
   "cell_type": "code",
   "execution_count": 7,
   "id": "29709576",
   "metadata": {},
   "outputs": [
    {
     "data": {
      "text/plain": [
       "9"
      ]
     },
     "execution_count": 7,
     "metadata": {},
     "output_type": "execute_result"
    }
   ],
   "source": [
    "my_str = 'Python class'\n",
    "\n",
    "# at which index the first occurance of a will be?\n",
    "my_str.index('a')"
   ]
  },
  {
   "cell_type": "code",
   "execution_count": 8,
   "id": "a034a927",
   "metadata": {},
   "outputs": [
    {
     "data": {
      "text/plain": [
       "1"
      ]
     },
     "execution_count": 8,
     "metadata": {},
     "output_type": "execute_result"
    }
   ],
   "source": [
    "my_str = 'Mayank atul ghai'\n",
    "\n",
    "my_str.index('a')"
   ]
  },
  {
   "cell_type": "code",
   "execution_count": 11,
   "id": "fbde1a6a",
   "metadata": {},
   "outputs": [
    {
     "data": {
      "text/plain": [
       "3"
      ]
     },
     "execution_count": 11,
     "metadata": {},
     "output_type": "execute_result"
    }
   ],
   "source": [
    "my_str.index('a', 2)\n",
    "\n",
    "# Dry run\n",
    "# my_str[2::] ----> yank atul ghai\n",
    "# this will be goingh to give you the answer according to the original string that means\n",
    "# it will return the index according to the original string only"
   ]
  },
  {
   "cell_type": "code",
   "execution_count": 12,
   "id": "1c4970b3",
   "metadata": {},
   "outputs": [
    {
     "data": {
      "text/plain": [
       "8"
      ]
     },
     "execution_count": 12,
     "metadata": {},
     "output_type": "execute_result"
    }
   ],
   "source": [
    "my_str.index('t', 6)\n",
    "\n",
    "# Dry run \n",
    "my_Str[6::]"
   ]
  },
  {
   "cell_type": "code",
   "execution_count": 15,
   "id": "4619862c",
   "metadata": {},
   "outputs": [
    {
     "data": {
      "text/plain": [
       "' atul ghai'"
      ]
     },
     "execution_count": 15,
     "metadata": {},
     "output_type": "execute_result"
    }
   ],
   "source": [
    "my_str[6::]"
   ]
  },
  {
   "cell_type": "code",
   "execution_count": 13,
   "id": "8d2d745a",
   "metadata": {},
   "outputs": [
    {
     "ename": "ValueError",
     "evalue": "substring not found",
     "output_type": "error",
     "traceback": [
      "\u001b[1;31m---------------------------------------------------------------------------\u001b[0m",
      "\u001b[1;31mValueError\u001b[0m                                Traceback (most recent call last)",
      "Cell \u001b[1;32mIn[13], line 1\u001b[0m\n\u001b[1;32m----> 1\u001b[0m my_str\u001b[38;5;241m.\u001b[39mindex(\u001b[38;5;124m'\u001b[39m\u001b[38;5;124mk\u001b[39m\u001b[38;5;124m'\u001b[39m, \u001b[38;5;241m6\u001b[39m)\n",
      "\u001b[1;31mValueError\u001b[0m: substring not found"
     ]
    }
   ],
   "source": [
    "my_str.index('k', 6)"
   ]
  },
  {
   "cell_type": "code",
   "execution_count": 16,
   "id": "3ecb6eaf",
   "metadata": {},
   "outputs": [
    {
     "data": {
      "text/plain": [
       "5"
      ]
     },
     "execution_count": 16,
     "metadata": {},
     "output_type": "execute_result"
    }
   ],
   "source": [
    "my_str = 'She sell sea shell on the sea shore'\n",
    "\n",
    "my_str.index('e', 4)"
   ]
  },
  {
   "cell_type": "code",
   "execution_count": 18,
   "id": "35bf2661",
   "metadata": {},
   "outputs": [
    {
     "ename": "ValueError",
     "evalue": "substring not found",
     "output_type": "error",
     "traceback": [
      "\u001b[1;31m---------------------------------------------------------------------------\u001b[0m",
      "\u001b[1;31mValueError\u001b[0m                                Traceback (most recent call last)",
      "Cell \u001b[1;32mIn[18], line 1\u001b[0m\n\u001b[1;32m----> 1\u001b[0m my_str\u001b[38;5;241m.\u001b[39mindex(\u001b[38;5;124m'\u001b[39m\u001b[38;5;124me\u001b[39m\u001b[38;5;124m'\u001b[39m, \u001b[38;5;241m6\u001b[39m, \u001b[38;5;241m10\u001b[39m)\n",
      "\u001b[1;31mValueError\u001b[0m: substring not found"
     ]
    }
   ],
   "source": [
    "my_str.index('e', 6, 10)"
   ]
  },
  {
   "cell_type": "markdown",
   "id": "e9eb394c",
   "metadata": {},
   "source": [
    "### find()\n",
    "\n",
    "\n",
    "- It returns the index of the first occurance of a specified character or a sub-string from left to right\n",
    "- If the character or sub-string is not found, then it will return -1\n",
    "- It will return the lowest possible index\n",
    "\n",
    "    Syntax:\n",
    "        \n",
    "        my_str.find('character')\n",
    "        my_str.find('character', starting_index)\n",
    "        my_str.find('character', starting_index, ending_index)\n",
    "        \n",
    "__Note:__ Irrespective of the fact, from where you are starting to search for the character it will alawys going to give us the index of the original string corresponding to that specific character"
   ]
  },
  {
   "cell_type": "code",
   "execution_count": 19,
   "id": "f9624b0c",
   "metadata": {},
   "outputs": [
    {
     "data": {
      "text/plain": [
       "1"
      ]
     },
     "execution_count": 19,
     "metadata": {},
     "output_type": "execute_result"
    }
   ],
   "source": [
    "a = 'mayank atul ghai'\n",
    "\n",
    "a.find('a')"
   ]
  },
  {
   "cell_type": "code",
   "execution_count": 20,
   "id": "a9561a06",
   "metadata": {},
   "outputs": [
    {
     "data": {
      "text/plain": [
       "7"
      ]
     },
     "execution_count": 20,
     "metadata": {},
     "output_type": "execute_result"
    }
   ],
   "source": [
    "a.find('a', 5)"
   ]
  },
  {
   "cell_type": "code",
   "execution_count": 21,
   "id": "fb3884a8",
   "metadata": {},
   "outputs": [
    {
     "data": {
      "text/plain": [
       "14"
      ]
     },
     "execution_count": 21,
     "metadata": {},
     "output_type": "execute_result"
    }
   ],
   "source": [
    "a.find('a', 10, 16)"
   ]
  },
  {
   "cell_type": "code",
   "execution_count": 23,
   "id": "58e70b3b",
   "metadata": {},
   "outputs": [
    {
     "data": {
      "text/plain": [
       "-1"
      ]
     },
     "execution_count": 23,
     "metadata": {},
     "output_type": "execute_result"
    }
   ],
   "source": [
    "a.find('j')"
   ]
  },
  {
   "cell_type": "markdown",
   "id": "e0dd03e9",
   "metadata": {},
   "source": [
    "### rfind()\n",
    "\n",
    "- It read the string from right to left\n",
    "- It returns the index of the first occurance of a specified character or a sub-string from left to right\n",
    "- if the character or sub-string is not found, then it will return -1\n",
    "- It will return me the highest positive index\n",
    "\n",
    "    Syntax:\n",
    "        \n",
    "        my_str.rfind('character')\n",
    "        my_str.rfind('character', starting_index)\n",
    "        my_str.rfind('character', starting_index, ending_index) # ending_index will be excluded\n",
    "        \n",
    "__Note:__ Irrespective of the fact, from where you are starting to search for the character it will always going to give us the index of the original string corresponding to that specific character"
   ]
  },
  {
   "cell_type": "code",
   "execution_count": 24,
   "id": "8f2a49ca",
   "metadata": {},
   "outputs": [
    {
     "data": {
      "text/plain": [
       "'mayank atul ghai'"
      ]
     },
     "execution_count": 24,
     "metadata": {},
     "output_type": "execute_result"
    }
   ],
   "source": [
    "a"
   ]
  },
  {
   "cell_type": "code",
   "execution_count": 25,
   "id": "beef5f5c",
   "metadata": {},
   "outputs": [
    {
     "data": {
      "text/plain": [
       "14"
      ]
     },
     "execution_count": 25,
     "metadata": {},
     "output_type": "execute_result"
    }
   ],
   "source": [
    "a.rfind('a')"
   ]
  },
  {
   "cell_type": "code",
   "execution_count": 26,
   "id": "2f14eb3b",
   "metadata": {},
   "outputs": [
    {
     "data": {
      "text/plain": [
       "14"
      ]
     },
     "execution_count": 26,
     "metadata": {},
     "output_type": "execute_result"
    }
   ],
   "source": [
    "a.rfind('a', 4)"
   ]
  },
  {
   "cell_type": "code",
   "execution_count": 27,
   "id": "cc582e12",
   "metadata": {},
   "outputs": [
    {
     "data": {
      "text/plain": [
       "7"
      ]
     },
     "execution_count": 27,
     "metadata": {},
     "output_type": "execute_result"
    }
   ],
   "source": [
    "a.rfind('a', 4, 14)\n",
    "\n",
    "\n",
    "# a[4:14]"
   ]
  },
  {
   "cell_type": "code",
   "execution_count": 29,
   "id": "45315526",
   "metadata": {},
   "outputs": [
    {
     "data": {
      "text/plain": [
       "'nk atul gh'"
      ]
     },
     "execution_count": 29,
     "metadata": {},
     "output_type": "execute_result"
    }
   ],
   "source": [
    "a[4:14]"
   ]
  },
  {
   "cell_type": "code",
   "execution_count": 31,
   "id": "95e5d809",
   "metadata": {},
   "outputs": [
    {
     "data": {
      "text/plain": [
       "14"
      ]
     },
     "execution_count": 31,
     "metadata": {},
     "output_type": "execute_result"
    }
   ],
   "source": [
    "a.rfind('a', 4, 15)"
   ]
  },
  {
   "cell_type": "code",
   "execution_count": 30,
   "id": "9ed42fe8",
   "metadata": {},
   "outputs": [
    {
     "data": {
      "text/plain": [
       "'nk atul gha'"
      ]
     },
     "execution_count": 30,
     "metadata": {},
     "output_type": "execute_result"
    }
   ],
   "source": [
    "a[4:15]"
   ]
  },
  {
   "cell_type": "code",
   "execution_count": 28,
   "id": "4ebeafc4",
   "metadata": {},
   "outputs": [
    {
     "data": {
      "text/plain": [
       "-1"
      ]
     },
     "execution_count": 28,
     "metadata": {},
     "output_type": "execute_result"
    }
   ],
   "source": [
    "a.rfind('a',4, 7)"
   ]
  },
  {
   "cell_type": "markdown",
   "id": "c7bf1efb",
   "metadata": {},
   "source": [
    "### split()\n",
    "\n",
    "- It splits the string from a specified character and returns the list of the elements\n",
    "- By default, in split method the default character is space(' ')\n",
    "- It will take a string as an input and will return a list as an output\n",
    "\n",
    "    Syntax:\n",
    "    \n",
    "        a.split('specified character')\n",
    "        \n",
    "__Note__: By default, space is considered as the specified character"
   ]
  },
  {
   "cell_type": "code",
   "execution_count": 32,
   "id": "3b2d57aa",
   "metadata": {},
   "outputs": [
    {
     "data": {
      "text/plain": [
       "'mayank atul ghai'"
      ]
     },
     "execution_count": 32,
     "metadata": {},
     "output_type": "execute_result"
    }
   ],
   "source": [
    "a"
   ]
  },
  {
   "cell_type": "code",
   "execution_count": 33,
   "id": "f193974a",
   "metadata": {},
   "outputs": [
    {
     "data": {
      "text/plain": [
       "['mayank', 'atul', 'ghai']"
      ]
     },
     "execution_count": 33,
     "metadata": {},
     "output_type": "execute_result"
    }
   ],
   "source": [
    "a.split()"
   ]
  },
  {
   "cell_type": "code",
   "execution_count": 34,
   "id": "7999b46b",
   "metadata": {},
   "outputs": [
    {
     "data": {
      "text/plain": [
       "['mayank', 'atul', 'ghai']"
      ]
     },
     "execution_count": 34,
     "metadata": {},
     "output_type": "execute_result"
    }
   ],
   "source": [
    "a = 'mayank-atul-ghai'\n",
    "a.split('-') # here we are telling to do the spliting based on a hypen"
   ]
  },
  {
   "cell_type": "code",
   "execution_count": 35,
   "id": "d07bea4f",
   "metadata": {},
   "outputs": [
    {
     "data": {
      "text/plain": [
       "['m', 'y', 'nk ', 'tul gh', 'i']"
      ]
     },
     "execution_count": 35,
     "metadata": {},
     "output_type": "execute_result"
    }
   ],
   "source": [
    "a = 'mayank atul ghai'\n",
    "a.split('a') # here we are telling to do the spliting based on the character a"
   ]
  },
  {
   "cell_type": "code",
   "execution_count": 36,
   "id": "954d8d09",
   "metadata": {},
   "outputs": [
    {
     "data": {
      "text/plain": [
       "['+91', '8360984479']"
      ]
     },
     "execution_count": 36,
     "metadata": {},
     "output_type": "execute_result"
    }
   ],
   "source": [
    "a = '+91-8360984479'\n",
    "a.split('-')"
   ]
  },
  {
   "cell_type": "markdown",
   "id": "83330083",
   "metadata": {},
   "source": [
    "### join()\n",
    "\n",
    "- It will combine the element of a list seperated by a specific character and will return a string\n",
    "- It will take a list as an input and it will be returning a string as an answer\n",
    "\n",
    "    Syntax:\n",
    "        'character'.join(lst)"
   ]
  },
  {
   "cell_type": "code",
   "execution_count": 37,
   "id": "0428497e",
   "metadata": {},
   "outputs": [],
   "source": [
    "lst = [\"Hello\", 'this', 'is', 'a', 'python', 'class']\n",
    "\n",
    "x = ''.join(lst)"
   ]
  },
  {
   "cell_type": "code",
   "execution_count": 38,
   "id": "b607c1e6",
   "metadata": {},
   "outputs": [
    {
     "data": {
      "text/plain": [
       "'Hellothisisapythonclass'"
      ]
     },
     "execution_count": 38,
     "metadata": {},
     "output_type": "execute_result"
    }
   ],
   "source": [
    "x"
   ]
  },
  {
   "cell_type": "code",
   "execution_count": 39,
   "id": "635524ad",
   "metadata": {},
   "outputs": [],
   "source": [
    "y = ' '.join(lst)"
   ]
  },
  {
   "cell_type": "code",
   "execution_count": 40,
   "id": "6c529354",
   "metadata": {},
   "outputs": [
    {
     "data": {
      "text/plain": [
       "'Hello this is a python class'"
      ]
     },
     "execution_count": 40,
     "metadata": {},
     "output_type": "execute_result"
    }
   ],
   "source": [
    "y"
   ]
  },
  {
   "cell_type": "code",
   "execution_count": 41,
   "id": "75524787",
   "metadata": {},
   "outputs": [
    {
     "data": {
      "text/plain": [
       "'Hello-this-is-a-python-class'"
      ]
     },
     "execution_count": 41,
     "metadata": {},
     "output_type": "execute_result"
    }
   ],
   "source": [
    "z = '-'.join(lst)\n",
    "z"
   ]
  },
  {
   "cell_type": "markdown",
   "id": "7dd0f85b",
   "metadata": {},
   "source": [
    "### splitlines()\n",
    "\n",
    "- \\n is an escape character that will going to give a new line\n",
    "- It will by default split the values as it will encounter \\n"
   ]
  },
  {
   "cell_type": "code",
   "execution_count": 43,
   "id": "3eeafb01",
   "metadata": {},
   "outputs": [
    {
     "name": "stdout",
     "output_type": "stream",
     "text": [
      "My name is Mayank Atul Ghai.\n",
      "I am a Trainer at Learnbay.\n",
      "I also work as a Sr. Data Analyst \n"
     ]
    }
   ],
   "source": [
    "my_str = 'My name is Mayank Atul Ghai.\\nI am a Trainer at Learnbay.\\nI also work as a Sr. Data Analyst '\n",
    "\n",
    "print(my_str)"
   ]
  },
  {
   "cell_type": "code",
   "execution_count": 44,
   "id": "cb10cf80",
   "metadata": {},
   "outputs": [
    {
     "data": {
      "text/plain": [
       "['My name is Mayank Atul Ghai.',\n",
       " 'I am a Trainer at Learnbay.',\n",
       " 'I also work as a Sr. Data Analyst ']"
      ]
     },
     "execution_count": 44,
     "metadata": {},
     "output_type": "execute_result"
    }
   ],
   "source": [
    "my_str.splitlines()"
   ]
  },
  {
   "cell_type": "code",
   "execution_count": 45,
   "id": "6b3411ac",
   "metadata": {},
   "outputs": [
    {
     "data": {
      "text/plain": [
       "['My',\n",
       " 'name',\n",
       " 'is',\n",
       " 'Mayank',\n",
       " 'Atul',\n",
       " 'Ghai.',\n",
       " 'I',\n",
       " 'am',\n",
       " 'a',\n",
       " 'Trainer',\n",
       " 'at',\n",
       " 'Learnbay.',\n",
       " 'I',\n",
       " 'also',\n",
       " 'work',\n",
       " 'as',\n",
       " 'a',\n",
       " 'Sr.',\n",
       " 'Data',\n",
       " 'Analyst']"
      ]
     },
     "execution_count": 45,
     "metadata": {},
     "output_type": "execute_result"
    }
   ],
   "source": [
    "my_str.split()"
   ]
  },
  {
   "cell_type": "code",
   "execution_count": 46,
   "id": "54a27b30",
   "metadata": {},
   "outputs": [
    {
     "data": {
      "text/plain": [
       "['\\n']"
      ]
     },
     "execution_count": 46,
     "metadata": {},
     "output_type": "execute_result"
    }
   ],
   "source": [
    "'\\n'.split(my_str) \n"
   ]
  },
  {
   "cell_type": "code",
   "execution_count": 47,
   "id": "1346319e",
   "metadata": {
    "scrolled": true
   },
   "outputs": [
    {
     "data": {
      "text/plain": [
       "['My name is Mayank Atul Ghai.',\n",
       " 'I am a Trainer at Learnbay.',\n",
       " 'I also work as a Sr. Data Analyst ']"
      ]
     },
     "execution_count": 47,
     "metadata": {},
     "output_type": "execute_result"
    }
   ],
   "source": [
    "my_str.split('\\n')"
   ]
  },
  {
   "cell_type": "code",
   "execution_count": 48,
   "id": "0cdd7526",
   "metadata": {},
   "outputs": [
    {
     "data": {
      "text/plain": [
       "['My name is Mayank Atul Ghai.',\n",
       " 'I am a Trainer at Learnbay.',\n",
       " 'I also work as a Sr. Data Analyst ']"
      ]
     },
     "execution_count": 48,
     "metadata": {},
     "output_type": "execute_result"
    }
   ],
   "source": [
    "my_Str = '''My name is Mayank Atul Ghai.\n",
    "I am a Trainer at Learnbay.\n",
    "I also work as a Sr. Data Analyst'''\n",
    "\n",
    "my_str.splitlines()"
   ]
  },
  {
   "cell_type": "markdown",
   "id": "a1f631d1",
   "metadata": {},
   "source": [
    "### strip()\n",
    "\n",
    "- It removes the specified character from left to right side of a string\n",
    "- By default, it removes the space character from left to right\n",
    "\n",
    "__Note:__ It removes the boundary character but not the character which are coming in between of a string"
   ]
  },
  {
   "cell_type": "code",
   "execution_count": 49,
   "id": "abc2133f",
   "metadata": {},
   "outputs": [
    {
     "data": {
      "text/plain": [
       "'150'"
      ]
     },
     "execution_count": 49,
     "metadata": {},
     "output_type": "execute_result"
    }
   ],
   "source": [
    "my_str = '$150$'\n",
    "\n",
    "my_str.strip('$')"
   ]
  },
  {
   "cell_type": "code",
   "execution_count": 50,
   "id": "cdc4adb2",
   "metadata": {},
   "outputs": [
    {
     "data": {
      "text/plain": [
       "'1$5$0'"
      ]
     },
     "execution_count": 50,
     "metadata": {},
     "output_type": "execute_result"
    }
   ],
   "source": [
    "my_str = '$1$5$0$'\n",
    "\n",
    "my_str.strip('$')"
   ]
  },
  {
   "cell_type": "code",
   "execution_count": 51,
   "id": "6feca8a7",
   "metadata": {},
   "outputs": [
    {
     "data": {
      "text/plain": [
       "'Mayank            Atul                 Ghai'"
      ]
     },
     "execution_count": 51,
     "metadata": {},
     "output_type": "execute_result"
    }
   ],
   "source": [
    "my_str = '         Mayank            Atul                 Ghai'\n",
    "my_str.strip()"
   ]
  },
  {
   "cell_type": "code",
   "execution_count": 54,
   "id": "ad1948d9",
   "metadata": {},
   "outputs": [
    {
     "data": {
      "text/plain": [
       "'Mayank Atul Ghai'"
      ]
     },
     "execution_count": 54,
     "metadata": {},
     "output_type": "execute_result"
    }
   ],
   "source": [
    "x = ' '. join(my_str.split())\n",
    "x"
   ]
  },
  {
   "cell_type": "code",
   "execution_count": 56,
   "id": "7ee6b576",
   "metadata": {},
   "outputs": [
    {
     "data": {
      "text/plain": [
       "'Mayank Atul Ghai'"
      ]
     },
     "execution_count": 56,
     "metadata": {},
     "output_type": "execute_result"
    }
   ],
   "source": [
    "my_str = '         Mayank            Atul                 Ghai'\n",
    "\n",
    "x = my_str.strip()\n",
    "y = x.split()\n",
    "z = ' '.join(y)\n",
    "z"
   ]
  },
  {
   "cell_type": "code",
   "execution_count": 58,
   "id": "f9fa8ba1",
   "metadata": {},
   "outputs": [
    {
     "name": "stdout",
     "output_type": "stream",
     "text": [
      "['Mayank', 'Atul', 'Ghai']\n",
      "Mayank Atul Ghai\n"
     ]
    }
   ],
   "source": [
    "my_str = '         Mayank            Atul                 Ghai'\n",
    "\n",
    "\n",
    "y = my_str.split()\n",
    "z = ' '.join(y)\n",
    "print(y)\n",
    "print(z)"
   ]
  },
  {
   "cell_type": "markdown",
   "id": "dca7ce2d",
   "metadata": {},
   "source": [
    "### lstrip()\n",
    "\n",
    "- It removes a specified character from the left side of the string\n",
    "- By default, it will remove space characters\n",
    "\n",
    "__Note:__ It removes the boundary character but not the character which are coming in between of a string"
   ]
  },
  {
   "cell_type": "code",
   "execution_count": 59,
   "id": "6b6620b5",
   "metadata": {},
   "outputs": [
    {
     "data": {
      "text/plain": [
       "'150$$$$$'"
      ]
     },
     "execution_count": 59,
     "metadata": {},
     "output_type": "execute_result"
    }
   ],
   "source": [
    "my_str = '$$$$$150$$$$$'\n",
    "my_str.lstrip('$')"
   ]
  },
  {
   "cell_type": "code",
   "execution_count": 61,
   "id": "481c1277",
   "metadata": {},
   "outputs": [
    {
     "data": {
      "text/plain": [
       "'1$5$0$'"
      ]
     },
     "execution_count": 61,
     "metadata": {},
     "output_type": "execute_result"
    }
   ],
   "source": [
    "my_str = '$1$5$0$'\n",
    "\n",
    "my_str.lstrip('$')"
   ]
  },
  {
   "cell_type": "markdown",
   "id": "d111e2d6",
   "metadata": {},
   "source": [
    "### rstrip()\n",
    "\n",
    "- It removes a specified character from the right side of the string\n",
    "- By default, it will remove space characters\n",
    "\n",
    "__Note:__ It removes the boundary character but not the character which are coming in between of a string"
   ]
  },
  {
   "cell_type": "code",
   "execution_count": 62,
   "id": "070e3ed3",
   "metadata": {},
   "outputs": [
    {
     "data": {
      "text/plain": [
       "'$$$$$150'"
      ]
     },
     "execution_count": 62,
     "metadata": {},
     "output_type": "execute_result"
    }
   ],
   "source": [
    "my_str = '$$$$$150$$$$$'\n",
    "my_str.rstrip('$')"
   ]
  },
  {
   "cell_type": "code",
   "execution_count": 63,
   "id": "b00feeb8",
   "metadata": {},
   "outputs": [
    {
     "data": {
      "text/plain": [
       "'$1$5$0'"
      ]
     },
     "execution_count": 63,
     "metadata": {},
     "output_type": "execute_result"
    }
   ],
   "source": [
    "my_str = '$1$5$0$'\n",
    "\n",
    "my_str.rstrip('$')"
   ]
  },
  {
   "cell_type": "markdown",
   "id": "466509ba",
   "metadata": {},
   "source": [
    "### ljsut, rjust and center\n",
    "\n",
    "- These are the justification methods.\n",
    "- These functions are used to add a specific character on the left or on the right or in the center of string"
   ]
  },
  {
   "cell_type": "markdown",
   "id": "6704c2df",
   "metadata": {},
   "source": [
    "### ljust()\n",
    "\n",
    "- It reads the string from left to right\n",
    "- It adds the specified character to the right of the string\n",
    "\n",
    "\n",
    "    Syntax:\n",
    "    \n",
    "        my_str.ljust('length of the resultant string', 'character that i want to add')\n",
    "        my_str.ljust(len(original_string)+number_of_character_i _want to add, 'character that i want to add')"
   ]
  },
  {
   "cell_type": "code",
   "execution_count": 69,
   "id": "2736f002",
   "metadata": {},
   "outputs": [
    {
     "name": "stdout",
     "output_type": "stream",
     "text": [
      "python-----\n"
     ]
    }
   ],
   "source": [
    "my_str = 'python'\n",
    "\n",
    "# Output - 'python-----'\n",
    "\n",
    "print(my_str.ljust(11, '-'))"
   ]
  },
  {
   "cell_type": "code",
   "execution_count": null,
   "id": "84269a93",
   "metadata": {},
   "outputs": [],
   "source": [
    "P y t h o n - - - - -"
   ]
  },
  {
   "cell_type": "code",
   "execution_count": 71,
   "id": "c3082f20",
   "metadata": {},
   "outputs": [
    {
     "name": "stdout",
     "output_type": "stream",
     "text": [
      "python-----\n"
     ]
    }
   ],
   "source": [
    "print(my_str.ljust(len(my_str)+5, '-'))"
   ]
  },
  {
   "cell_type": "markdown",
   "id": "fc5007a8",
   "metadata": {},
   "source": [
    "### rjust()\n",
    "\n",
    "- It reads the string from right to left\n",
    "- It adds the specified character to the left of the string\n",
    "\n",
    "\n",
    "    Syntax:\n",
    "    \n",
    "        my_str.rjust('length of the resultant string', 'character that i want to add')\n",
    "        my_str.rjust(len(original_string)+number_of_character_i _want to add, 'character that i want to add')"
   ]
  },
  {
   "cell_type": "code",
   "execution_count": 73,
   "id": "9c25543c",
   "metadata": {},
   "outputs": [
    {
     "data": {
      "text/plain": [
       "'python'"
      ]
     },
     "execution_count": 73,
     "metadata": {},
     "output_type": "execute_result"
    }
   ],
   "source": [
    "my_str"
   ]
  },
  {
   "cell_type": "code",
   "execution_count": 74,
   "id": "3f6bbeeb",
   "metadata": {},
   "outputs": [
    {
     "data": {
      "text/plain": [
       "'+++python'"
      ]
     },
     "execution_count": 74,
     "metadata": {},
     "output_type": "execute_result"
    }
   ],
   "source": [
    "#+++python\n",
    "\n",
    "my_str.rjust(len(my_str)+3, '+')"
   ]
  },
  {
   "cell_type": "code",
   "execution_count": 75,
   "id": "110ed0c6",
   "metadata": {},
   "outputs": [
    {
     "data": {
      "text/plain": [
       "'+++python'"
      ]
     },
     "execution_count": 75,
     "metadata": {},
     "output_type": "execute_result"
    }
   ],
   "source": [
    "my_str.rjust(9, '+')"
   ]
  },
  {
   "cell_type": "markdown",
   "id": "56aeaf39",
   "metadata": {},
   "source": [
    "### Center()\n",
    "\n",
    "- It adds the specified character on both the side of the string\n",
    "\n",
    "    Syntax:\n",
    "        \n",
    "        my_str.center('length of the string', 'character')\n",
    "        my_str.center(len(my_str)+number of character, 'character')"
   ]
  },
  {
   "cell_type": "code",
   "execution_count": 77,
   "id": "e39476f9",
   "metadata": {},
   "outputs": [
    {
     "data": {
      "text/plain": [
       "'python'"
      ]
     },
     "execution_count": 77,
     "metadata": {},
     "output_type": "execute_result"
    }
   ],
   "source": [
    "my_str"
   ]
  },
  {
   "cell_type": "code",
   "execution_count": 78,
   "id": "4990cdde",
   "metadata": {},
   "outputs": [
    {
     "data": {
      "text/plain": [
       "'*****python*****'"
      ]
     },
     "execution_count": 78,
     "metadata": {},
     "output_type": "execute_result"
    }
   ],
   "source": [
    "# Output '*****Python*****'\n",
    "\n",
    "my_str.center(16, '*')"
   ]
  },
  {
   "cell_type": "code",
   "execution_count": 79,
   "id": "fd307f44",
   "metadata": {},
   "outputs": [
    {
     "data": {
      "text/plain": [
       "'*****python*****'"
      ]
     },
     "execution_count": 79,
     "metadata": {},
     "output_type": "execute_result"
    }
   ],
   "source": [
    "my_str.center(len(my_str)+10, '*')"
   ]
  },
  {
   "cell_type": "code",
   "execution_count": 80,
   "id": "90fa75d6",
   "metadata": {},
   "outputs": [
    {
     "data": {
      "text/plain": [
       "'*****python****'"
      ]
     },
     "execution_count": 80,
     "metadata": {},
     "output_type": "execute_result"
    }
   ],
   "source": [
    "my_str.center(len(my_str)+9, '*')"
   ]
  },
  {
   "cell_type": "markdown",
   "id": "d8aad17d",
   "metadata": {},
   "source": [
    "#### To add one specified character in the left hand side and some other character on the right hand side"
   ]
  },
  {
   "cell_type": "code",
   "execution_count": 91,
   "id": "59fa409e",
   "metadata": {},
   "outputs": [
    {
     "name": "stdout",
     "output_type": "stream",
     "text": [
      "Data--\n",
      "++Data--\n"
     ]
    }
   ],
   "source": [
    "my_str = 'Data'\n",
    "\n",
    "# Output - '++Data--'\n",
    "\n",
    "x = my_str.ljust(len(my_str)+2, '-')\n",
    "y = x.rjust(len(x)+2, '+')\n",
    "print(x)\n",
    "print(y)"
   ]
  },
  {
   "cell_type": "code",
   "execution_count": 86,
   "id": "11eaf31b",
   "metadata": {},
   "outputs": [
    {
     "data": {
      "text/plain": [
       "'++Data--'"
      ]
     },
     "execution_count": 86,
     "metadata": {},
     "output_type": "execute_result"
    }
   ],
   "source": [
    "my_str.ljust(len(my_str)+2, '-').rjust(len(my_str)+4, '+')"
   ]
  },
  {
   "cell_type": "code",
   "execution_count": 87,
   "id": "367baf31",
   "metadata": {},
   "outputs": [
    {
     "data": {
      "text/plain": [
       "'Data--'"
      ]
     },
     "execution_count": 87,
     "metadata": {},
     "output_type": "execute_result"
    }
   ],
   "source": [
    "my_str.ljust(len(my_str)+2, '-')"
   ]
  },
  {
   "cell_type": "code",
   "execution_count": 89,
   "id": "66a9695f",
   "metadata": {},
   "outputs": [
    {
     "data": {
      "text/plain": [
       "'Data--++'"
      ]
     },
     "execution_count": 89,
     "metadata": {},
     "output_type": "execute_result"
    }
   ],
   "source": [
    "my_str.ljust(len(my_str)+2, '-').ljust(len(my_str)+4, '+')"
   ]
  },
  {
   "cell_type": "code",
   "execution_count": 90,
   "id": "380ebde9",
   "metadata": {},
   "outputs": [
    {
     "ename": "TypeError",
     "evalue": "The fill character must be exactly one character long",
     "output_type": "error",
     "traceback": [
      "\u001b[1;31m---------------------------------------------------------------------------\u001b[0m",
      "\u001b[1;31mTypeError\u001b[0m                                 Traceback (most recent call last)",
      "Cell \u001b[1;32mIn[90], line 1\u001b[0m\n\u001b[1;32m----> 1\u001b[0m my_str\u001b[38;5;241m.\u001b[39mljust(\u001b[38;5;28mlen\u001b[39m(my_str)\u001b[38;5;241m+\u001b[39m\u001b[38;5;241m2\u001b[39m, \u001b[38;5;124m'\u001b[39m\u001b[38;5;124mmayank\u001b[39m\u001b[38;5;124m'\u001b[39m)\u001b[38;5;241m.\u001b[39mrjust(\u001b[38;5;28mlen\u001b[39m(my_str)\u001b[38;5;241m+\u001b[39m\u001b[38;5;241m4\u001b[39m, \u001b[38;5;124m'\u001b[39m\u001b[38;5;124m+\u001b[39m\u001b[38;5;124m'\u001b[39m)\n",
      "\u001b[1;31mTypeError\u001b[0m: The fill character must be exactly one character long"
     ]
    }
   ],
   "source": [
    "my_str.ljust(len(my_str)+2, 'mayank').rjust(len(my_str)+4, '+')"
   ]
  },
  {
   "cell_type": "code",
   "execution_count": null,
   "id": "98d3e9e1",
   "metadata": {},
   "outputs": [],
   "source": []
  }
 ],
 "metadata": {
  "kernelspec": {
   "display_name": "Python 3 (ipykernel)",
   "language": "python",
   "name": "python3"
  },
  "language_info": {
   "codemirror_mode": {
    "name": "ipython",
    "version": 3
   },
   "file_extension": ".py",
   "mimetype": "text/x-python",
   "name": "python",
   "nbconvert_exporter": "python",
   "pygments_lexer": "ipython3",
   "version": "3.11.5"
  }
 },
 "nbformat": 4,
 "nbformat_minor": 5
}
