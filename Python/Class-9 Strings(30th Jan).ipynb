{
 "cells": [
  {
   "cell_type": "markdown",
   "id": "48708b26",
   "metadata": {},
   "source": [
    "### Ternary Operator \n",
    "\n",
    "- It is called a ternary operator because it uses 3 operands or values in it \n",
    "- It is used to generate a result based on some condition "
   ]
  },
  {
   "cell_type": "markdown",
   "id": "b30f7262",
   "metadata": {},
   "source": [
    "#### Syntax for a conditional statement with 2 operands \n",
    "\n",
    "    expression_1 if condition_is_True else expression_2\n",
    "    \n",
    "- When the if condition is True, then expression_1 is the result\n",
    "- Otherwise, expression_2 will be the result"
   ]
  },
  {
   "cell_type": "code",
   "execution_count": 2,
   "id": "bb063c41",
   "metadata": {},
   "outputs": [
    {
     "name": "stdout",
     "output_type": "stream",
     "text": [
      "Enter a number: 12\n",
      "Even\n"
     ]
    }
   ],
   "source": [
    "# WAP to see that the number given by the user is even or odd\n",
    "\n",
    "num = int(input('Enter a number: '))\n",
    "\n",
    "print('Even' if num%2 == 0 else 'Odd')"
   ]
  },
  {
   "cell_type": "markdown",
   "id": "260cc761",
   "metadata": {},
   "source": [
    "#### Syntax for a conditional statement with 3 operands\n",
    "\n",
    "    expression_1 if condition_1 else expression_2 if condition_2 else expression_3\n",
    "    \n",
    "- When the condition_1 is True, then expression_1 is the result\n",
    "- When the condition_1 is False, then condition_2 is checked and if condition_2 is True, then expression_2 is the result\n",
    "- When both the given conditions are False, then expression_3 is the result"
   ]
  },
  {
   "cell_type": "code",
   "execution_count": 4,
   "id": "eae50e34",
   "metadata": {},
   "outputs": [
    {
     "name": "stdout",
     "output_type": "stream",
     "text": [
      "150\n"
     ]
    }
   ],
   "source": [
    "a = 100\n",
    "b = 150\n",
    "c = 136\n",
    "\n",
    "# find the maximum number among them \n",
    "\n",
    "print(a if (a>b and a>c) else b if (b>a and b>c) else c )"
   ]
  },
  {
   "cell_type": "markdown",
   "id": "b4d96fa1",
   "metadata": {},
   "source": [
    "### Unary minus (-)\n",
    "\n",
    "- It will take one operand or value \n",
    "- It will negate the value that we have passed "
   ]
  },
  {
   "cell_type": "code",
   "execution_count": 5,
   "id": "40ce4893",
   "metadata": {},
   "outputs": [
    {
     "name": "stdout",
     "output_type": "stream",
     "text": [
      "-10\n"
     ]
    }
   ],
   "source": [
    "n = 10\n",
    "num = -10\n",
    "print(num)"
   ]
  },
  {
   "cell_type": "markdown",
   "id": "04f3df0e",
   "metadata": {},
   "source": [
    "### Precedence of Different Operator \n",
    "\n",
    "- Paranthese()\n",
    "- Exponential **\n",
    "- Unary minus(-), bitwise complement (~)\n",
    "- Multiplication(*), Float Divison(/), FLoor Division(//), Modulus(%)\n",
    "- Addition(+), Subtraction(-)\n",
    "- Bitwise Left shift operator (<<), Bitwise Right Shift operator(>>)\n",
    "- Bitwise AND oprerator (&)\n",
    "- Bitwise XOR operator (^)\n",
    "- Bitwise OR operator (|)\n",
    "- Comparision Operators and equality Operators (>, >=, <, <=, ==, !=)\n",
    "- Assignment operator (=) , compounding operators (%=, /=, //=, -=, +=, **=, *=)\n",
    "- Identity Operator (is, is not)\n",
    "- Membership Operator (in , not in)\n",
    "- Logical NOT \n",
    "- Logical or \n",
    "- Logical And"
   ]
  },
  {
   "cell_type": "markdown",
   "id": "e616f67b",
   "metadata": {},
   "source": [
    "### Strings\n",
    "\n",
    "    - Anything written inside the single quotes('...'), double quotes (\"....\"), single triple quotes ('''.....''') and double triple quotes (\"\"\".....\"\"\")\n",
    "    - Though single quotes and double quotes will be used generally for strings, single triple quotes and double triple quotes will be used for passing multi-line strings or Doc-strings\n",
    "\n"
   ]
  },
  {
   "cell_type": "code",
   "execution_count": 6,
   "id": "20a45b95",
   "metadata": {},
   "outputs": [
    {
     "name": "stdout",
     "output_type": "stream",
     "text": [
      "Hello <class 'str'>\n"
     ]
    }
   ],
   "source": [
    "a = 'Hello'\n",
    "print(a, type(a))"
   ]
  },
  {
   "cell_type": "code",
   "execution_count": 7,
   "id": "c760415e",
   "metadata": {},
   "outputs": [
    {
     "name": "stdout",
     "output_type": "stream",
     "text": [
      "Hello <class 'str'>\n"
     ]
    }
   ],
   "source": [
    "a = \"Hello\"\n",
    "print(a, type(a))"
   ]
  },
  {
   "cell_type": "code",
   "execution_count": 8,
   "id": "79226483",
   "metadata": {},
   "outputs": [
    {
     "name": "stdout",
     "output_type": "stream",
     "text": [
      "My name is Mayank Atul Ghai <class 'str'>\n"
     ]
    }
   ],
   "source": [
    "a = 'My name is Mayank Atul Ghai'\n",
    "print(a, type(a))"
   ]
  },
  {
   "cell_type": "code",
   "execution_count": 9,
   "id": "1617f1e0",
   "metadata": {},
   "outputs": [
    {
     "name": "stdout",
     "output_type": "stream",
     "text": [
      "I am a Sr. Data Analyst <class 'str'>\n"
     ]
    }
   ],
   "source": [
    "a = \"I am a Sr. Data Analyst\"\n",
    "print(a, type(a))"
   ]
  },
  {
   "cell_type": "code",
   "execution_count": 11,
   "id": "782ed74e",
   "metadata": {},
   "outputs": [
    {
     "name": "stdout",
     "output_type": "stream",
     "text": [
      "Hello world\n",
      "Welcome, to python class by Mayank <class 'str'>\n"
     ]
    }
   ],
   "source": [
    "a = '''Hello world\n",
    "Welcome, to python class by Mayank'''\n",
    "print(a, type(a))"
   ]
  },
  {
   "cell_type": "code",
   "execution_count": 12,
   "id": "31beef31",
   "metadata": {},
   "outputs": [
    {
     "name": "stdout",
     "output_type": "stream",
     "text": [
      "We have done with operator \n",
      "and we are doing strings <class 'str'>\n"
     ]
    }
   ],
   "source": [
    "a = \"\"\"We have done with operator \n",
    "and we are doing strings\"\"\"\n",
    "print(a, type(a))"
   ]
  },
  {
   "cell_type": "code",
   "execution_count": 13,
   "id": "be3d926b",
   "metadata": {},
   "outputs": [
    {
     "ename": "SyntaxError",
     "evalue": "unterminated string literal (detected at line 1) (1676932867.py, line 1)",
     "output_type": "error",
     "traceback": [
      "\u001b[1;36m  Cell \u001b[1;32mIn[13], line 1\u001b[1;36m\u001b[0m\n\u001b[1;33m    a = 'I'm mayank atul ghai'\u001b[0m\n\u001b[1;37m                             ^\u001b[0m\n\u001b[1;31mSyntaxError\u001b[0m\u001b[1;31m:\u001b[0m unterminated string literal (detected at line 1)\n"
     ]
    }
   ],
   "source": [
    "a = 'I'm mayank atul ghai'\n",
    "print(a, type(a))"
   ]
  },
  {
   "cell_type": "code",
   "execution_count": 14,
   "id": "88378b8f",
   "metadata": {},
   "outputs": [
    {
     "name": "stdout",
     "output_type": "stream",
     "text": [
      "I'm mayank atul ghai <class 'str'>\n"
     ]
    }
   ],
   "source": [
    "a = \"I'm mayank atul ghai\"\n",
    "print(a, type(a))"
   ]
  },
  {
   "cell_type": "code",
   "execution_count": null,
   "id": "1af59ca9",
   "metadata": {},
   "outputs": [],
   "source": [
    "__Note__: \n",
    "    \n",
    "    Strings store a the whole sentence word by word "
   ]
  },
  {
   "cell_type": "markdown",
   "id": "bdd10b4e",
   "metadata": {},
   "source": [
    "### Operations that we can do on Strings\n",
    "\n",
    "- Length \n",
    "- Concatenate \n",
    "- Repetition \n",
    "- Indexing and Slicing (Important)"
   ]
  },
  {
   "cell_type": "markdown",
   "id": "7539aeb5",
   "metadata": {},
   "source": [
    "#### Length \n",
    "\n",
    "- How many elements or characters are there inside a string\n",
    "- __len()__ function is used to find the length of the string"
   ]
  },
  {
   "cell_type": "markdown",
   "id": "b48215a7",
   "metadata": {},
   "source": [
    "#### Syntax:\n",
    "\n",
    "        a = '......' or \"......\"\n",
    "        print(len(a))"
   ]
  },
  {
   "cell_type": "markdown",
   "id": "992a85c0",
   "metadata": {},
   "source": [
    "#### len(a) ---> check the value stored in a ---> count the number of elements in the container datatype ---> return the length of that container datatype "
   ]
  },
  {
   "cell_type": "code",
   "execution_count": 15,
   "id": "e2e91216",
   "metadata": {},
   "outputs": [
    {
     "name": "stdout",
     "output_type": "stream",
     "text": [
      "16\n"
     ]
    }
   ],
   "source": [
    "a = \"mayank atul ghai\" # 'M'+'a'+'y'+'q'+'n'+'k'+' '+'A'+'T'+'u'+'l'+' '+'G'+'h'+'a'+i\n",
    "print(len(a))"
   ]
  },
  {
   "cell_type": "code",
   "execution_count": 17,
   "id": "fe818d22",
   "metadata": {},
   "outputs": [
    {
     "name": "stdout",
     "output_type": "stream",
     "text": [
      "6\n"
     ]
    }
   ],
   "source": [
    "b = 'python'\n",
    "print(len(b))"
   ]
  },
  {
   "cell_type": "code",
   "execution_count": 18,
   "id": "e3912f06",
   "metadata": {},
   "outputs": [
    {
     "name": "stdout",
     "output_type": "stream",
     "text": [
      "enter a word or a sentemce: Learnbay\n",
      "Learnbay 8\n"
     ]
    }
   ],
   "source": [
    "a = input(\"enter a word or a sentemce: \")\n",
    "print(a, len(a))"
   ]
  },
  {
   "cell_type": "code",
   "execution_count": 19,
   "id": "3745c30a",
   "metadata": {},
   "outputs": [
    {
     "name": "stdout",
     "output_type": "stream",
     "text": [
      "enter a number: 100\n",
      "100 3\n"
     ]
    }
   ],
   "source": [
    "a = input(\"enter a number: \")\n",
    "print(a, len(a))"
   ]
  },
  {
   "cell_type": "code",
   "execution_count": 20,
   "id": "de7b1828",
   "metadata": {},
   "outputs": [
    {
     "name": "stdout",
     "output_type": "stream",
     "text": [
      "enter a number: 100\n"
     ]
    },
    {
     "ename": "TypeError",
     "evalue": "object of type 'int' has no len()",
     "output_type": "error",
     "traceback": [
      "\u001b[1;31m---------------------------------------------------------------------------\u001b[0m",
      "\u001b[1;31mTypeError\u001b[0m                                 Traceback (most recent call last)",
      "Cell \u001b[1;32mIn[20], line 2\u001b[0m\n\u001b[0;32m      1\u001b[0m a \u001b[38;5;241m=\u001b[39m \u001b[38;5;28mint\u001b[39m(\u001b[38;5;28minput\u001b[39m(\u001b[38;5;124m\"\u001b[39m\u001b[38;5;124menter a number: \u001b[39m\u001b[38;5;124m\"\u001b[39m))\n\u001b[1;32m----> 2\u001b[0m \u001b[38;5;28mprint\u001b[39m(a, \u001b[38;5;28mlen\u001b[39m(a))\n",
      "\u001b[1;31mTypeError\u001b[0m: object of type 'int' has no len()"
     ]
    }
   ],
   "source": [
    "a = int(input(\"enter a number: \"))\n",
    "print(a, len(a))"
   ]
  },
  {
   "cell_type": "markdown",
   "id": "a8fe2641",
   "metadata": {},
   "source": [
    "### Concatenation \n",
    "\n",
    "- Join two or more strings together then this concept is used and this concept is known as concatenation\n",
    "- We have to use + operator (here in strings, + is not an arithematic operator)"
   ]
  },
  {
   "cell_type": "code",
   "execution_count": 21,
   "id": "c9bcb9b3",
   "metadata": {},
   "outputs": [
    {
     "name": "stdout",
     "output_type": "stream",
     "text": [
      "helloWorld\n"
     ]
    }
   ],
   "source": [
    "my_str = \"hello\"\n",
    "my_str2 = 'World'\n",
    "\n",
    "print(my_str+my_str2)"
   ]
  },
  {
   "cell_type": "code",
   "execution_count": 22,
   "id": "c716db32",
   "metadata": {},
   "outputs": [
    {
     "name": "stdout",
     "output_type": "stream",
     "text": [
      "hello World\n"
     ]
    }
   ],
   "source": [
    "my_str = \"hello\"\n",
    "my_str2 = 'World'\n",
    "\n",
    "print(my_str+' '+my_str2)"
   ]
  },
  {
   "cell_type": "code",
   "execution_count": 23,
   "id": "90977e5b",
   "metadata": {},
   "outputs": [
    {
     "name": "stdout",
     "output_type": "stream",
     "text": [
      "1050\n"
     ]
    }
   ],
   "source": [
    "print('10'+'50')"
   ]
  },
  {
   "cell_type": "code",
   "execution_count": 24,
   "id": "3781c58e",
   "metadata": {},
   "outputs": [
    {
     "ename": "TypeError",
     "evalue": "unsupported operand type(s) for +: 'int' and 'str'",
     "output_type": "error",
     "traceback": [
      "\u001b[1;31m---------------------------------------------------------------------------\u001b[0m",
      "\u001b[1;31mTypeError\u001b[0m                                 Traceback (most recent call last)",
      "Cell \u001b[1;32mIn[24], line 1\u001b[0m\n\u001b[1;32m----> 1\u001b[0m \u001b[38;5;28mprint\u001b[39m(\u001b[38;5;241m10\u001b[39m\u001b[38;5;241m+\u001b[39m\u001b[38;5;124m'\u001b[39m\u001b[38;5;124m50\u001b[39m\u001b[38;5;124m'\u001b[39m)\n",
      "\u001b[1;31mTypeError\u001b[0m: unsupported operand type(s) for +: 'int' and 'str'"
     ]
    }
   ],
   "source": [
    "print(10+'50')"
   ]
  },
  {
   "cell_type": "code",
   "execution_count": 25,
   "id": "b08d0336",
   "metadata": {},
   "outputs": [
    {
     "name": "stdout",
     "output_type": "stream",
     "text": [
      "1050\n"
     ]
    }
   ],
   "source": [
    "print(str(10)+'50')"
   ]
  },
  {
   "cell_type": "markdown",
   "id": "cd852f32",
   "metadata": {},
   "source": [
    "### Reptition \n",
    "\n",
    "- (*) operator is used with the strings to repeat a string over and over for a specific number of times "
   ]
  },
  {
   "cell_type": "code",
   "execution_count": 28,
   "id": "ccf24867",
   "metadata": {},
   "outputs": [
    {
     "name": "stdout",
     "output_type": "stream",
     "text": [
      "Python_class Python_class Python_class Python_class Python_class \n"
     ]
    }
   ],
   "source": [
    "a = 'Python_class '\n",
    "print(a*5)"
   ]
  },
  {
   "cell_type": "markdown",
   "id": "011fa444",
   "metadata": {},
   "source": [
    "### Indexing and Slicing\n",
    "\n",
    "#### Indexing \n",
    "\n",
    "    - A string is an ordered collection of data(characters) because it follows indexing\n",
    "    - It is also known as sequential datatype \n",
    "    - Each character or an element inside a string is stored at a particular index\n",
    "    - String supports both Positive Indexing and Negative Indexing"
   ]
  },
  {
   "cell_type": "markdown",
   "id": "e7071995",
   "metadata": {},
   "source": [
    "                            M A Y A N K\n",
    "                            0 1 2 3 4 5"
   ]
  },
  {
   "cell_type": "markdown",
   "id": "d9ca8ca0",
   "metadata": {},
   "source": [
    "#### Positive Indexing\n",
    "\n",
    "- It will start from left to right\n",
    "- It will start from 0 (by default)\n",
    "- The index of the last element is going to be len(string)-1\n"
   ]
  },
  {
   "cell_type": "markdown",
   "id": "f0da2856",
   "metadata": {},
   "source": [
    "                            0 1 2 3 4 5 -----> Positive indexing\n",
    "                            M A Y A N K"
   ]
  },
  {
   "cell_type": "code",
   "execution_count": 29,
   "id": "340f50b3",
   "metadata": {},
   "outputs": [],
   "source": [
    "a = 'Mayank'"
   ]
  },
  {
   "cell_type": "code",
   "execution_count": 30,
   "id": "1e8b29a3",
   "metadata": {},
   "outputs": [
    {
     "data": {
      "text/plain": [
       "'y'"
      ]
     },
     "execution_count": 30,
     "metadata": {},
     "output_type": "execute_result"
    }
   ],
   "source": [
    "a[2]"
   ]
  },
  {
   "cell_type": "code",
   "execution_count": 31,
   "id": "20a56502",
   "metadata": {},
   "outputs": [
    {
     "data": {
      "text/plain": [
       "'k'"
      ]
     },
     "execution_count": 31,
     "metadata": {},
     "output_type": "execute_result"
    }
   ],
   "source": [
    "a[5]"
   ]
  },
  {
   "cell_type": "code",
   "execution_count": 32,
   "id": "ef78f757",
   "metadata": {
    "scrolled": true
   },
   "outputs": [
    {
     "ename": "IndexError",
     "evalue": "string index out of range",
     "output_type": "error",
     "traceback": [
      "\u001b[1;31m---------------------------------------------------------------------------\u001b[0m",
      "\u001b[1;31mIndexError\u001b[0m                                Traceback (most recent call last)",
      "Cell \u001b[1;32mIn[32], line 1\u001b[0m\n\u001b[1;32m----> 1\u001b[0m a[\u001b[38;5;241m6\u001b[39m]\n",
      "\u001b[1;31mIndexError\u001b[0m: string index out of range"
     ]
    }
   ],
   "source": [
    "a[6]"
   ]
  },
  {
   "cell_type": "markdown",
   "id": "0a725f2b",
   "metadata": {},
   "source": [
    "### Negative Indexing \n",
    "\n",
    "- It will going to start from right to left \n",
    "- By default, the index of the first element will be -1 \n",
    "- The index of the last element is going to be -len(String)"
   ]
  },
  {
   "cell_type": "markdown",
   "id": "7be6b1e1",
   "metadata": {},
   "source": [
    "                            M  A  Y  A  N  K\n",
    "                           -6 -5 -4 -3 -2 -1 -----> Negative indexing "
   ]
  },
  {
   "cell_type": "code",
   "execution_count": 34,
   "id": "f047c374",
   "metadata": {},
   "outputs": [
    {
     "data": {
      "text/plain": [
       "'Mayank'"
      ]
     },
     "execution_count": 34,
     "metadata": {},
     "output_type": "execute_result"
    }
   ],
   "source": [
    "a"
   ]
  },
  {
   "cell_type": "code",
   "execution_count": 35,
   "id": "70ae0e79",
   "metadata": {},
   "outputs": [
    {
     "data": {
      "text/plain": [
       "'y'"
      ]
     },
     "execution_count": 35,
     "metadata": {},
     "output_type": "execute_result"
    }
   ],
   "source": [
    "a[-4]"
   ]
  },
  {
   "cell_type": "code",
   "execution_count": 38,
   "id": "448f91af",
   "metadata": {},
   "outputs": [
    {
     "data": {
      "text/plain": [
       "'n'"
      ]
     },
     "execution_count": 38,
     "metadata": {},
     "output_type": "execute_result"
    }
   ],
   "source": [
    "a[-2]"
   ]
  },
  {
   "cell_type": "markdown",
   "id": "10226e2c",
   "metadata": {},
   "source": [
    "                            0  1  2  3  4  5 -----> Positive indexing\n",
    "                            M  A  Y  A  N  K\n",
    "                           -6 -5 -4 -3 -2 -1 -----> Negative indexing "
   ]
  },
  {
   "cell_type": "code",
   "execution_count": 40,
   "id": "081013c4",
   "metadata": {},
   "outputs": [
    {
     "data": {
      "text/plain": [
       "'Mayank'"
      ]
     },
     "execution_count": 40,
     "metadata": {},
     "output_type": "execute_result"
    }
   ],
   "source": [
    "a"
   ]
  },
  {
   "cell_type": "code",
   "execution_count": 41,
   "id": "a75ef2fe",
   "metadata": {},
   "outputs": [
    {
     "name": "stdout",
     "output_type": "stream",
     "text": [
      "M\n",
      "M\n"
     ]
    }
   ],
   "source": [
    "print(a[0]) # Positive indexing\n",
    "print(a[-6]) # Negative Indexing"
   ]
  },
  {
   "cell_type": "markdown",
   "id": "4f09a8c2",
   "metadata": {},
   "source": [
    "### enumerate function \n",
    "\n",
    "- helps to get both the index and the character at that particular index\n",
    "- It will always going to follow positive indexing only "
   ]
  },
  {
   "cell_type": "code",
   "execution_count": 42,
   "id": "fc78246c",
   "metadata": {},
   "outputs": [
    {
     "name": "stdout",
     "output_type": "stream",
     "text": [
      "0 M\n",
      "1 a\n",
      "2 y\n",
      "3 a\n",
      "4 n\n",
      "5 k\n",
      "6  \n",
      "7 A\n",
      "8 t\n",
      "9 u\n",
      "10 l\n",
      "11  \n",
      "12 G\n",
      "13 h\n",
      "14 a\n",
      "15 i\n"
     ]
    }
   ],
   "source": [
    "a = \"Mayank Atul Ghai\"\n",
    "\n",
    "for i, j in enumerate(a):\n",
    "    print(i, j)"
   ]
  },
  {
   "cell_type": "code",
   "execution_count": 43,
   "id": "90d42591",
   "metadata": {},
   "outputs": [
    {
     "ename": "TypeError",
     "evalue": "string indices must be integers, not 'str'",
     "output_type": "error",
     "traceback": [
      "\u001b[1;31m---------------------------------------------------------------------------\u001b[0m",
      "\u001b[1;31mTypeError\u001b[0m                                 Traceback (most recent call last)",
      "Cell \u001b[1;32mIn[43], line 1\u001b[0m\n\u001b[1;32m----> 1\u001b[0m a[\u001b[38;5;124m'\u001b[39m\u001b[38;5;124mM\u001b[39m\u001b[38;5;124m'\u001b[39m]\n",
      "\u001b[1;31mTypeError\u001b[0m: string indices must be integers, not 'str'"
     ]
    }
   ],
   "source": [
    "a['M']"
   ]
  },
  {
   "cell_type": "code",
   "execution_count": 44,
   "id": "9f3d3628",
   "metadata": {},
   "outputs": [
    {
     "name": "stdout",
     "output_type": "stream",
     "text": [
      "0 M\n",
      "1 a\n",
      "2 y\n",
      "3 a\n",
      "4 n\n",
      "5 k\n",
      "6  \n",
      "7 A\n",
      "8 t\n",
      "9 u\n",
      "10 l\n",
      "11  \n",
      "12 G\n",
      "13 h\n",
      "14 a\n",
      "15 i\n"
     ]
    }
   ],
   "source": [
    "a = \"Mayank Atul Ghai\"\n",
    "\n",
    "for x, y in enumerate(a):\n",
    "    print(x, y)"
   ]
  },
  {
   "cell_type": "code",
   "execution_count": 45,
   "id": "38a7f565",
   "metadata": {},
   "outputs": [
    {
     "name": "stdout",
     "output_type": "stream",
     "text": [
      "0 M\n",
      "1 a\n",
      "2 y\n",
      "3 a\n",
      "4 n\n",
      "5 k\n",
      "6  \n",
      "7 A\n",
      "8 t\n",
      "9 u\n",
      "10 l\n",
      "11  \n",
      "12 G\n",
      "13 h\n",
      "14 a\n",
      "15 i\n"
     ]
    }
   ],
   "source": [
    "a = \"Mayank Atul Ghai\"\n",
    "\n",
    "for index, char in enumerate(a):\n",
    "    print(index, char)"
   ]
  },
  {
   "cell_type": "markdown",
   "id": "2481e1f7",
   "metadata": {},
   "source": [
    "### Slicing \n",
    "\n",
    "- Fetch a sub-string from a string "
   ]
  },
  {
   "cell_type": "markdown",
   "id": "5ec4a667",
   "metadata": {},
   "source": [
    "### Positive Slicing \n",
    "\n",
    "- it will use positive indexing"
   ]
  },
  {
   "cell_type": "markdown",
   "id": "e26404f3",
   "metadata": {},
   "source": [
    "### Syntax:\n",
    "        \n",
    "        my_str[starting_index:ending_index(excluded):step_size]\n",
    "        \n",
    "    where \n",
    "        starting index - index from where we want to start the slicing (by default, it is going to take 0)\n",
    "        ending index - index till which i want to slice to be executed (excluded---- n+1) (by default it will go \n",
    "        till the len(string))\n",
    "        step_size - how many jumps I want to make while slicing (by default, the value of step_Size is 1)"
   ]
  },
  {
   "cell_type": "code",
   "execution_count": 46,
   "id": "23e257f5",
   "metadata": {},
   "outputs": [
    {
     "data": {
      "text/plain": [
       "'Mayank Atul Ghai'"
      ]
     },
     "execution_count": 46,
     "metadata": {},
     "output_type": "execute_result"
    }
   ],
   "source": [
    "a"
   ]
  },
  {
   "cell_type": "code",
   "execution_count": 47,
   "id": "93d1240e",
   "metadata": {},
   "outputs": [
    {
     "data": {
      "text/plain": [
       "'Mayank Atul Ghai'"
      ]
     },
     "execution_count": 47,
     "metadata": {},
     "output_type": "execute_result"
    }
   ],
   "source": [
    "a[::]"
   ]
  },
  {
   "cell_type": "code",
   "execution_count": 51,
   "id": "fed0e577",
   "metadata": {},
   "outputs": [
    {
     "name": "stdout",
     "output_type": "stream",
     "text": [
      "Mayank\n",
      "Mayank\n",
      "Mayank\n"
     ]
    }
   ],
   "source": [
    "print(a[:6])\n",
    "print(a[0:6])\n",
    "print(a[0:6:1])"
   ]
  },
  {
   "cell_type": "code",
   "execution_count": 53,
   "id": "aee61f35",
   "metadata": {},
   "outputs": [
    {
     "data": {
      "text/plain": [
       "16"
      ]
     },
     "execution_count": 53,
     "metadata": {},
     "output_type": "execute_result"
    }
   ],
   "source": [
    "len(a)"
   ]
  },
  {
   "cell_type": "code",
   "execution_count": 54,
   "id": "62132523",
   "metadata": {},
   "outputs": [
    {
     "name": "stdout",
     "output_type": "stream",
     "text": [
      "Ghai\n",
      "Ghai\n"
     ]
    }
   ],
   "source": [
    "print(a[12:])\n",
    "print(a[12:len(a)+1])\n",
    "print"
   ]
  },
  {
   "cell_type": "code",
   "execution_count": 65,
   "id": "ad22fa52",
   "metadata": {},
   "outputs": [
    {
     "name": "stdout",
     "output_type": "stream",
     "text": [
      "Ghai\n"
     ]
    }
   ],
   "source": [
    "print(a[12:len(a):1])"
   ]
  },
  {
   "cell_type": "code",
   "execution_count": 60,
   "id": "b306b77b",
   "metadata": {},
   "outputs": [],
   "source": [
    "my_str = 'Python'\n"
   ]
  },
  {
   "cell_type": "code",
   "execution_count": 64,
   "id": "474405cd",
   "metadata": {},
   "outputs": [
    {
     "name": "stdout",
     "output_type": "stream",
     "text": [
      "Python\n",
      "Python\n",
      "Python\n",
      "Python\n",
      "Python\n",
      "Python\n"
     ]
    }
   ],
   "source": [
    "print(my_str[:6])\n",
    "print(my_str[0:6])\n",
    "print(my_str[0:6:1])\n",
    "print(my_str[::])\n",
    "print(my_str[:len(my_str)])\n",
    "print(my_str[0:len(my_str):1])"
   ]
  },
  {
   "cell_type": "markdown",
   "id": "aa110564",
   "metadata": {},
   "source": [
    "                        P Y T H O N\n",
    "                        0 1 2 3 4 5"
   ]
  },
  {
   "cell_type": "code",
   "execution_count": 68,
   "id": "b6cc6aa9",
   "metadata": {},
   "outputs": [],
   "source": [
    "a = \"python\""
   ]
  },
  {
   "cell_type": "code",
   "execution_count": 69,
   "id": "1e8fb33d",
   "metadata": {},
   "outputs": [
    {
     "data": {
      "text/plain": [
       "'pto'"
      ]
     },
     "execution_count": 69,
     "metadata": {},
     "output_type": "execute_result"
    }
   ],
   "source": [
    "a[::2]"
   ]
  },
  {
   "cell_type": "code",
   "execution_count": null,
   "id": "f293c772",
   "metadata": {},
   "outputs": [],
   "source": [
    "a[::2] ---> a[0:len(a):2] ----> Indexing and Concatenation \n",
    "\n",
    "a[0::len(a):2] ---> a[0]+a[0+2]+a[2+2]"
   ]
  },
  {
   "cell_type": "code",
   "execution_count": 70,
   "id": "28561636",
   "metadata": {},
   "outputs": [
    {
     "data": {
      "text/plain": [
       "'pto'"
      ]
     },
     "execution_count": 70,
     "metadata": {},
     "output_type": "execute_result"
    }
   ],
   "source": [
    "a[0]+a[0+2]+a[2+2]"
   ]
  },
  {
   "cell_type": "code",
   "execution_count": 71,
   "id": "51ecf764",
   "metadata": {},
   "outputs": [
    {
     "data": {
      "text/plain": [
       "'aakAu hi'"
      ]
     },
     "execution_count": 71,
     "metadata": {},
     "output_type": "execute_result"
    }
   ],
   "source": [
    "a = 'Mayank Atul Ghai'\n",
    "\n",
    "a[1:len(a):2] #a[1]+a[3]+a[5]+........ = aakAu hi"
   ]
  },
  {
   "cell_type": "code",
   "execution_count": 72,
   "id": "73ad5354",
   "metadata": {},
   "outputs": [
    {
     "data": {
      "text/plain": [
       "'ayank Atul Ghai'"
      ]
     },
     "execution_count": 72,
     "metadata": {},
     "output_type": "execute_result"
    }
   ],
   "source": [
    "a[1:len(a):1] # a[1]+a[2]+......"
   ]
  },
  {
   "cell_type": "code",
   "execution_count": null,
   "id": "46c2dcda",
   "metadata": {},
   "outputs": [],
   "source": []
  },
  {
   "cell_type": "markdown",
   "id": "60c3fa76",
   "metadata": {},
   "source": [
    "### The question is an Hackerrank question the solution will be done when we will cover for loops\n"
   ]
  },
  {
   "cell_type": "code",
   "execution_count": null,
   "id": "8377506c",
   "metadata": {},
   "outputs": [],
   "source": [
    "Take your name \n",
    "even iteration - 2, 4, 6, ......\n",
    "odd iteration -  1,3,5,.....     \n",
    "\n",
    " In odd iteration we will take the element at the end of the name and put it infront of the name [Indexing]\n",
    " In even iteration we will take last two elemnts from the end and put it infront of the previous name [Slicing]\n",
    "\n",
    "In how many iteartion are you getting the same name as you have given \n",
    "\n",
    "\n",
    "Mayank\n",
    "1 -----kMayan\n",
    "2 ---- anKMay\n",
    "3 ---- yankMa\n",
    "4 -----Mayank\n",
    "\n",
    "\n",
    "Girishwar\n",
    "1 ----> rGirishwa\n",
    "2 ----> warGirish\n",
    "3 ----> hwarGiris\n",
    "4 ----> ishwarGir\n",
    "5 ----->rishwarGi\n",
    "6 -----> Girishwar"
   ]
  },
  {
   "cell_type": "code",
   "execution_count": 94,
   "id": "468c52c5",
   "metadata": {},
   "outputs": [
    {
     "data": {
      "text/plain": [
       "'mayank'"
      ]
     },
     "execution_count": 94,
     "metadata": {},
     "output_type": "execute_result"
    }
   ],
   "source": [
    "a = \"mayank\"\n",
    "a"
   ]
  },
  {
   "cell_type": "code",
   "execution_count": 85,
   "id": "d5b17c79",
   "metadata": {},
   "outputs": [
    {
     "data": {
      "text/plain": [
       "'kmayan'"
      ]
     },
     "execution_count": 85,
     "metadata": {},
     "output_type": "execute_result"
    }
   ],
   "source": [
    "a = a[5]+a[:5]\n",
    "a"
   ]
  },
  {
   "cell_type": "code",
   "execution_count": 88,
   "id": "f8e87a99",
   "metadata": {},
   "outputs": [
    {
     "data": {
      "text/plain": [
       "'an'"
      ]
     },
     "execution_count": 88,
     "metadata": {},
     "output_type": "execute_result"
    }
   ],
   "source": [
    "a[-2::1]"
   ]
  },
  {
   "cell_type": "code",
   "execution_count": 92,
   "id": "c313c3fb",
   "metadata": {},
   "outputs": [],
   "source": [
    "a = 'Mayank'\n",
    "b = a[:5:]"
   ]
  },
  {
   "cell_type": "code",
   "execution_count": 93,
   "id": "3f4235da",
   "metadata": {},
   "outputs": [
    {
     "data": {
      "text/plain": [
       "'Mayan'"
      ]
     },
     "execution_count": 93,
     "metadata": {},
     "output_type": "execute_result"
    }
   ],
   "source": [
    "b"
   ]
  },
  {
   "cell_type": "code",
   "execution_count": null,
   "id": "b945d991",
   "metadata": {},
   "outputs": [],
   "source": [
    "M A Y A N K\n",
    "0 1 2 3 4 5\n"
   ]
  },
  {
   "cell_type": "code",
   "execution_count": 96,
   "id": "7855ee7a",
   "metadata": {},
   "outputs": [
    {
     "data": {
      "text/plain": [
       "'mayank'"
      ]
     },
     "execution_count": 96,
     "metadata": {},
     "output_type": "execute_result"
    }
   ],
   "source": [
    "a[:6] #a[:(5+1)]"
   ]
  },
  {
   "cell_type": "code",
   "execution_count": 99,
   "id": "eabb78af",
   "metadata": {},
   "outputs": [
    {
     "name": "stdout",
     "output_type": "stream",
     "text": [
      "2\n",
      "4\n",
      "6\n",
      "8\n",
      "10\n",
      "12\n",
      "14\n",
      "16\n",
      "18\n",
      "20\n",
      "22\n",
      "24\n",
      "26\n",
      "28\n",
      "30\n",
      "32\n",
      "34\n",
      "36\n",
      "38\n",
      "40\n",
      "42\n",
      "44\n",
      "46\n",
      "48\n",
      "50\n",
      "52\n",
      "54\n",
      "56\n",
      "58\n",
      "60\n",
      "62\n",
      "64\n",
      "66\n",
      "68\n",
      "70\n",
      "72\n",
      "74\n",
      "76\n",
      "78\n",
      "80\n",
      "82\n",
      "84\n",
      "86\n",
      "88\n",
      "90\n",
      "92\n",
      "94\n",
      "96\n",
      "98\n"
     ]
    }
   ],
   "source": [
    "for i in range(2, 100, 2):\n",
    "    print(i)"
   ]
  },
  {
   "cell_type": "code",
   "execution_count": 112,
   "id": "f4756861",
   "metadata": {},
   "outputs": [
    {
     "data": {
      "text/plain": [
       "192"
      ]
     },
     "execution_count": 112,
     "metadata": {},
     "output_type": "execute_result"
    }
   ],
   "source": [
    "12<<4"
   ]
  },
  {
   "cell_type": "code",
   "execution_count": 101,
   "id": "8bd71d34",
   "metadata": {},
   "outputs": [
    {
     "data": {
      "text/plain": [
       "'0b1100'"
      ]
     },
     "execution_count": 101,
     "metadata": {},
     "output_type": "execute_result"
    }
   ],
   "source": [
    "bin(12)"
   ]
  },
  {
   "cell_type": "code",
   "execution_count": 111,
   "id": "fbe8f08a",
   "metadata": {},
   "outputs": [
    {
     "data": {
      "text/plain": [
       "192"
      ]
     },
     "execution_count": 111,
     "metadata": {},
     "output_type": "execute_result"
    }
   ],
   "source": [
    "0b00000000000000000000000000011000000"
   ]
  },
  {
   "cell_type": "code",
   "execution_count": 116,
   "id": "d1cb7236",
   "metadata": {},
   "outputs": [
    {
     "name": "stdout",
     "output_type": "stream",
     "text": [
      "True\n"
     ]
    }
   ],
   "source": [
    "a = 'May ank'\n",
    "print('' in a)"
   ]
  },
  {
   "cell_type": "code",
   "execution_count": null,
   "id": "c6b41157",
   "metadata": {},
   "outputs": [],
   "source": []
  }
 ],
 "metadata": {
  "kernelspec": {
   "display_name": "Python 3 (ipykernel)",
   "language": "python",
   "name": "python3"
  },
  "language_info": {
   "codemirror_mode": {
    "name": "ipython",
    "version": 3
   },
   "file_extension": ".py",
   "mimetype": "text/x-python",
   "name": "python",
   "nbconvert_exporter": "python",
   "pygments_lexer": "ipython3",
   "version": "3.11.5"
  }
 },
 "nbformat": 4,
 "nbformat_minor": 5
}
