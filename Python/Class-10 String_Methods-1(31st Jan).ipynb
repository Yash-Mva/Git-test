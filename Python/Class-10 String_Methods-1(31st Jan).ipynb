{
 "cells": [
  {
   "cell_type": "markdown",
   "id": "6e33d16b",
   "metadata": {},
   "source": [
    "### Negative Slicing \n",
    "                0  1  2  3  4  5  6  7  8  9  10 ------> Positive indexing\n",
    "                M  A  Y  A  N  K     G  H  A  I \n",
    "              -11-10 -9 -8 -7 -6 -5 -4 -3 -2 -1 ------> Negative Indexing \n",
    "              \n",
    "              \n",
    "    Syntax:\n",
    "\n",
    "        variable_name[starting_index: ending_index(excluded--> n+1): step_Size)]\n",
    "        \n",
    "    where \n",
    "       - In Negative Slicing we have to take the step_size as -1, if we dont pass -1 , it will take it's by default value i.e. 1\n",
    "        - In Negative Slicing we have to take Starting_indexing as anything but with accordance to the negative indexing, but if we are not going to pass any value it will take the default value as -1"
   ]
  },
  {
   "cell_type": "markdown",
   "id": "abb90c67",
   "metadata": {},
   "source": [
    "###### When ever we are using slicing the interpreter check the step size the step_size \n",
    "\n",
    "- If your step_Size value is 1 or +ve then it will consider the by default value of starting index as 0 and ending index as len(string)\n",
    "- If the step_size value is -1 or -ve then it will consider the by default value of stating index as -1 and ending index as -(len(string)+1)\n",
    "- If the user have not given step_size, then by default value of step_size is 1 and the starting index will be 0 and ending index will be len(string)"
   ]
  },
  {
   "cell_type": "code",
   "execution_count": 6,
   "id": "5a80533b",
   "metadata": {},
   "outputs": [
    {
     "data": {
      "text/plain": [
       "'iahG lutA knayaM'"
      ]
     },
     "execution_count": 6,
     "metadata": {},
     "output_type": "execute_result"
    }
   ],
   "source": [
    "a[::-1]"
   ]
  },
  {
   "cell_type": "code",
   "execution_count": null,
   "id": "54bdf59b",
   "metadata": {},
   "outputs": [],
   "source": []
  },
  {
   "cell_type": "code",
   "execution_count": 4,
   "id": "13b7b526",
   "metadata": {},
   "outputs": [
    {
     "data": {
      "text/plain": [
       "'iahG'"
      ]
     },
     "execution_count": 4,
     "metadata": {},
     "output_type": "execute_result"
    }
   ],
   "source": [
    "a = 'Mayank Atul Ghai'\n",
    "\n",
    "a[-1:-5:-1] \n",
    "\n",
    "#Dry run \n",
    "# a[-1]+a[-2]+a[-3]+a[-4]\n",
    "#  i+a+h+G"
   ]
  },
  {
   "cell_type": "code",
   "execution_count": 5,
   "id": "7584fb3f",
   "metadata": {},
   "outputs": [
    {
     "data": {
      "text/plain": [
       "'ih'"
      ]
     },
     "execution_count": 5,
     "metadata": {},
     "output_type": "execute_result"
    }
   ],
   "source": [
    "a[-1:-5:-2]\n",
    "\n",
    "#Dry run\n",
    "# a[-1:-5:-2]\n",
    "#a[-1]+a[-3]\n",
    "#i+h"
   ]
  },
  {
   "cell_type": "code",
   "execution_count": 21,
   "id": "3a5cc330",
   "metadata": {},
   "outputs": [
    {
     "name": "stdout",
     "output_type": "stream",
     "text": [
      " Trainer\n",
      "Trainer\n"
     ]
    }
   ],
   "source": [
    "a = 'I am a learnbay Trainer'\n",
    "print(a[15::])  # Positive index\n",
    "print(a[-7::])  # Negative index"
   ]
  },
  {
   "cell_type": "code",
   "execution_count": 9,
   "id": "ba59ee96",
   "metadata": {},
   "outputs": [
    {
     "name": "stdout",
     "output_type": "stream",
     "text": [
      "Trainer\n"
     ]
    },
    {
     "data": {
      "text/plain": [
       "'Trainer'"
      ]
     },
     "execution_count": 9,
     "metadata": {},
     "output_type": "execute_result"
    }
   ],
   "source": [
    "print(a[-7::])\n",
    "\n",
    "# Dry run \n",
    "a[-7]+a[-6]+a[-5]+a[-4]+a[-3]+a[-2]+a[-1]"
   ]
  },
  {
   "cell_type": "code",
   "execution_count": 18,
   "id": "eec6b9b9",
   "metadata": {},
   "outputs": [
    {
     "name": "stdout",
     "output_type": "stream",
     "text": [
      "leanbay Trainer\n",
      "leanbay Trainer\n",
      "leanbay Trainer\n",
      "leanbay Trainer\n",
      "leanbay Trainer\n",
      "----------------------\n",
      "leanbay Trainer\n",
      "leanbay Trainer\n",
      "\n"
     ]
    }
   ],
   "source": [
    "# Positive Slicing\n",
    "print(a[7::])\n",
    "print(a[7:22])\n",
    "print(a[7:22:1])\n",
    "print(a[7:len(a)])\n",
    "print(a[7:len(a):1])\n",
    "\n",
    "# Negative Slicing\n",
    "print('----------------------')\n",
    "print(a[-15::])\n",
    "print(a[-15::1])\n",
    "print(a[-15:0:1]) # This will not give me an answer (logical error )"
   ]
  },
  {
   "cell_type": "code",
   "execution_count": 28,
   "id": "947bc4ba",
   "metadata": {},
   "outputs": [
    {
     "data": {
      "text/plain": [
       "'earrI'"
      ]
     },
     "execution_count": 28,
     "metadata": {},
     "output_type": "execute_result"
    }
   ],
   "source": [
    "a[-15:0:1]\n",
    "\n",
    "#Dry run \n",
    "\n",
    "a[-15]+a[-14]+a[-13]+a[-1]"
   ]
  },
  {
   "cell_type": "code",
   "execution_count": 19,
   "id": "46b6467c",
   "metadata": {},
   "outputs": [
    {
     "data": {
      "text/plain": [
       "'I am a leanbay Trainer'"
      ]
     },
     "execution_count": 19,
     "metadata": {},
     "output_type": "execute_result"
    }
   ],
   "source": [
    "a"
   ]
  },
  {
   "cell_type": "code",
   "execution_count": null,
   "id": "59b5f668",
   "metadata": {},
   "outputs": [],
   "source": [
    "            0  1  2  3  4  5  6  7  8  9  10  11  12  13  14  15  16 17 18 19 20 21  22\n",
    "            I     A  M     A     l  E  A  R    N   B   A   Y       T  R  A  I  N  E  R\n",
    "           -23-22-21-20-19-18-17-16-15-14-13  -12-11  -10  -9  -8 -7 -6 -5 -4 -3 -2 -1"
   ]
  },
  {
   "cell_type": "code",
   "execution_count": 24,
   "id": "b84dd37b",
   "metadata": {},
   "outputs": [],
   "source": [
    "for i in range(-5) :# 0 1 2 3 4 5\n",
    "    print(i)"
   ]
  },
  {
   "cell_type": "code",
   "execution_count": 25,
   "id": "b221f4c5",
   "metadata": {},
   "outputs": [
    {
     "data": {
      "text/plain": [
       "'I am a learnbay Trainer'"
      ]
     },
     "execution_count": 25,
     "metadata": {},
     "output_type": "execute_result"
    }
   ],
   "source": [
    "a"
   ]
  },
  {
   "cell_type": "code",
   "execution_count": 26,
   "id": "b320da8d",
   "metadata": {},
   "outputs": [
    {
     "data": {
      "text/plain": [
       "'reniarT yabnrael a ma '"
      ]
     },
     "execution_count": 26,
     "metadata": {},
     "output_type": "execute_result"
    }
   ],
   "source": [
    "a[:0:-1]"
   ]
  },
  {
   "cell_type": "code",
   "execution_count": 95,
   "id": "291be3b1",
   "metadata": {},
   "outputs": [
    {
     "data": {
      "text/plain": [
       "37"
      ]
     },
     "execution_count": 95,
     "metadata": {},
     "output_type": "execute_result"
    }
   ],
   "source": [
    "a = 'She sells sea shells on the sea shore'\n",
    "\n",
    "len(a)\n"
   ]
  },
  {
   "cell_type": "code",
   "execution_count": 30,
   "id": "dc208d56",
   "metadata": {},
   "outputs": [
    {
     "name": "stdout",
     "output_type": "stream",
     "text": [
      "0 S\n",
      "1 h\n",
      "2 e\n",
      "3  \n",
      "4 s\n",
      "5 e\n",
      "6 l\n",
      "7 l\n",
      "8 s\n",
      "9  \n",
      "10 s\n",
      "11 e\n",
      "12 a\n",
      "13  \n",
      "14 s\n",
      "15 h\n",
      "16 e\n",
      "17 l\n",
      "18 l\n",
      "19 s\n",
      "20  \n",
      "21 o\n",
      "22 n\n",
      "23  \n",
      "24 t\n",
      "25 h\n",
      "26 e\n",
      "27  \n",
      "28 s\n",
      "29 e\n",
      "30 a\n",
      "31  \n",
      "32 s\n",
      "33 h\n",
      "34 o\n",
      "35 r\n",
      "36 e\n"
     ]
    }
   ],
   "source": [
    "for i, j in enumerate(a):\n",
    "    print(i, j)"
   ]
  },
  {
   "cell_type": "code",
   "execution_count": 39,
   "id": "af92d8ef",
   "metadata": {
    "scrolled": true
   },
   "outputs": [
    {
     "name": "stdout",
     "output_type": "stream",
     "text": [
      "-1 e\n",
      "-2 r\n",
      "-3 o\n",
      "-4 h\n",
      "-5 s\n",
      "-6  \n",
      "-7 a\n",
      "-8 e\n",
      "-9 s\n",
      "-10  \n",
      "-11 e\n",
      "-12 h\n",
      "-13 t\n",
      "-14  \n",
      "-15 n\n",
      "-16 o\n",
      "-17  \n",
      "-18 s\n",
      "-19 l\n",
      "-20 l\n",
      "-21 e\n",
      "-22 h\n",
      "-23 s\n",
      "-24  \n",
      "-25 a\n",
      "-26 e\n",
      "-27 s\n",
      "-28  \n",
      "-29 s\n",
      "-30 l\n",
      "-31 l\n",
      "-32 e\n",
      "-33 s\n",
      "-34  \n",
      "-35 e\n",
      "-36 h\n",
      "-37 S\n"
     ]
    }
   ],
   "source": [
    "for i in range(1, len(a)+1): #[1, 38(excluded)]\n",
    "    print(-i, a[-i])"
   ]
  },
  {
   "cell_type": "markdown",
   "id": "b3414b12",
   "metadata": {},
   "source": [
    "### String Methods \n",
    "\n",
    "- Methods are functions only but they are defined for a particular class (such as strings, list, tuple, dictioanry, set and frozenset)\n",
    "- Function are a piece of code that once defined can be called independently and infinite number of times\n",
    "- Whenever a function which are associated (written inside a class ) with a class are called methods\n",
    "- We cannot call a method independently\n",
    "- Method defined to a class may or maynot be applicable to another class"
   ]
  },
  {
   "cell_type": "code",
   "execution_count": 45,
   "id": "28f9309f",
   "metadata": {},
   "outputs": [],
   "source": [
    "a = 'Python'"
   ]
  },
  {
   "cell_type": "code",
   "execution_count": null,
   "id": "adaaf52c",
   "metadata": {},
   "outputs": [],
   "source": [
    "To get the methods :\n",
    "    \n",
    "        variable_name+press(dot)+tab in jupyter notebook\n",
    "        \n",
    "        variable_name+press(dot)+wait in google colab"
   ]
  },
  {
   "cell_type": "code",
   "execution_count": 46,
   "id": "3ac4ff4f",
   "metadata": {},
   "outputs": [
    {
     "name": "stdout",
     "output_type": "stream",
     "text": [
      "['__add__', '__class__', '__contains__', '__delattr__', '__dir__', '__doc__', '__eq__', '__format__', '__ge__', '__getattribute__', '__getitem__', '__getnewargs__', '__getstate__', '__gt__', '__hash__', '__init__', '__init_subclass__', '__iter__', '__le__', '__len__', '__lt__', '__mod__', '__mul__', '__ne__', '__new__', '__reduce__', '__reduce_ex__', '__repr__', '__rmod__', '__rmul__', '__setattr__', '__sizeof__', '__str__', '__subclasshook__', 'capitalize', 'casefold', 'center', 'count', 'encode', 'endswith', 'expandtabs', 'find', 'format', 'format_map', 'index', 'isalnum', 'isalpha', 'isascii', 'isdecimal', 'isdigit', 'isidentifier', 'islower', 'isnumeric', 'isprintable', 'isspace', 'istitle', 'isupper', 'join', 'ljust', 'lower', 'lstrip', 'maketrans', 'partition', 'removeprefix', 'removesuffix', 'replace', 'rfind', 'rindex', 'rjust', 'rpartition', 'rsplit', 'rstrip', 'split', 'splitlines', 'startswith', 'strip', 'swapcase', 'title', 'translate', 'upper', 'zfill']\n"
     ]
    }
   ],
   "source": [
    "print(dir(str))"
   ]
  },
  {
   "cell_type": "markdown",
   "id": "bc17a079",
   "metadata": {},
   "source": [
    "### Captialize()\n",
    "\n",
    "- It converts the first letter of a string in upper case\n",
    "- It returns a new object, it does not make any changes in the existing object (because the strings are immutable)"
   ]
  },
  {
   "cell_type": "code",
   "execution_count": 49,
   "id": "5fdfaa5f",
   "metadata": {},
   "outputs": [
    {
     "name": "stdout",
     "output_type": "stream",
     "text": [
      "this is a python class 1580485322960\n"
     ]
    }
   ],
   "source": [
    "a = 'this is a python class'\n",
    "print(a, id(a))"
   ]
  },
  {
   "cell_type": "code",
   "execution_count": 50,
   "id": "3eb74ec4",
   "metadata": {},
   "outputs": [
    {
     "name": "stdout",
     "output_type": "stream",
     "text": [
      "This is a python class 1580506056704\n"
     ]
    }
   ],
   "source": [
    "b = a.capitalize()\n",
    "print(b , id(b))"
   ]
  },
  {
   "cell_type": "markdown",
   "id": "72cf920c",
   "metadata": {},
   "source": [
    "### title()\n",
    "\n",
    "- It will convert all the first letter of every word of a string to uppercase\n",
    "- It will return a new object"
   ]
  },
  {
   "cell_type": "code",
   "execution_count": 51,
   "id": "041ae4e7",
   "metadata": {},
   "outputs": [
    {
     "data": {
      "text/plain": [
       "'this is a python class'"
      ]
     },
     "execution_count": 51,
     "metadata": {},
     "output_type": "execute_result"
    }
   ],
   "source": [
    "a"
   ]
  },
  {
   "cell_type": "code",
   "execution_count": 52,
   "id": "60af0549",
   "metadata": {},
   "outputs": [
    {
     "data": {
      "text/plain": [
       "'This Is A Python Class'"
      ]
     },
     "execution_count": 52,
     "metadata": {},
     "output_type": "execute_result"
    }
   ],
   "source": [
    "a.title()"
   ]
  },
  {
   "cell_type": "markdown",
   "id": "d1095df9",
   "metadata": {},
   "source": [
    "### upper()\n",
    "\n",
    "- It will convert all the alphabet in a string into uppercase\n",
    "- It will also going to return a new object"
   ]
  },
  {
   "cell_type": "code",
   "execution_count": 54,
   "id": "dea35988",
   "metadata": {},
   "outputs": [
    {
     "data": {
      "text/plain": [
       "'this is a python class'"
      ]
     },
     "execution_count": 54,
     "metadata": {},
     "output_type": "execute_result"
    }
   ],
   "source": [
    "a"
   ]
  },
  {
   "cell_type": "code",
   "execution_count": 56,
   "id": "94a5e08f",
   "metadata": {},
   "outputs": [
    {
     "data": {
      "text/plain": [
       "'THIS IS A PYTHON CLASS'"
      ]
     },
     "execution_count": 56,
     "metadata": {},
     "output_type": "execute_result"
    }
   ],
   "source": [
    "b = a.upper()\n",
    "b"
   ]
  },
  {
   "cell_type": "markdown",
   "id": "178de072",
   "metadata": {},
   "source": [
    "### lower()\n",
    "\n",
    "- It will convert all the alphabets in string into a lowercase\n",
    "- It will return a new object"
   ]
  },
  {
   "cell_type": "code",
   "execution_count": 57,
   "id": "d7280c8a",
   "metadata": {},
   "outputs": [
    {
     "data": {
      "text/plain": [
       "'THIS IS A PYTHON CLASS'"
      ]
     },
     "execution_count": 57,
     "metadata": {},
     "output_type": "execute_result"
    }
   ],
   "source": [
    "b"
   ]
  },
  {
   "cell_type": "code",
   "execution_count": 58,
   "id": "283ca20c",
   "metadata": {},
   "outputs": [
    {
     "data": {
      "text/plain": [
       "'this is a python class'"
      ]
     },
     "execution_count": 58,
     "metadata": {},
     "output_type": "execute_result"
    }
   ],
   "source": [
    "b.lower()"
   ]
  },
  {
   "cell_type": "markdown",
   "id": "0b8dfc8c",
   "metadata": {},
   "source": [
    "### swapcase\n",
    "\n",
    "- It will convert all the uppercase alphabet to lowercase alphabet and all lowercase alphabet to uppercase alphabet\n",
    "- It will also return a new object"
   ]
  },
  {
   "cell_type": "code",
   "execution_count": 59,
   "id": "780f6235",
   "metadata": {},
   "outputs": [
    {
     "data": {
      "text/plain": [
       "'mAyAnK'"
      ]
     },
     "execution_count": 59,
     "metadata": {},
     "output_type": "execute_result"
    }
   ],
   "source": [
    "a = 'MaYaNk'\n",
    "a.swapcase()"
   ]
  },
  {
   "cell_type": "markdown",
   "id": "22ced592",
   "metadata": {},
   "source": [
    "### Casefold()\n",
    "\n",
    "- It converts all the uppercase alphabet to lowercase alphabet\n",
    "- It also create a new object"
   ]
  },
  {
   "cell_type": "code",
   "execution_count": 60,
   "id": "b1d8a1df",
   "metadata": {},
   "outputs": [
    {
     "data": {
      "text/plain": [
       "'python'"
      ]
     },
     "execution_count": 60,
     "metadata": {},
     "output_type": "execute_result"
    }
   ],
   "source": [
    "a = 'PYTHON'\n",
    "a.casefold()"
   ]
  },
  {
   "cell_type": "code",
   "execution_count": 65,
   "id": "b00ad6c5",
   "metadata": {},
   "outputs": [
    {
     "name": "stdout",
     "output_type": "stream",
     "text": [
      "python 1580502828592\n"
     ]
    }
   ],
   "source": [
    "a = 'Python'\n",
    "b = a.lower()\n",
    "print(b, id(b))"
   ]
  },
  {
   "cell_type": "code",
   "execution_count": 64,
   "id": "2ded09aa",
   "metadata": {},
   "outputs": [
    {
     "name": "stdout",
     "output_type": "stream",
     "text": [
      "python 1580498627440\n"
     ]
    }
   ],
   "source": [
    "c = a.casefold()\n",
    "print(c, id(c))"
   ]
  },
  {
   "cell_type": "markdown",
   "id": "8147a726",
   "metadata": {},
   "source": [
    "### Casefold() vs lower()\n",
    "\n",
    "- lower() can convert only the ASCII character \n",
    "- casefold() can convert both the ASCII characters as well as non- ASCII characters"
   ]
  },
  {
   "cell_type": "code",
   "execution_count": 66,
   "id": "ef003c7c",
   "metadata": {},
   "outputs": [
    {
     "data": {
      "text/plain": [
       "'straße'"
      ]
     },
     "execution_count": 66,
     "metadata": {},
     "output_type": "execute_result"
    }
   ],
   "source": [
    "a = 'Straẞe'\n",
    "a.lower()"
   ]
  },
  {
   "cell_type": "code",
   "execution_count": 67,
   "id": "1b415d98",
   "metadata": {},
   "outputs": [
    {
     "data": {
      "text/plain": [
       "'strasse'"
      ]
     },
     "execution_count": 67,
     "metadata": {},
     "output_type": "execute_result"
    }
   ],
   "source": [
    "a.casefold()"
   ]
  },
  {
   "cell_type": "markdown",
   "id": "0c875423",
   "metadata": {},
   "source": [
    "### count()\n",
    "\n",
    "- It will count the number of occurance of a particular character or a sub_string in a given string\n",
    "\n",
    "        Syntax:\n",
    "        \n",
    "        variable_name.count('character/sub-string')\n",
    "        variable_name.count('character/sub-string', starting_indexing)\n",
    "        variable_name.count('character/sub-string', starting_indexing, ending_indexing(excluded)"
   ]
  },
  {
   "cell_type": "code",
   "execution_count": 88,
   "id": "65920856",
   "metadata": {},
   "outputs": [
    {
     "data": {
      "text/plain": [
       "7"
      ]
     },
     "execution_count": 88,
     "metadata": {},
     "output_type": "execute_result"
    }
   ],
   "source": [
    "a = 'My name is Mayank Atul Ghai, my fathers name is Atul Ghai'\n",
    "\n",
    "a.count('a')"
   ]
  },
  {
   "cell_type": "code",
   "execution_count": 72,
   "id": "72e6e270",
   "metadata": {},
   "outputs": [
    {
     "data": {
      "text/plain": [
       "2"
      ]
     },
     "execution_count": 72,
     "metadata": {},
     "output_type": "execute_result"
    }
   ],
   "source": [
    "a.count('Atul')"
   ]
  },
  {
   "cell_type": "code",
   "execution_count": 73,
   "id": "11a9fd9d",
   "metadata": {
    "scrolled": true
   },
   "outputs": [
    {
     "data": {
      "text/plain": [
       "5"
      ]
     },
     "execution_count": 73,
     "metadata": {},
     "output_type": "execute_result"
    }
   ],
   "source": [
    "a.count('a', 13)"
   ]
  },
  {
   "cell_type": "code",
   "execution_count": 89,
   "id": "91d72cb0",
   "metadata": {
    "scrolled": true
   },
   "outputs": [
    {
     "data": {
      "text/plain": [
       "'yank Atul Ghai, my fathers name is Atul Ghai'"
      ]
     },
     "execution_count": 89,
     "metadata": {},
     "output_type": "execute_result"
    }
   ],
   "source": [
    "a[13:]"
   ]
  },
  {
   "cell_type": "code",
   "execution_count": 90,
   "id": "b00cc864",
   "metadata": {},
   "outputs": [
    {
     "data": {
      "text/plain": [
       "5"
      ]
     },
     "execution_count": 90,
     "metadata": {},
     "output_type": "execute_result"
    }
   ],
   "source": [
    "a[13:].count('a')"
   ]
  },
  {
   "cell_type": "code",
   "execution_count": 75,
   "id": "05de42d5",
   "metadata": {
    "scrolled": true
   },
   "outputs": [
    {
     "data": {
      "text/plain": [
       "2"
      ]
     },
     "execution_count": 75,
     "metadata": {},
     "output_type": "execute_result"
    }
   ],
   "source": [
    "a.count('a', 11, 25)"
   ]
  },
  {
   "cell_type": "code",
   "execution_count": 91,
   "id": "cb112270",
   "metadata": {},
   "outputs": [
    {
     "data": {
      "text/plain": [
       "'Mayank Atul Gh'"
      ]
     },
     "execution_count": 91,
     "metadata": {},
     "output_type": "execute_result"
    }
   ],
   "source": [
    "a[11:25]"
   ]
  },
  {
   "cell_type": "code",
   "execution_count": 92,
   "id": "3f82aa69",
   "metadata": {},
   "outputs": [
    {
     "data": {
      "text/plain": [
       "2"
      ]
     },
     "execution_count": 92,
     "metadata": {},
     "output_type": "execute_result"
    }
   ],
   "source": [
    "a[11:25].count('a')"
   ]
  },
  {
   "cell_type": "code",
   "execution_count": 77,
   "id": "27bfc0b4",
   "metadata": {},
   "outputs": [
    {
     "data": {
      "text/plain": [
       "2"
      ]
     },
     "execution_count": 77,
     "metadata": {},
     "output_type": "execute_result"
    }
   ],
   "source": [
    "a[11:25].count('a')"
   ]
  },
  {
   "cell_type": "code",
   "execution_count": 78,
   "id": "2fccecad",
   "metadata": {},
   "outputs": [
    {
     "data": {
      "text/plain": [
       "0"
      ]
     },
     "execution_count": 78,
     "metadata": {},
     "output_type": "execute_result"
    }
   ],
   "source": [
    "a = 'Mayank Ga'\n",
    "a.count('a', -1,-7 )"
   ]
  },
  {
   "cell_type": "code",
   "execution_count": 83,
   "id": "9312dd0a",
   "metadata": {},
   "outputs": [
    {
     "data": {
      "text/plain": [
       "0"
      ]
     },
     "execution_count": 83,
     "metadata": {},
     "output_type": "execute_result"
    }
   ],
   "source": [
    "a[-1:-7].count('a')"
   ]
  },
  {
   "cell_type": "code",
   "execution_count": 108,
   "id": "57d8805c",
   "metadata": {},
   "outputs": [
    {
     "data": {
      "text/plain": [
       "1"
      ]
     },
     "execution_count": 108,
     "metadata": {},
     "output_type": "execute_result"
    }
   ],
   "source": [
    "a = 'Mayank Ghai'\n",
    "a.count('a', -7,-1 )"
   ]
  },
  {
   "cell_type": "code",
   "execution_count": 84,
   "id": "4dff4c3a",
   "metadata": {},
   "outputs": [
    {
     "data": {
      "text/plain": [
       "'nk Gha'"
      ]
     },
     "execution_count": 84,
     "metadata": {},
     "output_type": "execute_result"
    }
   ],
   "source": [
    "a[-7:-1:1]"
   ]
  },
  {
   "cell_type": "code",
   "execution_count": 86,
   "id": "c4e1ec7f",
   "metadata": {},
   "outputs": [
    {
     "data": {
      "text/plain": [
       "'nk Gha'"
      ]
     },
     "execution_count": 86,
     "metadata": {},
     "output_type": "execute_result"
    }
   ],
   "source": [
    "a[-7]+a[-6]+a[-5]+a[-4]+a[-3]+a[-2]"
   ]
  },
  {
   "cell_type": "code",
   "execution_count": null,
   "id": "bc6d1a42",
   "metadata": {},
   "outputs": [],
   "source": [
    "                0  1  2  3  4  5  6  7  8  9  10 ------> Positive indexing\n",
    "                M  A  Y  A  N  K     G  H  A  I \n",
    "              -11-10 -9 -8 -7 -6 -5 -4 -3 -2 -1 ------> Negative Indexing "
   ]
  },
  {
   "cell_type": "code",
   "execution_count": 110,
   "id": "d85257ce",
   "metadata": {
    "scrolled": true
   },
   "outputs": [
    {
     "data": {
      "text/plain": [
       "''"
      ]
     },
     "execution_count": 110,
     "metadata": {},
     "output_type": "execute_result"
    }
   ],
   "source": [
    "a[-1:-7:] # left direction"
   ]
  },
  {
   "cell_type": "code",
   "execution_count": null,
   "id": "9f33d081",
   "metadata": {},
   "outputs": [],
   "source": [
    "a[-1]+a[0]  # right direction"
   ]
  },
  {
   "cell_type": "code",
   "execution_count": null,
   "id": "6de2afb1",
   "metadata": {},
   "outputs": [],
   "source": []
  },
  {
   "cell_type": "markdown",
   "id": "13c6b207",
   "metadata": {},
   "source": [
    "__Here you are telling the translator to move in the right to left direction but the step-size will act from left to direction, now this will create a contradiction that in which way it should go and thats why the answer is an empty string.__"
   ]
  },
  {
   "cell_type": "code",
   "execution_count": null,
   "id": "cf4becac",
   "metadata": {},
   "outputs": [],
   "source": [
    "print(), len(), dir(), oct(), hex(), bin(), id(), type() ---> built-in functions\n",
    "user defined \n"
   ]
  },
  {
   "cell_type": "code",
   "execution_count": 101,
   "id": "0fe53cca",
   "metadata": {},
   "outputs": [
    {
     "data": {
      "text/plain": [
       "12"
      ]
     },
     "execution_count": 101,
     "metadata": {},
     "output_type": "execute_result"
    }
   ],
   "source": [
    "def add(a,b):\n",
    "    return a+b\n",
    "\n",
    "add(5, 7)"
   ]
  },
  {
   "cell_type": "code",
   "execution_count": 104,
   "id": "6a0115a7",
   "metadata": {},
   "outputs": [
    {
     "data": {
      "text/plain": [
       "'MayankGhai'"
      ]
     },
     "execution_count": 104,
     "metadata": {},
     "output_type": "execute_result"
    }
   ],
   "source": [
    "add('Mayank', 'Ghai')"
   ]
  },
  {
   "cell_type": "code",
   "execution_count": 105,
   "id": "08ff7a90",
   "metadata": {
    "scrolled": true
   },
   "outputs": [
    {
     "data": {
      "text/plain": [
       "3.0"
      ]
     },
     "execution_count": 105,
     "metadata": {},
     "output_type": "execute_result"
    }
   ],
   "source": [
    "add(1.0, 2.0)"
   ]
  },
  {
   "cell_type": "code",
   "execution_count": 106,
   "id": "09bccc7c",
   "metadata": {},
   "outputs": [
    {
     "data": {
      "text/plain": [
       "(15+15j)"
      ]
     },
     "execution_count": 106,
     "metadata": {},
     "output_type": "execute_result"
    }
   ],
   "source": [
    "add(8+9j, 7+6j)"
   ]
  },
  {
   "cell_type": "code",
   "execution_count": null,
   "id": "39683b6f",
   "metadata": {},
   "outputs": [],
   "source": [
    "a.method_name"
   ]
  },
  {
   "cell_type": "code",
   "execution_count": 102,
   "id": "d45bb08c",
   "metadata": {},
   "outputs": [
    {
     "ename": "AttributeError",
     "evalue": "'list' object has no attribute 'capitalize'",
     "output_type": "error",
     "traceback": [
      "\u001b[1;31m---------------------------------------------------------------------------\u001b[0m",
      "\u001b[1;31mAttributeError\u001b[0m                            Traceback (most recent call last)",
      "Cell \u001b[1;32mIn[102], line 2\u001b[0m\n\u001b[0;32m      1\u001b[0m a \u001b[38;5;241m=\u001b[39m [\u001b[38;5;241m1\u001b[39m,\u001b[38;5;241m2\u001b[39m,\u001b[38;5;241m3\u001b[39m,\u001b[38;5;241m4\u001b[39m,\u001b[38;5;241m5\u001b[39m]\n\u001b[1;32m----> 2\u001b[0m a\u001b[38;5;241m.\u001b[39mcapitalize()\n",
      "\u001b[1;31mAttributeError\u001b[0m: 'list' object has no attribute 'capitalize'"
     ]
    }
   ],
   "source": [
    "a = [1,2,3,4,5]\n",
    "a.capitalize()"
   ]
  },
  {
   "cell_type": "code",
   "execution_count": 103,
   "id": "ac0ab029",
   "metadata": {},
   "outputs": [
    {
     "data": {
      "text/plain": [
       "'Python'"
      ]
     },
     "execution_count": 103,
     "metadata": {},
     "output_type": "execute_result"
    }
   ],
   "source": [
    "a = 'python'\n",
    "a.capitalize()"
   ]
  },
  {
   "cell_type": "code",
   "execution_count": null,
   "id": "40578301",
   "metadata": {},
   "outputs": [],
   "source": []
  }
 ],
 "metadata": {
  "kernelspec": {
   "display_name": "Python 3 (ipykernel)",
   "language": "python",
   "name": "python3"
  },
  "language_info": {
   "codemirror_mode": {
    "name": "ipython",
    "version": 3
   },
   "file_extension": ".py",
   "mimetype": "text/x-python",
   "name": "python",
   "nbconvert_exporter": "python",
   "pygments_lexer": "ipython3",
   "version": "3.11.5"
  }
 },
 "nbformat": 4,
 "nbformat_minor": 5
}
