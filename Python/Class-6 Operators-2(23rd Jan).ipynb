{
 "cells": [
  {
   "cell_type": "markdown",
   "id": "175cd187",
   "metadata": {},
   "source": [
    "### Assignment Operator (=)\n",
    "\n",
    "- It is used to assign any value (int, float, string, tuple, list etc) to a variable "
   ]
  },
  {
   "cell_type": "code",
   "execution_count": 3,
   "id": "6805a5c8",
   "metadata": {},
   "outputs": [
    {
     "name": "stdout",
     "output_type": "stream",
     "text": [
      "10 Mayank [1, 2, 3, 4, 5]\n"
     ]
    }
   ],
   "source": [
    "a = 10\n",
    "b = 'Mayank'\n",
    "c = [1,2,3,4,5]\n",
    "print(a, b, c)"
   ]
  },
  {
   "cell_type": "markdown",
   "id": "66b6b89b",
   "metadata": {},
   "source": [
    "- Logical Operator \n",
    "- Comparision Operator \n",
    "- Equality Operator\n",
    "\n",
    "The answer is going to be either True(1) or False(0) i.e it is going to return a Boolean Value "
   ]
  },
  {
   "cell_type": "markdown",
   "id": "10eb8a8e",
   "metadata": {},
   "source": [
    "- Numerical Data-type \n",
    "    - int: 0 is False else True \n",
    "    - float: 0.0 is False else True \n",
    "    - complex: 0+0j is False else True \n",
    "\n",
    "- Sequential Data-type\n",
    "    - String: empty string('' or \"\") is False else True \n",
    "    - List: empty list([]) is False else True \n",
    "    - Tuple: empty tuple(()) is False else True\n",
    "\n",
    "- Non- sequential Data-type and Mapping Data-type \n",
    "    - Dict: empty dict ({}) is False else True \n",
    "    - Set: empty set (set()) is False else True \n",
    "    - frozenset: empty frozesnset (frozenset()) is False else True \n",
    "        "
   ]
  },
  {
   "cell_type": "code",
   "execution_count": 5,
   "id": "61ab5c3e",
   "metadata": {},
   "outputs": [
    {
     "data": {
      "text/plain": [
       "False"
      ]
     },
     "execution_count": 5,
     "metadata": {},
     "output_type": "execute_result"
    }
   ],
   "source": [
    "bool(0)"
   ]
  },
  {
   "cell_type": "code",
   "execution_count": 6,
   "id": "0759b478",
   "metadata": {},
   "outputs": [
    {
     "data": {
      "text/plain": [
       "True"
      ]
     },
     "execution_count": 6,
     "metadata": {},
     "output_type": "execute_result"
    }
   ],
   "source": [
    "bool(100)"
   ]
  },
  {
   "cell_type": "code",
   "execution_count": 7,
   "id": "3ab1940b",
   "metadata": {},
   "outputs": [
    {
     "data": {
      "text/plain": [
       "True"
      ]
     },
     "execution_count": 7,
     "metadata": {},
     "output_type": "execute_result"
    }
   ],
   "source": [
    "bool(-100)"
   ]
  },
  {
   "cell_type": "code",
   "execution_count": 9,
   "id": "e8b0d4d8",
   "metadata": {},
   "outputs": [
    {
     "data": {
      "text/plain": [
       "False"
      ]
     },
     "execution_count": 9,
     "metadata": {},
     "output_type": "execute_result"
    }
   ],
   "source": [
    "bool(0.0)"
   ]
  },
  {
   "cell_type": "code",
   "execution_count": 8,
   "id": "75e16179",
   "metadata": {
    "scrolled": true
   },
   "outputs": [
    {
     "data": {
      "text/plain": [
       "True"
      ]
     },
     "execution_count": 8,
     "metadata": {},
     "output_type": "execute_result"
    }
   ],
   "source": [
    "bool(0.0000000001)"
   ]
  },
  {
   "cell_type": "code",
   "execution_count": 10,
   "id": "1b3669be",
   "metadata": {},
   "outputs": [
    {
     "data": {
      "text/plain": [
       "False"
      ]
     },
     "execution_count": 10,
     "metadata": {},
     "output_type": "execute_result"
    }
   ],
   "source": [
    "bool(0+0j)"
   ]
  },
  {
   "cell_type": "code",
   "execution_count": 11,
   "id": "1a238dbf",
   "metadata": {},
   "outputs": [
    {
     "data": {
      "text/plain": [
       "True"
      ]
     },
     "execution_count": 11,
     "metadata": {},
     "output_type": "execute_result"
    }
   ],
   "source": [
    "bool(0+7j)"
   ]
  },
  {
   "cell_type": "code",
   "execution_count": 12,
   "id": "11c1aed4",
   "metadata": {},
   "outputs": [
    {
     "data": {
      "text/plain": [
       "False"
      ]
     },
     "execution_count": 12,
     "metadata": {},
     "output_type": "execute_result"
    }
   ],
   "source": [
    "bool('')"
   ]
  },
  {
   "cell_type": "code",
   "execution_count": 13,
   "id": "4b72cde9",
   "metadata": {},
   "outputs": [
    {
     "data": {
      "text/plain": [
       "True"
      ]
     },
     "execution_count": 13,
     "metadata": {},
     "output_type": "execute_result"
    }
   ],
   "source": [
    "bool(' ')"
   ]
  },
  {
   "cell_type": "code",
   "execution_count": 14,
   "id": "56ffa5f5",
   "metadata": {},
   "outputs": [
    {
     "data": {
      "text/plain": [
       "False"
      ]
     },
     "execution_count": 14,
     "metadata": {},
     "output_type": "execute_result"
    }
   ],
   "source": [
    "bool([])"
   ]
  },
  {
   "cell_type": "code",
   "execution_count": 15,
   "id": "4ed8a6b3",
   "metadata": {},
   "outputs": [
    {
     "data": {
      "text/plain": [
       "True"
      ]
     },
     "execution_count": 15,
     "metadata": {},
     "output_type": "execute_result"
    }
   ],
   "source": [
    "bool([1])"
   ]
  },
  {
   "cell_type": "code",
   "execution_count": 16,
   "id": "f24b7b41",
   "metadata": {},
   "outputs": [
    {
     "data": {
      "text/plain": [
       "False"
      ]
     },
     "execution_count": 16,
     "metadata": {},
     "output_type": "execute_result"
    }
   ],
   "source": [
    "bool(())"
   ]
  },
  {
   "cell_type": "code",
   "execution_count": 17,
   "id": "0fe082ce",
   "metadata": {},
   "outputs": [
    {
     "ename": "SyntaxError",
     "evalue": "invalid syntax (2218700231.py, line 1)",
     "output_type": "error",
     "traceback": [
      "\u001b[1;36m  Cell \u001b[1;32mIn[17], line 1\u001b[1;36m\u001b[0m\n\u001b[1;33m    bool((,))\u001b[0m\n\u001b[1;37m          ^\u001b[0m\n\u001b[1;31mSyntaxError\u001b[0m\u001b[1;31m:\u001b[0m invalid syntax\n"
     ]
    }
   ],
   "source": [
    "bool((1,))"
   ]
  },
  {
   "cell_type": "code",
   "execution_count": 19,
   "id": "f6a09fe4",
   "metadata": {},
   "outputs": [
    {
     "data": {
      "text/plain": [
       "tuple"
      ]
     },
     "execution_count": 19,
     "metadata": {},
     "output_type": "execute_result"
    }
   ],
   "source": [
    "a = (1,)\n",
    "type(a)"
   ]
  },
  {
   "cell_type": "code",
   "execution_count": 26,
   "id": "381b36ab",
   "metadata": {},
   "outputs": [
    {
     "data": {
      "text/plain": [
       "True"
      ]
     },
     "execution_count": 26,
     "metadata": {},
     "output_type": "execute_result"
    }
   ],
   "source": [
    "bool(_)"
   ]
  },
  {
   "cell_type": "code",
   "execution_count": 21,
   "id": "1b544d1c",
   "metadata": {},
   "outputs": [
    {
     "data": {
      "text/plain": [
       "True"
      ]
     },
     "execution_count": 21,
     "metadata": {},
     "output_type": "execute_result"
    }
   ],
   "source": [
    "bool('!')"
   ]
  },
  {
   "cell_type": "code",
   "execution_count": 23,
   "id": "6d9c69c5",
   "metadata": {},
   "outputs": [
    {
     "data": {
      "text/plain": [
       "False"
      ]
     },
     "execution_count": 23,
     "metadata": {},
     "output_type": "execute_result"
    }
   ],
   "source": [
    "bool(None)"
   ]
  },
  {
   "cell_type": "code",
   "execution_count": 28,
   "id": "776e5d18",
   "metadata": {},
   "outputs": [
    {
     "data": {
      "text/plain": [
       "()"
      ]
     },
     "execution_count": 28,
     "metadata": {},
     "output_type": "execute_result"
    }
   ],
   "source": [
    "lst = []\n",
    "t = tuple(lst)\n",
    "t"
   ]
  },
  {
   "cell_type": "code",
   "execution_count": 29,
   "id": "6fe99582",
   "metadata": {},
   "outputs": [
    {
     "data": {
      "text/plain": [
       "tuple"
      ]
     },
     "execution_count": 29,
     "metadata": {},
     "output_type": "execute_result"
    }
   ],
   "source": [
    "type(t)"
   ]
  },
  {
   "cell_type": "code",
   "execution_count": 30,
   "id": "c4fc84d3",
   "metadata": {},
   "outputs": [
    {
     "data": {
      "text/plain": [
       "dict"
      ]
     },
     "execution_count": 30,
     "metadata": {},
     "output_type": "execute_result"
    }
   ],
   "source": [
    "d = {}\n",
    "type(d)"
   ]
  },
  {
   "cell_type": "code",
   "execution_count": 32,
   "id": "4083fd28",
   "metadata": {},
   "outputs": [
    {
     "name": "stdout",
     "output_type": "stream",
     "text": [
      "set() <class 'set'>\n",
      "False\n"
     ]
    }
   ],
   "source": [
    "s = set(d)\n",
    "print(s, type(s))\n",
    "print(bool(s))"
   ]
  },
  {
   "cell_type": "markdown",
   "id": "e17d9a24",
   "metadata": {},
   "source": [
    "### Type-casting\n",
    "int(), float(), str(), list(), tuple(), set(), dict(), frozenset(), complex()"
   ]
  },
  {
   "cell_type": "code",
   "execution_count": 35,
   "id": "55ae391a",
   "metadata": {},
   "outputs": [
    {
     "data": {
      "text/plain": [
       "int"
      ]
     },
     "execution_count": 35,
     "metadata": {},
     "output_type": "execute_result"
    }
   ],
   "source": [
    "a = (1)\n",
    "type(a)"
   ]
  },
  {
   "cell_type": "code",
   "execution_count": 36,
   "id": "b3f5b0fa",
   "metadata": {},
   "outputs": [
    {
     "data": {
      "text/plain": [
       "tuple"
      ]
     },
     "execution_count": 36,
     "metadata": {},
     "output_type": "execute_result"
    }
   ],
   "source": [
    "a = (1,)\n",
    "type(a)"
   ]
  },
  {
   "cell_type": "code",
   "execution_count": 37,
   "id": "a6afae05",
   "metadata": {
    "scrolled": true
   },
   "outputs": [
    {
     "data": {
      "text/plain": [
       "True"
      ]
     },
     "execution_count": 37,
     "metadata": {},
     "output_type": "execute_result"
    }
   ],
   "source": [
    "bool((1,))"
   ]
  },
  {
   "cell_type": "code",
   "execution_count": 39,
   "id": "1c88e760",
   "metadata": {
    "scrolled": true
   },
   "outputs": [
    {
     "data": {
      "text/plain": [
       "True"
      ]
     },
     "execution_count": 39,
     "metadata": {},
     "output_type": "execute_result"
    }
   ],
   "source": [
    "bool((1,0))"
   ]
  },
  {
   "cell_type": "code",
   "execution_count": 11,
   "id": "038a7e03",
   "metadata": {},
   "outputs": [
    {
     "data": {
      "text/plain": [
       "type"
      ]
     },
     "execution_count": 11,
     "metadata": {},
     "output_type": "execute_result"
    }
   ],
   "source": [
    "type(_)"
   ]
  },
  {
   "cell_type": "markdown",
   "id": "8d41920a",
   "metadata": {},
   "source": [
    "### Logical Operator "
   ]
  },
  {
   "cell_type": "markdown",
   "id": "3343b117",
   "metadata": {},
   "source": [
    "- These Operators are used to perform some logical operation on the value \n",
    "- They are going to return a boolean value (True or False)\n",
    "    \n",
    "    - and \n",
    "    - or \n",
    "    - not "
   ]
  },
  {
   "cell_type": "markdown",
   "id": "c5e57a6c",
   "metadata": {},
   "source": [
    "### and logical Operator"
   ]
  },
  {
   "cell_type": "markdown",
   "id": "9667e60c",
   "metadata": {},
   "source": [
    "and logical gate \n",
    "\n",
    "0  0 ----> 0 \n",
    "0  1 ----> 0 \n",
    "1  0 ----> 0\n",
    "1  1 ----> 1"
   ]
  },
  {
   "cell_type": "markdown",
   "id": "bde85bb5",
   "metadata": {},
   "source": [
    "- and logical Operator looks for False as soon as it gets False, It will return you a false \n",
    "- if there is no false value the it will return you a True\n",
    "- if two false value are there in the statement, it will return the first False statement\n",
    "- if two true values are there in the statement, it will return the second True statement"
   ]
  },
  {
   "cell_type": "code",
   "execution_count": 14,
   "id": "34bb544b",
   "metadata": {},
   "outputs": [
    {
     "data": {
      "text/plain": [
       "False"
      ]
     },
     "execution_count": 14,
     "metadata": {},
     "output_type": "execute_result"
    }
   ],
   "source": [
    "False and False "
   ]
  },
  {
   "cell_type": "code",
   "execution_count": 15,
   "id": "8f22b1a0",
   "metadata": {},
   "outputs": [
    {
     "data": {
      "text/plain": [
       "False"
      ]
     },
     "execution_count": 15,
     "metadata": {},
     "output_type": "execute_result"
    }
   ],
   "source": [
    "True and False "
   ]
  },
  {
   "cell_type": "code",
   "execution_count": 16,
   "id": "24fc47fa",
   "metadata": {},
   "outputs": [
    {
     "data": {
      "text/plain": [
       "False"
      ]
     },
     "execution_count": 16,
     "metadata": {},
     "output_type": "execute_result"
    }
   ],
   "source": [
    "False and True "
   ]
  },
  {
   "cell_type": "code",
   "execution_count": 17,
   "id": "4e9d6213",
   "metadata": {},
   "outputs": [
    {
     "data": {
      "text/plain": [
       "True"
      ]
     },
     "execution_count": 17,
     "metadata": {},
     "output_type": "execute_result"
    }
   ],
   "source": [
    "True and True "
   ]
  },
  {
   "cell_type": "code",
   "execution_count": 18,
   "id": "79d72b23",
   "metadata": {},
   "outputs": [
    {
     "data": {
      "text/plain": [
       "''"
      ]
     },
     "execution_count": 18,
     "metadata": {},
     "output_type": "execute_result"
    }
   ],
   "source": [
    "'' and '1'"
   ]
  },
  {
   "cell_type": "code",
   "execution_count": 19,
   "id": "0e5df699",
   "metadata": {},
   "outputs": [
    {
     "data": {
      "text/plain": [
       "{}"
      ]
     },
     "execution_count": 19,
     "metadata": {},
     "output_type": "execute_result"
    }
   ],
   "source": [
    "[1,2,3,4] and {}"
   ]
  },
  {
   "cell_type": "code",
   "execution_count": 20,
   "id": "932a5ca6",
   "metadata": {},
   "outputs": [
    {
     "data": {
      "text/plain": [
       "{}"
      ]
     },
     "execution_count": 20,
     "metadata": {},
     "output_type": "execute_result"
    }
   ],
   "source": [
    "{} and ''"
   ]
  },
  {
   "cell_type": "code",
   "execution_count": 21,
   "id": "b01ed4eb",
   "metadata": {},
   "outputs": [
    {
     "data": {
      "text/plain": [
       "0"
      ]
     },
     "execution_count": 21,
     "metadata": {},
     "output_type": "execute_result"
    }
   ],
   "source": [
    "0 and 0.0"
   ]
  },
  {
   "cell_type": "code",
   "execution_count": 22,
   "id": "805c48e7",
   "metadata": {},
   "outputs": [
    {
     "data": {
      "text/plain": [
       "0.0"
      ]
     },
     "execution_count": 22,
     "metadata": {},
     "output_type": "execute_result"
    }
   ],
   "source": [
    "0.0 and 0"
   ]
  },
  {
   "cell_type": "code",
   "execution_count": 23,
   "id": "f66dad19",
   "metadata": {},
   "outputs": [
    {
     "data": {
      "text/plain": [
       "3"
      ]
     },
     "execution_count": 23,
     "metadata": {},
     "output_type": "execute_result"
    }
   ],
   "source": [
    "1 and 3"
   ]
  },
  {
   "cell_type": "code",
   "execution_count": 29,
   "id": "fe3fa864",
   "metadata": {},
   "outputs": [
    {
     "data": {
      "text/plain": [
       "[1, 2, 3]"
      ]
     },
     "execution_count": 29,
     "metadata": {},
     "output_type": "execute_result"
    }
   ],
   "source": [
    "# 0 and 0.0\n",
    "1 and [1,2,3]"
   ]
  },
  {
   "cell_type": "markdown",
   "id": "3667ed55",
   "metadata": {},
   "source": [
    "### Or Logical Operator "
   ]
  },
  {
   "cell_type": "code",
   "execution_count": null,
   "id": "604454bd",
   "metadata": {},
   "outputs": [],
   "source": [
    "0  0 --->0\n",
    "1  0 --->1\n",
    "0  1 --->1\n",
    "1  1 --->1"
   ]
  },
  {
   "cell_type": "markdown",
   "id": "3ea789ec",
   "metadata": {},
   "source": [
    "- or logical Operator looks for True as soon as it gets True , It will return you a True \n",
    "- if there is no True  value the it will return you a False\n",
    "- if two True value are there in the statement, it will return the first True statement\n",
    "- if two False values are there in the statement, it will return the second False statement"
   ]
  },
  {
   "cell_type": "code",
   "execution_count": 33,
   "id": "8a57b069",
   "metadata": {},
   "outputs": [
    {
     "data": {
      "text/plain": [
       "True"
      ]
     },
     "execution_count": 33,
     "metadata": {},
     "output_type": "execute_result"
    }
   ],
   "source": [
    "True or True"
   ]
  },
  {
   "cell_type": "code",
   "execution_count": 34,
   "id": "b866c275",
   "metadata": {},
   "outputs": [
    {
     "data": {
      "text/plain": [
       "True"
      ]
     },
     "execution_count": 34,
     "metadata": {},
     "output_type": "execute_result"
    }
   ],
   "source": [
    "True or False"
   ]
  },
  {
   "cell_type": "code",
   "execution_count": 35,
   "id": "d6cb6d55",
   "metadata": {},
   "outputs": [
    {
     "data": {
      "text/plain": [
       "True"
      ]
     },
     "execution_count": 35,
     "metadata": {},
     "output_type": "execute_result"
    }
   ],
   "source": [
    "False or True"
   ]
  },
  {
   "cell_type": "code",
   "execution_count": 36,
   "id": "afee66de",
   "metadata": {},
   "outputs": [
    {
     "data": {
      "text/plain": [
       "False"
      ]
     },
     "execution_count": 36,
     "metadata": {},
     "output_type": "execute_result"
    }
   ],
   "source": [
    "False or False"
   ]
  },
  {
   "cell_type": "code",
   "execution_count": 42,
   "id": "5286f6c8",
   "metadata": {},
   "outputs": [
    {
     "data": {
      "text/plain": [
       "1"
      ]
     },
     "execution_count": 42,
     "metadata": {},
     "output_type": "execute_result"
    }
   ],
   "source": [
    "1 or 0"
   ]
  },
  {
   "cell_type": "code",
   "execution_count": 38,
   "id": "87d2751f",
   "metadata": {},
   "outputs": [
    {
     "data": {
      "text/plain": [
       "[1, 2, 3]"
      ]
     },
     "execution_count": 38,
     "metadata": {},
     "output_type": "execute_result"
    }
   ],
   "source": [
    "{} or [1,2,3]"
   ]
  },
  {
   "cell_type": "code",
   "execution_count": 41,
   "id": "8da6c91c",
   "metadata": {},
   "outputs": [
    {
     "data": {
      "text/plain": [
       "'8'"
      ]
     },
     "execution_count": 41,
     "metadata": {},
     "output_type": "execute_result"
    }
   ],
   "source": [
    "'8' or []"
   ]
  },
  {
   "cell_type": "code",
   "execution_count": 43,
   "id": "9855800a",
   "metadata": {},
   "outputs": [
    {
     "data": {
      "text/plain": [
       "0.0"
      ]
     },
     "execution_count": 43,
     "metadata": {},
     "output_type": "execute_result"
    }
   ],
   "source": [
    "[] or 0.0"
   ]
  },
  {
   "cell_type": "markdown",
   "id": "495ae715",
   "metadata": {},
   "source": [
    "### Not (unary opertor)\n",
    "\n",
    "- It is called a unary operator because it will take only one operand\n",
    "- It will return the opposite of the passed operand"
   ]
  },
  {
   "cell_type": "code",
   "execution_count": 44,
   "id": "fcf0421d",
   "metadata": {},
   "outputs": [
    {
     "name": "stdout",
     "output_type": "stream",
     "text": [
      "False\n"
     ]
    }
   ],
   "source": [
    "print(not True)"
   ]
  },
  {
   "cell_type": "code",
   "execution_count": 45,
   "id": "301377ad",
   "metadata": {},
   "outputs": [
    {
     "name": "stdout",
     "output_type": "stream",
     "text": [
      "False\n"
     ]
    }
   ],
   "source": [
    "print(not 10)"
   ]
  },
  {
   "cell_type": "code",
   "execution_count": 46,
   "id": "93093e6c",
   "metadata": {},
   "outputs": [
    {
     "name": "stdout",
     "output_type": "stream",
     "text": [
      "True\n"
     ]
    }
   ],
   "source": [
    "print(not {})"
   ]
  },
  {
   "cell_type": "markdown",
   "id": "6b868449",
   "metadata": {},
   "source": [
    "### Comparision Operator \n",
    "\n",
    "- these are used to compare the two value \n",
    "- It will return us either a true or False "
   ]
  },
  {
   "cell_type": "markdown",
   "id": "9f9e98df",
   "metadata": {},
   "source": [
    "< --- less than\n",
    "> ---- greater than \n",
    "<= ---- less than equal to (It will give a True if some value is either less than the other value or equal to it else False\n",
    ">= ---- Greater than equal to  (It will give a True if some value is either greater than or equal to some value else False"
   ]
  },
  {
   "cell_type": "code",
   "execution_count": 48,
   "id": "97fe2294",
   "metadata": {},
   "outputs": [
    {
     "data": {
      "text/plain": [
       "True"
      ]
     },
     "execution_count": 48,
     "metadata": {},
     "output_type": "execute_result"
    }
   ],
   "source": [
    "10<20"
   ]
  },
  {
   "cell_type": "code",
   "execution_count": 49,
   "id": "6b819cf4",
   "metadata": {},
   "outputs": [
    {
     "data": {
      "text/plain": [
       "False"
      ]
     },
     "execution_count": 49,
     "metadata": {},
     "output_type": "execute_result"
    }
   ],
   "source": [
    "10>20"
   ]
  },
  {
   "cell_type": "code",
   "execution_count": 50,
   "id": "d728b7d0",
   "metadata": {},
   "outputs": [
    {
     "data": {
      "text/plain": [
       "True"
      ]
     },
     "execution_count": 50,
     "metadata": {},
     "output_type": "execute_result"
    }
   ],
   "source": [
    "11<=11"
   ]
  },
  {
   "cell_type": "code",
   "execution_count": 51,
   "id": "2bc6fb46",
   "metadata": {},
   "outputs": [
    {
     "data": {
      "text/plain": [
       "True"
      ]
     },
     "execution_count": 51,
     "metadata": {},
     "output_type": "execute_result"
    }
   ],
   "source": [
    "12>= 12"
   ]
  },
  {
   "cell_type": "code",
   "execution_count": 52,
   "id": "21b1cf09",
   "metadata": {},
   "outputs": [
    {
     "name": "stdout",
     "output_type": "stream",
     "text": [
      "False\n"
     ]
    }
   ],
   "source": [
    "print(2.6>6.8)"
   ]
  },
  {
   "cell_type": "markdown",
   "id": "d08e0016",
   "metadata": {},
   "source": [
    "### ASCII"
   ]
  },
  {
   "cell_type": "code",
   "execution_count": 55,
   "id": "7b0512f3",
   "metadata": {},
   "outputs": [
    {
     "name": "stdout",
     "output_type": "stream",
     "text": [
      "False\n"
     ]
    }
   ],
   "source": [
    "print('A'>'a')"
   ]
  },
  {
   "cell_type": "code",
   "execution_count": 60,
   "id": "75572577",
   "metadata": {},
   "outputs": [
    {
     "name": "stdout",
     "output_type": "stream",
     "text": [
      "65\n"
     ]
    }
   ],
   "source": [
    "a = ord('A')\n",
    "print(a)"
   ]
  },
  {
   "cell_type": "code",
   "execution_count": 54,
   "id": "dd1074f8",
   "metadata": {},
   "outputs": [
    {
     "data": {
      "text/plain": [
       "97"
      ]
     },
     "execution_count": 54,
     "metadata": {},
     "output_type": "execute_result"
    }
   ],
   "source": [
    "ord('a')"
   ]
  },
  {
   "cell_type": "code",
   "execution_count": 56,
   "id": "132488cf",
   "metadata": {},
   "outputs": [
    {
     "ename": "TypeError",
     "evalue": "'>=' not supported between instances of 'str' and 'int'",
     "output_type": "error",
     "traceback": [
      "\u001b[1;31m---------------------------------------------------------------------------\u001b[0m",
      "\u001b[1;31mTypeError\u001b[0m                                 Traceback (most recent call last)",
      "Cell \u001b[1;32mIn[56], line 1\u001b[0m\n\u001b[1;32m----> 1\u001b[0m \u001b[38;5;28mprint\u001b[39m(\u001b[38;5;124m'\u001b[39m\u001b[38;5;124mA\u001b[39m\u001b[38;5;124m'\u001b[39m\u001b[38;5;241m>\u001b[39m\u001b[38;5;241m=\u001b[39m\u001b[38;5;241m65\u001b[39m)\n",
      "\u001b[1;31mTypeError\u001b[0m: '>=' not supported between instances of 'str' and 'int'"
     ]
    }
   ],
   "source": [
    "print('A'>=65)"
   ]
  },
  {
   "cell_type": "code",
   "execution_count": 57,
   "id": "cf4eb4fb",
   "metadata": {},
   "outputs": [
    {
     "name": "stdout",
     "output_type": "stream",
     "text": [
      "True\n"
     ]
    }
   ],
   "source": [
    "print('A'>='65')"
   ]
  },
  {
   "cell_type": "code",
   "execution_count": 58,
   "id": "c5c8a02f",
   "metadata": {},
   "outputs": [
    {
     "data": {
      "text/plain": [
       "False"
      ]
     },
     "execution_count": 58,
     "metadata": {},
     "output_type": "execute_result"
    }
   ],
   "source": [
    "True > True #----> 1>1"
   ]
  },
  {
   "cell_type": "code",
   "execution_count": 61,
   "id": "be1c1094",
   "metadata": {},
   "outputs": [
    {
     "data": {
      "text/plain": [
       "True"
      ]
     },
     "execution_count": 61,
     "metadata": {},
     "output_type": "execute_result"
    }
   ],
   "source": [
    "ord(\"A\")>=65"
   ]
  },
  {
   "cell_type": "code",
   "execution_count": 62,
   "id": "2030568d",
   "metadata": {},
   "outputs": [
    {
     "name": "stdout",
     "output_type": "stream",
     "text": [
      "False\n"
     ]
    }
   ],
   "source": [
    "print('Mayank'>'Monisha')"
   ]
  },
  {
   "cell_type": "code",
   "execution_count": 63,
   "id": "8d1e461e",
   "metadata": {},
   "outputs": [
    {
     "name": "stdout",
     "output_type": "stream",
     "text": [
      "False\n"
     ]
    }
   ],
   "source": [
    "print('Atul'>'Ghai')"
   ]
  },
  {
   "cell_type": "code",
   "execution_count": 65,
   "id": "da3b55e5",
   "metadata": {},
   "outputs": [
    {
     "name": "stdout",
     "output_type": "stream",
     "text": [
      "True\n"
     ]
    }
   ],
   "source": [
    "print('Atul'<'Ghai')"
   ]
  },
  {
   "cell_type": "code",
   "execution_count": 66,
   "id": "fdcbc952",
   "metadata": {},
   "outputs": [
    {
     "name": "stdout",
     "output_type": "stream",
     "text": [
      "True\n"
     ]
    }
   ],
   "source": [
    "print('MOM'>'MAA')"
   ]
  },
  {
   "cell_type": "code",
   "execution_count": 67,
   "id": "36b7bec8",
   "metadata": {},
   "outputs": [
    {
     "name": "stdout",
     "output_type": "stream",
     "text": [
      "True\n"
     ]
    }
   ],
   "source": [
    "print('mom'>'maaa')\n"
   ]
  },
  {
   "cell_type": "markdown",
   "id": "0f55ea40",
   "metadata": {},
   "source": [
    "### Equality Operator \n",
    "\n",
    " - these are also comparision operator\n",
    " - This is also going to return boolean value \n",
    " - This is going to check whether two values are equal to each other or not \n",
    "     - ==(equal to equal to) --> it checks that whether the two values are equal and if they are equal then it will return a True else False\n",
    "     - != (not equal to ) --> it checks that whetehr two value are not equal to each other and if they are not equal it will return a True else False"
   ]
  },
  {
   "cell_type": "code",
   "execution_count": 68,
   "id": "845d8d43",
   "metadata": {},
   "outputs": [
    {
     "data": {
      "text/plain": [
       "True"
      ]
     },
     "execution_count": 68,
     "metadata": {},
     "output_type": "execute_result"
    }
   ],
   "source": [
    "10==10"
   ]
  },
  {
   "cell_type": "code",
   "execution_count": 70,
   "id": "b82121b1",
   "metadata": {},
   "outputs": [
    {
     "name": "stdout",
     "output_type": "stream",
     "text": [
      "False\n",
      "True\n"
     ]
    }
   ],
   "source": [
    "a = 10\n",
    "b = 20\n",
    "print(a ==b)\n",
    "print(a != b)"
   ]
  },
  {
   "cell_type": "code",
   "execution_count": 71,
   "id": "58a3b3bc",
   "metadata": {},
   "outputs": [
    {
     "name": "stdout",
     "output_type": "stream",
     "text": [
      "True\n"
     ]
    }
   ],
   "source": [
    "a = 'mayank'\n",
    "b = 'mayank'\n",
    "print(a == b)"
   ]
  },
  {
   "cell_type": "code",
   "execution_count": 76,
   "id": "43b27c2a",
   "metadata": {},
   "outputs": [
    {
     "name": "stdout",
     "output_type": "stream",
     "text": [
      "Enter your Password: mickey0195@\n",
      "Welcome\n"
     ]
    }
   ],
   "source": [
    "a = input('Enter your Password: ')\n",
    "password = 'mickey0195@'\n",
    "\n",
    "if a == password:\n",
    "    print('Welcome')\n",
    "else:\n",
    "    print('Wrong Password! Try again')"
   ]
  },
  {
   "cell_type": "markdown",
   "id": "3072edc6",
   "metadata": {},
   "source": [
    "### Membership Operator \n",
    "\n",
    "- these operator checks whether a value is a partof a container datatype or not (string, list, tuple.dictionary, set, frozenset)\n",
    "- It will return a boolean value \n",
    "- It checks the container element by element and return True as soon as the value is found\n",
    "\n",
    "    - in    --> checks if the value is in the conatiner datatype or not, it will return a True if it is in the container datatype else False \n",
    "    - not in  --> checks if the value is not in the conatiner datatype or it is in it, it will return a True if the value is not in container datatype else False"
   ]
  },
  {
   "cell_type": "code",
   "execution_count": 77,
   "id": "ce94d87f",
   "metadata": {},
   "outputs": [
    {
     "name": "stdout",
     "output_type": "stream",
     "text": [
      "True\n"
     ]
    }
   ],
   "source": [
    "a = 'mayank ghai'\n",
    "print('k' in a)"
   ]
  },
  {
   "cell_type": "code",
   "execution_count": 78,
   "id": "459387a8",
   "metadata": {},
   "outputs": [
    {
     "name": "stdout",
     "output_type": "stream",
     "text": [
      "False\n"
     ]
    }
   ],
   "source": [
    "print('u' in a)"
   ]
  },
  {
   "cell_type": "code",
   "execution_count": 79,
   "id": "206fd220",
   "metadata": {},
   "outputs": [
    {
     "name": "stdout",
     "output_type": "stream",
     "text": [
      "True\n"
     ]
    }
   ],
   "source": [
    "lst = [1,2,3,4,5,6,6,7]\n",
    "print(8 not in lst)"
   ]
  },
  {
   "cell_type": "code",
   "execution_count": 80,
   "id": "66546ced",
   "metadata": {},
   "outputs": [
    {
     "name": "stdout",
     "output_type": "stream",
     "text": [
      "False\n"
     ]
    }
   ],
   "source": [
    "print(5 not in lst)"
   ]
  },
  {
   "cell_type": "code",
   "execution_count": 81,
   "id": "cadd3d8a",
   "metadata": {},
   "outputs": [
    {
     "name": "stdout",
     "output_type": "stream",
     "text": [
      "False\n"
     ]
    }
   ],
   "source": [
    "lst = ['Apple', 'Bat', 'Cat']\n",
    "print('at' in lst)"
   ]
  },
  {
   "cell_type": "code",
   "execution_count": 82,
   "id": "3a297e82",
   "metadata": {},
   "outputs": [
    {
     "data": {
      "text/plain": [
       "int"
      ]
     },
     "execution_count": 82,
     "metadata": {},
     "output_type": "execute_result"
    }
   ],
   "source": [
    "a = 10\n",
    "type(a)"
   ]
  },
  {
   "cell_type": "code",
   "execution_count": 83,
   "id": "f32b281e",
   "metadata": {},
   "outputs": [
    {
     "data": {
      "text/plain": [
       "float"
      ]
     },
     "execution_count": 83,
     "metadata": {},
     "output_type": "execute_result"
    }
   ],
   "source": [
    "b = float(a)\n",
    "type(b)"
   ]
  },
  {
   "cell_type": "code",
   "execution_count": 85,
   "id": "3751f4af",
   "metadata": {},
   "outputs": [
    {
     "data": {
      "text/plain": [
       "complex"
      ]
     },
     "execution_count": 85,
     "metadata": {},
     "output_type": "execute_result"
    }
   ],
   "source": [
    "c = complex(a)\n",
    "type(c)"
   ]
  },
  {
   "cell_type": "code",
   "execution_count": 87,
   "id": "69fb358c",
   "metadata": {},
   "outputs": [
    {
     "name": "stdout",
     "output_type": "stream",
     "text": [
      "['m', 'a', 'y', 'a', 'n', 'k'] <class 'list'>\n"
     ]
    }
   ],
   "source": [
    "d = list('mayank')\n",
    "print(d, type(d))"
   ]
  },
  {
   "cell_type": "code",
   "execution_count": 89,
   "id": "03a74d29",
   "metadata": {},
   "outputs": [
    {
     "name": "stdout",
     "output_type": "stream",
     "text": [
      "('m', 'a', 'y', 'a', 'n', 'k') <class 'tuple'>\n"
     ]
    }
   ],
   "source": [
    "e = tuple('mayank')\n",
    "print(e, type(e))"
   ]
  },
  {
   "cell_type": "code",
   "execution_count": 90,
   "id": "171e013c",
   "metadata": {},
   "outputs": [
    {
     "data": {
      "text/plain": [
       "2.0"
      ]
     },
     "execution_count": 90,
     "metadata": {},
     "output_type": "execute_result"
    }
   ],
   "source": [
    "1+1.0 # 1.0+1.0"
   ]
  },
  {
   "cell_type": "code",
   "execution_count": 91,
   "id": "83f03ffe",
   "metadata": {},
   "outputs": [
    {
     "data": {
      "text/plain": [
       "(3+9j)"
      ]
     },
     "execution_count": 91,
     "metadata": {},
     "output_type": "execute_result"
    }
   ],
   "source": [
    "1 + 2+9j #---> 1+0j+(2+9j) ---> 3+9j"
   ]
  },
  {
   "cell_type": "code",
   "execution_count": 94,
   "id": "996cabf8",
   "metadata": {},
   "outputs": [
    {
     "name": "stdout",
     "output_type": "stream",
     "text": [
      "Enter a number: 7+9j\n",
      "7+9j <class 'str'>\n"
     ]
    }
   ],
   "source": [
    "a = input('Enter a number: ')\n",
    "# input always returns a string datatype \n",
    "print(a, type(a))"
   ]
  },
  {
   "cell_type": "code",
   "execution_count": 96,
   "id": "f8ca13ab",
   "metadata": {},
   "outputs": [
    {
     "name": "stdout",
     "output_type": "stream",
     "text": [
      "Enter a number: 11\n"
     ]
    },
    {
     "ename": "TypeError",
     "evalue": "not all arguments converted during string formatting",
     "output_type": "error",
     "traceback": [
      "\u001b[1;31m---------------------------------------------------------------------------\u001b[0m",
      "\u001b[1;31mTypeError\u001b[0m                                 Traceback (most recent call last)",
      "Cell \u001b[1;32mIn[96], line 3\u001b[0m\n\u001b[0;32m      1\u001b[0m a \u001b[38;5;241m=\u001b[39m \u001b[38;5;28minput\u001b[39m(\u001b[38;5;124m'\u001b[39m\u001b[38;5;124mEnter a number: \u001b[39m\u001b[38;5;124m'\u001b[39m)\n\u001b[1;32m----> 3\u001b[0m \u001b[38;5;28;01mif\u001b[39;00m a\u001b[38;5;241m%\u001b[39m\u001b[38;5;241m2\u001b[39m\u001b[38;5;241m==\u001b[39m\u001b[38;5;241m0\u001b[39m:\n\u001b[0;32m      4\u001b[0m     \u001b[38;5;28mprint\u001b[39m(\u001b[38;5;124m'\u001b[39m\u001b[38;5;124mEven\u001b[39m\u001b[38;5;124m'\u001b[39m)\n\u001b[0;32m      5\u001b[0m \u001b[38;5;28;01melse\u001b[39;00m:\n",
      "\u001b[1;31mTypeError\u001b[0m: not all arguments converted during string formatting"
     ]
    }
   ],
   "source": [
    "a = input('Enter a number: ')\n",
    "\n",
    "if a%2==0:\n",
    "    print('Even')\n",
    "else:\n",
    "    print('Odd')"
   ]
  },
  {
   "cell_type": "code",
   "execution_count": 97,
   "id": "1f5e2f2f",
   "metadata": {},
   "outputs": [
    {
     "name": "stdout",
     "output_type": "stream",
     "text": [
      "Enter a number: 11\n",
      "Odd\n"
     ]
    }
   ],
   "source": [
    "a = int(input('Enter a number: '))\n",
    "\n",
    "if a%2 == 0:\n",
    "    print('Even')\n",
    "else:\n",
    "    print('Odd')"
   ]
  },
  {
   "cell_type": "code",
   "execution_count": 98,
   "id": "04535022",
   "metadata": {},
   "outputs": [
    {
     "name": "stdout",
     "output_type": "stream",
     "text": [
      "Enter a number: 11\n",
      "Odd\n"
     ]
    }
   ],
   "source": [
    "a = int(input('Enter a number: '))\n",
    "\n",
    "if int(a)%2==0:\n",
    "    print('Even')\n",
    "else:\n",
    "    print('Odd')"
   ]
  },
  {
   "cell_type": "code",
   "execution_count": 100,
   "id": "f4031092",
   "metadata": {},
   "outputs": [
    {
     "data": {
      "text/plain": [
       "109"
      ]
     },
     "execution_count": 100,
     "metadata": {},
     "output_type": "execute_result"
    }
   ],
   "source": [
    "ord('m')"
   ]
  },
  {
   "cell_type": "code",
   "execution_count": null,
   "id": "f9844a40",
   "metadata": {},
   "outputs": [],
   "source": []
  }
 ],
 "metadata": {
  "kernelspec": {
   "display_name": "Python 3 (ipykernel)",
   "language": "python",
   "name": "python3"
  },
  "language_info": {
   "codemirror_mode": {
    "name": "ipython",
    "version": 3
   },
   "file_extension": ".py",
   "mimetype": "text/x-python",
   "name": "python",
   "nbconvert_exporter": "python",
   "pygments_lexer": "ipython3",
   "version": "3.11.5"
  }
 },
 "nbformat": 4,
 "nbformat_minor": 5
}
