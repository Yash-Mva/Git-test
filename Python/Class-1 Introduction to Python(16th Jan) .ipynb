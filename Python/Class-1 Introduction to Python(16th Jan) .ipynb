{
 "cells": [
  {
   "cell_type": "markdown",
   "id": "9e6ab4f9",
   "metadata": {},
   "source": [
    "### What is Anaconda Distribution ?\n"
   ]
  },
  {
   "cell_type": "code",
   "execution_count": null,
   "id": "d50a90b2",
   "metadata": {},
   "outputs": [],
   "source": [
    "Core python+Data science libraries (numpy, pandas, matplotlib, seaborn)\n",
    "\n",
    "- It is a python package (libraries) distribution platform \n",
    "- It is an open source and it provides n number of data science librarues related to python undr one umbrella\n",
    "\n",
    "# core python \n",
    "# Numpy - Numerical python ---> Numerical computations\n",
    "# Pandas - Panelling data ----> Data manipulation \n",
    "# Matplotlib -----> Data visualisation\n",
    "# Seaborn ------> Data visualisations\n",
    "# sklearn ----> statistical analysis and machine learning library \n",
    "# Flask ---- Deployment \n"
   ]
  },
  {
   "cell_type": "markdown",
   "id": "bba2c7a2",
   "metadata": {},
   "source": [
    "- A function is a piece of code that you have written once and will call it whenever you want that specific functionality to take place.\n",
    "- A collection of functions will going to make a module and a collection of modules will become a library/package"
   ]
  },
  {
   "cell_type": "markdown",
   "id": "600cb02d",
   "metadata": {},
   "source": [
    "### What is a Jupyter Notebook?\n",
    "\n",
    "- It is a browser based IDE(integrated Development Environment) provided by anaconda\n",
    "- An IDE is an inteface (medium) between the user and the system"
   ]
  },
  {
   "cell_type": "markdown",
   "id": "203d077d",
   "metadata": {},
   "source": [
    "### An overview Jupyter Notebook\n",
    "\n",
    "- In jupyter notebook we will write the code in a cell\n",
    "- We can write a single line or multiple lines of code in a cell\n",
    "- We can also execute a code as well\n",
    "- we get the output just below the cell "
   ]
  },
  {
   "cell_type": "code",
   "execution_count": 4,
   "id": "e2ed2fc8",
   "metadata": {},
   "outputs": [
    {
     "name": "stdout",
     "output_type": "stream",
     "text": [
      "30\n"
     ]
    }
   ],
   "source": [
    "a = 10\n",
    "b = 20\n",
    "c = a+b\n",
    "print(c)"
   ]
  },
  {
   "cell_type": "markdown",
   "id": "2c74a450",
   "metadata": {},
   "source": [
    "### Edit mode vs Command mode "
   ]
  },
  {
   "cell_type": "markdown",
   "id": "a4a36528",
   "metadata": {},
   "source": [
    "#### Edit mode \n",
    "\n",
    "- We can write into a cell only in edit mode \n",
    "- Edit mode is being represented by a green color\n",
    "- To convert the mode from a command mode to an edit mode press enter key or just click inside the cell"
   ]
  },
  {
   "cell_type": "markdown",
   "id": "a7e4f552",
   "metadata": {},
   "source": [
    "#### Command mode \n",
    "\n",
    "\n",
    "- We cannot write anything in a cell when we are in command mode \n",
    "- In command mode we can select multiple cells and can do any operation\n",
    "- Command mode is being represented by a blue color\n",
    "- To convert a cell from an edit mode into a command mode press esc key "
   ]
  },
  {
   "cell_type": "markdown",
   "id": "84308ac5",
   "metadata": {},
   "source": [
    "### Code Cell vs Markdown cell \n",
    "\n",
    "#### Code cell \n",
    "\n",
    "- We are going to write the python code in the code mode \n",
    "- If we write anything else but pythin code then it will throw an error"
   ]
  },
  {
   "cell_type": "code",
   "execution_count": 17,
   "id": "b24ebdd5",
   "metadata": {},
   "outputs": [
    {
     "name": "stdout",
     "output_type": "stream",
     "text": [
      "0.5\n"
     ]
    }
   ],
   "source": [
    "a = 10\n",
    "b = 20\n",
    "c = a/b\n",
    "print(c)"
   ]
  },
  {
   "cell_type": "code",
   "execution_count": 18,
   "id": "ec611e59",
   "metadata": {},
   "outputs": [
    {
     "ename": "SyntaxError",
     "evalue": "invalid syntax (3721182081.py, line 1)",
     "output_type": "error",
     "traceback": [
      "\u001b[1;36m  Cell \u001b[1;32mIn[18], line 1\u001b[1;36m\u001b[0m\n\u001b[1;33m    this is a python class\u001b[0m\n\u001b[1;37m              ^\u001b[0m\n\u001b[1;31mSyntaxError\u001b[0m\u001b[1;31m:\u001b[0m invalid syntax\n"
     ]
    }
   ],
   "source": [
    "this is a python class"
   ]
  },
  {
   "cell_type": "markdown",
   "id": "20feb80b",
   "metadata": {},
   "source": [
    "#### Markdown mode \n",
    "\n",
    "- In markdown mode, we will write simple text, some observations from the analysis, any advice that you want to give "
   ]
  },
  {
   "cell_type": "markdown",
   "id": "c1f3e4ce",
   "metadata": {},
   "source": [
    "This is a Python class"
   ]
  },
  {
   "cell_type": "markdown",
   "id": "40915f6f",
   "metadata": {},
   "source": [
    "# Python"
   ]
  },
  {
   "cell_type": "markdown",
   "id": "84ac18f2",
   "metadata": {},
   "source": [
    "## Python"
   ]
  },
  {
   "cell_type": "markdown",
   "id": "2c546a8f",
   "metadata": {},
   "source": [
    "### Python"
   ]
  },
  {
   "cell_type": "markdown",
   "id": "540cf598",
   "metadata": {},
   "source": [
    "#### Python "
   ]
  },
  {
   "cell_type": "markdown",
   "id": "f98d2c55",
   "metadata": {},
   "source": [
    "##### Python"
   ]
  },
  {
   "cell_type": "markdown",
   "id": "599ed483",
   "metadata": {},
   "source": [
    "##### Python"
   ]
  },
  {
   "cell_type": "markdown",
   "id": "469a887f",
   "metadata": {},
   "source": [
    "###### Python"
   ]
  },
  {
   "cell_type": "markdown",
   "id": "d8e12425",
   "metadata": {},
   "source": [
    "a = 10"
   ]
  },
  {
   "cell_type": "code",
   "execution_count": 22,
   "id": "295aa4b1",
   "metadata": {},
   "outputs": [],
   "source": [
    "b = 20"
   ]
  },
  {
   "cell_type": "code",
   "execution_count": 25,
   "id": "694bac6b",
   "metadata": {},
   "outputs": [
    {
     "name": "stdout",
     "output_type": "stream",
     "text": [
      "30\n"
     ]
    }
   ],
   "source": [
    "print(a+b)"
   ]
  },
  {
   "cell_type": "markdown",
   "id": "f2f3146d",
   "metadata": {},
   "source": [
    "### Italaic\n",
    "\n",
    "- to convert any text to italics put that word in (*).......(*)\n",
    "- to convert any text in bold we will use # before the word\n",
    "- to coonvert any text in bold itlaics form \n",
    "\n",
    "###### *italics*"
   ]
  },
  {
   "cell_type": "markdown",
   "id": "f0b948f8",
   "metadata": {},
   "source": [
    "### Bullets \n",
    "\n",
    "- Text \n",
    "* Text"
   ]
  },
  {
   "cell_type": "markdown",
   "id": "b7d6c626",
   "metadata": {},
   "source": [
    "*Mayank atul Ghai*"
   ]
  },
  {
   "cell_type": "code",
   "execution_count": null,
   "id": "316c6db5",
   "metadata": {},
   "outputs": [],
   "source": []
  },
  {
   "cell_type": "markdown",
   "id": "a691fdc7",
   "metadata": {},
   "source": [
    "### ShortCuts \n",
    "\n",
    "- To run a cell ----> Rshift + Enter\n",
    "- To add a cell above a particular cell ---> Press esc(to get into command mode)+ press a \n",
    "- To add a cell below a particular cell ---> Press esc + press b\n",
    "- To convert the mode of the cell from code to markdown ----> Press esc + press m\n",
    "- To convert the mode of the cell from markdown mode to code mode ---> Press esc + press y \n",
    "- To delete a cell ---- press esc + press x\n",
    "- To get the list of all the other shortcuts in jupyter notebook ---- press esc + press h"
   ]
  },
  {
   "cell_type": "code",
   "execution_count": null,
   "id": "869d97c7",
   "metadata": {},
   "outputs": [],
   "source": []
  }
 ],
 "metadata": {
  "kernelspec": {
   "display_name": "Python 3 (ipykernel)",
   "language": "python",
   "name": "python3"
  },
  "language_info": {
   "codemirror_mode": {
    "name": "ipython",
    "version": 3
   },
   "file_extension": ".py",
   "mimetype": "text/x-python",
   "name": "python",
   "nbconvert_exporter": "python",
   "pygments_lexer": "ipython3",
   "version": "3.11.5"
  }
 },
 "nbformat": 4,
 "nbformat_minor": 5
}
