{
 "cells": [
  {
   "cell_type": "markdown",
   "id": "f9ddf92e",
   "metadata": {},
   "source": [
    "### Loops \n",
    "\n",
    "- Loops is a concept which is used to execute a particular piece of code repeatedly"
   ]
  },
  {
   "cell_type": "code",
   "execution_count": 3,
   "id": "c983f4f6",
   "metadata": {},
   "outputs": [
    {
     "name": "stdout",
     "output_type": "stream",
     "text": [
      "Hello\n",
      "Hello\n",
      "Hello\n",
      "Hello\n",
      "Hello\n"
     ]
    }
   ],
   "source": [
    "# print hello 5 times \n",
    "\n",
    "print('Hello')\n",
    "print('Hello')\n",
    "print('Hello')\n",
    "print('Hello')\n",
    "print('Hello')"
   ]
  },
  {
   "cell_type": "code",
   "execution_count": 5,
   "id": "e50dfb22",
   "metadata": {},
   "outputs": [
    {
     "name": "stdout",
     "output_type": "stream",
     "text": [
      "Hello\n",
      "Hello\n",
      "Hello\n",
      "Hello\n",
      "Hello\n",
      "\n"
     ]
    }
   ],
   "source": [
    "print('Hello\\n'*5)"
   ]
  },
  {
   "cell_type": "code",
   "execution_count": 6,
   "id": "1fcc2da7",
   "metadata": {},
   "outputs": [
    {
     "name": "stdout",
     "output_type": "stream",
     "text": [
      "P\n",
      "y\n",
      "t\n"
     ]
    }
   ],
   "source": [
    "m = 'Python'\n",
    "\n",
    "print(m[0])\n",
    "print(m[1])\n",
    "print(m[2])"
   ]
  },
  {
   "cell_type": "code",
   "execution_count": null,
   "id": "9f66d9cd",
   "metadata": {},
   "outputs": [],
   "source": [
    "my_str = 'She sells sea shells on the sea shore'"
   ]
  },
  {
   "cell_type": "markdown",
   "id": "dc078bec",
   "metadata": {},
   "source": [
    "### Iteartions \n",
    "\n",
    "- Transvering or moving upon the elements of an iterable object from the beginning to the end is known as iterations\n",
    "- The number of iterations are equal to the number of elements in the iterable objects "
   ]
  },
  {
   "cell_type": "markdown",
   "id": "b836d7c6",
   "metadata": {},
   "source": [
    "Iterable objects ---> range, strings, lists, tuples, dictionary, sets or frozensets \n",
    "\n",
    "__Note:__ We can't iterate over numeric datatype, boolean datatype and None datatype "
   ]
  },
  {
   "cell_type": "code",
   "execution_count": 7,
   "id": "496dda82",
   "metadata": {},
   "outputs": [
    {
     "ename": "TypeError",
     "evalue": "'int' object is not iterable",
     "output_type": "error",
     "traceback": [
      "\u001b[1;31m---------------------------------------------------------------------------\u001b[0m",
      "\u001b[1;31mTypeError\u001b[0m                                 Traceback (most recent call last)",
      "Cell \u001b[1;32mIn[7], line 3\u001b[0m\n\u001b[0;32m      1\u001b[0m a \u001b[38;5;241m=\u001b[39m \u001b[38;5;241m11\u001b[39m\n\u001b[1;32m----> 3\u001b[0m \u001b[38;5;28;01mfor\u001b[39;00m i \u001b[38;5;129;01min\u001b[39;00m a:\n\u001b[0;32m      4\u001b[0m     \u001b[38;5;28mprint\u001b[39m(i)\n",
      "\u001b[1;31mTypeError\u001b[0m: 'int' object is not iterable"
     ]
    }
   ],
   "source": [
    "a = 11\n",
    "\n",
    "for i in a:\n",
    "    print(i)"
   ]
  },
  {
   "cell_type": "code",
   "execution_count": 8,
   "id": "3784e52d",
   "metadata": {},
   "outputs": [
    {
     "ename": "TypeError",
     "evalue": "'float' object is not iterable",
     "output_type": "error",
     "traceback": [
      "\u001b[1;31m---------------------------------------------------------------------------\u001b[0m",
      "\u001b[1;31mTypeError\u001b[0m                                 Traceback (most recent call last)",
      "Cell \u001b[1;32mIn[8], line 3\u001b[0m\n\u001b[0;32m      1\u001b[0m a \u001b[38;5;241m=\u001b[39m \u001b[38;5;241m11.0\u001b[39m\n\u001b[1;32m----> 3\u001b[0m \u001b[38;5;28;01mfor\u001b[39;00m i \u001b[38;5;129;01min\u001b[39;00m a:\n\u001b[0;32m      4\u001b[0m     \u001b[38;5;28mprint\u001b[39m(i)\n",
      "\u001b[1;31mTypeError\u001b[0m: 'float' object is not iterable"
     ]
    }
   ],
   "source": [
    "a = 11.0\n",
    "\n",
    "for i in a:\n",
    "    print(i)"
   ]
  },
  {
   "cell_type": "code",
   "execution_count": 9,
   "id": "a8f2a5c6",
   "metadata": {},
   "outputs": [
    {
     "ename": "TypeError",
     "evalue": "'complex' object is not iterable",
     "output_type": "error",
     "traceback": [
      "\u001b[1;31m---------------------------------------------------------------------------\u001b[0m",
      "\u001b[1;31mTypeError\u001b[0m                                 Traceback (most recent call last)",
      "Cell \u001b[1;32mIn[9], line 3\u001b[0m\n\u001b[0;32m      1\u001b[0m a \u001b[38;5;241m=\u001b[39m \u001b[38;5;241m7\u001b[39m\u001b[38;5;241m+\u001b[39m\u001b[38;5;241m9\u001b[39mj\n\u001b[1;32m----> 3\u001b[0m \u001b[38;5;28;01mfor\u001b[39;00m i \u001b[38;5;129;01min\u001b[39;00m a:\n\u001b[0;32m      4\u001b[0m     \u001b[38;5;28mprint\u001b[39m(i)\n",
      "\u001b[1;31mTypeError\u001b[0m: 'complex' object is not iterable"
     ]
    }
   ],
   "source": [
    "a = 7+9j\n",
    "\n",
    "for i in a:\n",
    "    print(i)"
   ]
  },
  {
   "cell_type": "code",
   "execution_count": 10,
   "id": "cf30f448",
   "metadata": {},
   "outputs": [
    {
     "ename": "TypeError",
     "evalue": "'bool' object is not iterable",
     "output_type": "error",
     "traceback": [
      "\u001b[1;31m---------------------------------------------------------------------------\u001b[0m",
      "\u001b[1;31mTypeError\u001b[0m                                 Traceback (most recent call last)",
      "Cell \u001b[1;32mIn[10], line 3\u001b[0m\n\u001b[0;32m      1\u001b[0m a \u001b[38;5;241m=\u001b[39m \u001b[38;5;28;01mTrue\u001b[39;00m\n\u001b[1;32m----> 3\u001b[0m \u001b[38;5;28;01mfor\u001b[39;00m i \u001b[38;5;129;01min\u001b[39;00m a:\n\u001b[0;32m      4\u001b[0m     \u001b[38;5;28mprint\u001b[39m(i)\n",
      "\u001b[1;31mTypeError\u001b[0m: 'bool' object is not iterable"
     ]
    }
   ],
   "source": [
    "a = True\n",
    "\n",
    "for i in a:\n",
    "    print(i)"
   ]
  },
  {
   "cell_type": "code",
   "execution_count": 11,
   "id": "299447ea",
   "metadata": {},
   "outputs": [
    {
     "ename": "TypeError",
     "evalue": "'NoneType' object is not iterable",
     "output_type": "error",
     "traceback": [
      "\u001b[1;31m---------------------------------------------------------------------------\u001b[0m",
      "\u001b[1;31mTypeError\u001b[0m                                 Traceback (most recent call last)",
      "Cell \u001b[1;32mIn[11], line 3\u001b[0m\n\u001b[0;32m      1\u001b[0m a \u001b[38;5;241m=\u001b[39m \u001b[38;5;28;01mNone\u001b[39;00m\n\u001b[1;32m----> 3\u001b[0m \u001b[38;5;28;01mfor\u001b[39;00m i \u001b[38;5;129;01min\u001b[39;00m a:\n\u001b[0;32m      4\u001b[0m     \u001b[38;5;28mprint\u001b[39m(i)\n",
      "\u001b[1;31mTypeError\u001b[0m: 'NoneType' object is not iterable"
     ]
    }
   ],
   "source": [
    "a = None\n",
    "\n",
    "for i in a:\n",
    "    print(i)"
   ]
  },
  {
   "cell_type": "code",
   "execution_count": 13,
   "id": "eea4b5d1",
   "metadata": {},
   "outputs": [
    {
     "name": "stdout",
     "output_type": "stream",
     "text": [
      "She sells sea shells on the sea shore\n"
     ]
    }
   ],
   "source": [
    "my_str = 'She sells sea shells on the sea shore'\n",
    "print(my_str)"
   ]
  },
  {
   "cell_type": "code",
   "execution_count": 15,
   "id": "0938fa91",
   "metadata": {},
   "outputs": [
    {
     "data": {
      "text/plain": [
       "37"
      ]
     },
     "execution_count": 15,
     "metadata": {},
     "output_type": "execute_result"
    }
   ],
   "source": [
    "len(my_str)"
   ]
  },
  {
   "cell_type": "code",
   "execution_count": 14,
   "id": "ca3ead31",
   "metadata": {},
   "outputs": [
    {
     "name": "stdout",
     "output_type": "stream",
     "text": [
      "S\n",
      "h\n",
      "e\n",
      " \n",
      "s\n",
      "e\n",
      "l\n",
      "l\n",
      "s\n",
      " \n",
      "s\n",
      "e\n",
      "a\n",
      " \n",
      "s\n",
      "h\n",
      "e\n",
      "l\n",
      "l\n",
      "s\n",
      " \n",
      "o\n",
      "n\n",
      " \n",
      "t\n",
      "h\n",
      "e\n",
      " \n",
      "s\n",
      "e\n",
      "a\n",
      " \n",
      "s\n",
      "h\n",
      "o\n",
      "r\n",
      "e\n"
     ]
    }
   ],
   "source": [
    "for i in my_str: #'She sells sea shells on the sea shore'\n",
    "    print(i)"
   ]
  },
  {
   "cell_type": "code",
   "execution_count": 18,
   "id": "60b1e57b",
   "metadata": {},
   "outputs": [
    {
     "name": "stdout",
     "output_type": "stream",
     "text": [
      "1\n",
      "2\n",
      "3\n",
      "4\n",
      "5\n"
     ]
    }
   ],
   "source": [
    "lst = [1,2,3,4,5]\n",
    "\n",
    "for i in lst:\n",
    "    print(i, end = '\\n')"
   ]
  },
  {
   "cell_type": "code",
   "execution_count": 19,
   "id": "1cc10708",
   "metadata": {},
   "outputs": [
    {
     "name": "stdout",
     "output_type": "stream",
     "text": [
      "12345"
     ]
    }
   ],
   "source": [
    "lst = [1,2,3,4,5]\n",
    "\n",
    "for i in lst:\n",
    "    print(i, end = '')"
   ]
  },
  {
   "cell_type": "markdown",
   "id": "3b8337ff",
   "metadata": {},
   "source": [
    "### Type of Loops \n",
    "\n",
    "We have two types of loops :\n",
    "\n",
    " - For loop --> it is used where we can iterate over the elements of a itearble object(we know till how long we have to go), we will use it for iterable objects \n",
    " - While loop --> it is used where we are going to work till a particular situation is satisfied, here we do not know how many iteration it will take, we will use it for all datatypes "
   ]
  },
  {
   "cell_type": "markdown",
   "id": "69930d62",
   "metadata": {},
   "source": [
    "### For loop \n",
    "\n",
    "    Syntax:\n",
    "    \n",
    "        for i(space holder) in itearble_objects(range, strings, list, tuples, dictionary, sets or frozensets):\n",
    "            code\n",
    "            code \n",
    "            code"
   ]
  },
  {
   "cell_type": "code",
   "execution_count": 20,
   "id": "e5d2077e",
   "metadata": {},
   "outputs": [
    {
     "data": {
      "text/plain": [
       "'She sells sea shells on the sea shore'"
      ]
     },
     "execution_count": 20,
     "metadata": {},
     "output_type": "execute_result"
    }
   ],
   "source": [
    "my_str"
   ]
  },
  {
   "cell_type": "code",
   "execution_count": 21,
   "id": "aa569ca4",
   "metadata": {},
   "outputs": [
    {
     "name": "stdout",
     "output_type": "stream",
     "text": [
      "S\n",
      "h\n",
      "e\n",
      " \n",
      "s\n",
      "e\n",
      "l\n",
      "l\n",
      "s\n",
      " \n",
      "s\n",
      "e\n",
      "a\n",
      " \n",
      "s\n",
      "h\n",
      "e\n",
      "l\n",
      "l\n",
      "s\n",
      " \n",
      "o\n",
      "n\n",
      " \n",
      "t\n",
      "h\n",
      "e\n",
      " \n",
      "s\n",
      "e\n",
      "a\n",
      " \n",
      "s\n",
      "h\n",
      "o\n",
      "r\n",
      "e\n"
     ]
    }
   ],
   "source": [
    "for i in my_str:\n",
    "    print(i)"
   ]
  },
  {
   "cell_type": "code",
   "execution_count": 22,
   "id": "82c7b7a4",
   "metadata": {},
   "outputs": [
    {
     "name": "stdout",
     "output_type": "stream",
     "text": [
      "S\n",
      "h\n",
      "e\n",
      " \n",
      "s\n",
      "e\n",
      "l\n",
      "l\n",
      "s\n",
      " \n",
      "s\n",
      "e\n",
      "a\n",
      " \n",
      "s\n",
      "h\n",
      "e\n",
      "l\n",
      "l\n",
      "s\n",
      " \n",
      "o\n",
      "n\n",
      " \n",
      "t\n",
      "h\n",
      "e\n",
      " \n",
      "s\n",
      "e\n",
      "a\n",
      " \n",
      "s\n",
      "h\n",
      "o\n",
      "r\n",
      "e\n"
     ]
    }
   ],
   "source": [
    "for x in my_str:\n",
    "    print(x)"
   ]
  },
  {
   "cell_type": "code",
   "execution_count": 23,
   "id": "7e69d20b",
   "metadata": {
    "scrolled": true
   },
   "outputs": [
    {
     "name": "stdout",
     "output_type": "stream",
     "text": [
      "1\n",
      "2\n",
      "3\n",
      "4\n"
     ]
    }
   ],
   "source": [
    "d = {1:100, 2:200, 3:300, 4:400}\n",
    "\n",
    "for i in d:\n",
    "    print(i)"
   ]
  },
  {
   "cell_type": "code",
   "execution_count": 27,
   "id": "b1c81273",
   "metadata": {},
   "outputs": [
    {
     "name": "stdout",
     "output_type": "stream",
     "text": [
      "name\n",
      "age\n",
      "salary\n",
      "company\n",
      "city\n"
     ]
    }
   ],
   "source": [
    "emp_detail = {'name': 'Mayank', 'age':29, 'salary':95000, 'company':'IZMO', 'city':'Bengaluru'}\n",
    "\n",
    "for a in emp_detail:\n",
    "    print(a)"
   ]
  },
  {
   "cell_type": "code",
   "execution_count": 24,
   "id": "8716f87a",
   "metadata": {},
   "outputs": [
    {
     "data": {
      "text/plain": [
       "range(0, 5)"
      ]
     },
     "execution_count": 24,
     "metadata": {},
     "output_type": "execute_result"
    }
   ],
   "source": [
    "range(5)"
   ]
  },
  {
   "cell_type": "code",
   "execution_count": 25,
   "id": "b4102527",
   "metadata": {},
   "outputs": [
    {
     "name": "stdout",
     "output_type": "stream",
     "text": [
      "0\n",
      "1\n",
      "2\n",
      "3\n",
      "4\n"
     ]
    }
   ],
   "source": [
    "for i in range(5):\n",
    "    print(i)"
   ]
  },
  {
   "cell_type": "code",
   "execution_count": 28,
   "id": "756b7c41",
   "metadata": {},
   "outputs": [
    {
     "name": "stdout",
     "output_type": "stream",
     "text": [
      "1\n",
      "2\n",
      "3\n",
      "4\n"
     ]
    }
   ],
   "source": [
    "for i in range(1, 5):\n",
    "    print(i)"
   ]
  },
  {
   "cell_type": "code",
   "execution_count": 29,
   "id": "9e806515",
   "metadata": {},
   "outputs": [
    {
     "name": "stdout",
     "output_type": "stream",
     "text": [
      "1\n",
      "3\n"
     ]
    }
   ],
   "source": [
    "for i in range(1, 5, 2): #start = 1, stop = 5-1 = 4, step_size = 2\n",
    "    print(i)"
   ]
  },
  {
   "cell_type": "code",
   "execution_count": 30,
   "id": "b3861b1c",
   "metadata": {},
   "outputs": [
    {
     "name": "stdout",
     "output_type": "stream",
     "text": [
      "1\n"
     ]
    }
   ],
   "source": [
    "for i in range(1, 5, 5): #start = 1, stop = 5-1 = 4, step_size = 2\n",
    "    print(i)"
   ]
  },
  {
   "cell_type": "code",
   "execution_count": 31,
   "id": "2bcf3df0",
   "metadata": {},
   "outputs": [
    {
     "name": "stdout",
     "output_type": "stream",
     "text": [
      "1\n",
      "2\n",
      "3\n",
      "4\n"
     ]
    }
   ],
   "source": [
    "for i in range(1, 5):\n",
    "    print(i)\n"
   ]
  },
  {
   "cell_type": "code",
   "execution_count": 32,
   "id": "83bef01d",
   "metadata": {},
   "outputs": [
    {
     "name": "stdout",
     "output_type": "stream",
     "text": [
      "4\n"
     ]
    }
   ],
   "source": [
    "print(i)"
   ]
  },
  {
   "cell_type": "code",
   "execution_count": 34,
   "id": "edf3aced",
   "metadata": {},
   "outputs": [
    {
     "name": "stdout",
     "output_type": "stream",
     "text": [
      "[(0, 'P'), (1, 'y'), (2, 't'), (3, 'h'), (4, 'o'), (5, 'n')]\n"
     ]
    }
   ],
   "source": [
    "a = 'Python'\n",
    "print(list(enumerate(a)))"
   ]
  },
  {
   "cell_type": "code",
   "execution_count": 35,
   "id": "20ce0748",
   "metadata": {},
   "outputs": [
    {
     "name": "stdout",
     "output_type": "stream",
     "text": [
      "0 P\n",
      "1 y\n",
      "2 t\n",
      "3 h\n",
      "4 o\n",
      "5 n\n"
     ]
    }
   ],
   "source": [
    "for i, j in enumerate(a):\n",
    "    print(i, j)"
   ]
  },
  {
   "cell_type": "code",
   "execution_count": 36,
   "id": "067657d8",
   "metadata": {},
   "outputs": [
    {
     "name": "stdout",
     "output_type": "stream",
     "text": [
      "P\n",
      "y\n",
      "t\n",
      "h\n",
      "o\n",
      "n\n",
      " \n",
      "C\n",
      "l\n",
      "a\n",
      "s\n",
      "s\n"
     ]
    }
   ],
   "source": [
    "# if we wish to print every character of my_str\n",
    "my_str = 'Python Class'\n",
    "\n",
    "for i in my_str:\n",
    "    print(i)"
   ]
  },
  {
   "cell_type": "code",
   "execution_count": 37,
   "id": "5d886d28",
   "metadata": {},
   "outputs": [
    {
     "name": "stdout",
     "output_type": "stream",
     "text": [
      "0\n",
      "1\n",
      "2\n",
      "3\n",
      "4\n",
      "5\n",
      "6\n",
      "7\n",
      "8\n",
      "9\n",
      "10\n",
      "11\n"
     ]
    }
   ],
   "source": [
    "# if we wish to have the index of every character \n",
    "\n",
    "for i in range(len(my_str)):\n",
    "    print(i)"
   ]
  },
  {
   "cell_type": "code",
   "execution_count": 38,
   "id": "40674f7e",
   "metadata": {},
   "outputs": [
    {
     "name": "stdout",
     "output_type": "stream",
     "text": [
      "0 P\n",
      "1 y\n",
      "2 t\n",
      "3 h\n",
      "4 o\n",
      "5 n\n",
      "6  \n",
      "7 C\n",
      "8 l\n",
      "9 a\n",
      "10 s\n",
      "11 s\n"
     ]
    }
   ],
   "source": [
    "# if we wish to print every character of my_str using indexing\n",
    "my_str = 'Python Class'\n",
    "\n",
    "for i in range(len(my_str)): # range(0, 12)\n",
    "    print(i , my_str[i]) \n",
    "    # here i will hold the index values, my_str[i] is your indexing concept which will fetch the char at that index\n",
    "    "
   ]
  },
  {
   "cell_type": "code",
   "execution_count": 39,
   "id": "d912101f",
   "metadata": {},
   "outputs": [
    {
     "name": "stdout",
     "output_type": "stream",
     "text": [
      "0 P\n",
      "1 y\n",
      "2 t\n",
      "3 h\n",
      "4 o\n",
      "5 n\n",
      "6  \n",
      "7 C\n",
      "8 l\n",
      "9 a\n",
      "10 s\n",
      "11 s\n"
     ]
    }
   ],
   "source": [
    "for i, j in enumerate(my_str):\n",
    "    print(i, j)"
   ]
  },
  {
   "cell_type": "code",
   "execution_count": 43,
   "id": "08bf87f6",
   "metadata": {},
   "outputs": [
    {
     "name": "stdout",
     "output_type": "stream",
     "text": [
      "2\n",
      "4\n",
      "6\n",
      "8\n",
      "10\n",
      "12\n",
      "14\n",
      "16\n",
      "18\n",
      "20\n"
     ]
    }
   ],
   "source": [
    "lst = [1,2,3,4,5,6,7,8,9, 10, 11,12, 13, 14, 15, 16, 17, 18, 19, 20]\n",
    "\n",
    "# print the number which are even \n",
    "\n",
    "for i in lst:\n",
    "    if i%2 == 0:\n",
    "        print(i)"
   ]
  },
  {
   "cell_type": "code",
   "execution_count": 44,
   "id": "4ac583a7",
   "metadata": {},
   "outputs": [
    {
     "name": "stdout",
     "output_type": "stream",
     "text": [
      "She sells sea shells on the sea shore\n"
     ]
    }
   ],
   "source": [
    "my_str = 'She sells sea shells on the sea shore'\n",
    "print(my_str)"
   ]
  },
  {
   "cell_type": "code",
   "execution_count": 45,
   "id": "7fa06414",
   "metadata": {},
   "outputs": [
    {
     "data": {
      "text/plain": [
       "7"
      ]
     },
     "execution_count": 45,
     "metadata": {},
     "output_type": "execute_result"
    }
   ],
   "source": [
    "# count function \n",
    "my_str.count('s')"
   ]
  },
  {
   "cell_type": "code",
   "execution_count": 50,
   "id": "1b6cf305",
   "metadata": {},
   "outputs": [
    {
     "name": "stdout",
     "output_type": "stream",
     "text": [
      "7\n"
     ]
    }
   ],
   "source": [
    "my_str = 'She sells sea shells on the sea shore'\n",
    "\n",
    "count = 0\n",
    "\n",
    "for i in my_str:\n",
    "    if i == 's':\n",
    "\n",
    "        count = count+1\n",
    "        \n",
    "print(count)"
   ]
  },
  {
   "cell_type": "code",
   "execution_count": 48,
   "id": "75b92c13",
   "metadata": {},
   "outputs": [
    {
     "name": "stdout",
     "output_type": "stream",
     "text": [
      "7\n"
     ]
    }
   ],
   "source": [
    "count = 0\n",
    "\n",
    "for i in range(len(my_str)):\n",
    "    if my_str[i] == 's':\n",
    "        count = count+1\n",
    "        \n",
    "print(count)"
   ]
  },
  {
   "cell_type": "markdown",
   "id": "6763faf0",
   "metadata": {},
   "source": [
    "### index function \n",
    "\n"
   ]
  },
  {
   "cell_type": "code",
   "execution_count": 51,
   "id": "13abe1c1",
   "metadata": {},
   "outputs": [
    {
     "data": {
      "text/plain": [
       "12"
      ]
     },
     "execution_count": 51,
     "metadata": {},
     "output_type": "execute_result"
    }
   ],
   "source": [
    "my_str.index('a')"
   ]
  },
  {
   "cell_type": "code",
   "execution_count": 93,
   "id": "d662877c",
   "metadata": {},
   "outputs": [
    {
     "name": "stdout",
     "output_type": "stream",
     "text": [
      "enter the character want to find the index of : a\n",
      "12\n"
     ]
    }
   ],
   "source": [
    "# WAP that is going to mimic the index method of the string\n",
    "\n",
    "char = input ('enter the character want to find the index of : ')\n",
    "count=0\n",
    "for i in range(len(my_str)):\n",
    "    if my_str[i] == char:\n",
    "        count = count+1\n",
    "        if count ==1 :\n",
    "              print(i)\n",
    "else : \n",
    "    if count == 0:\n",
    "        print('value error')\n",
    "\n",
    "\n"
   ]
  },
  {
   "cell_type": "code",
   "execution_count": 95,
   "id": "a3d0f873",
   "metadata": {},
   "outputs": [
    {
     "name": "stdout",
     "output_type": "stream",
     "text": [
      "Enter according to you: a\n",
      "12\n"
     ]
    }
   ],
   "source": [
    "char = input(\"Enter according to you: \")\n",
    "\n",
    "count =0\n",
    "for i in range(len(my_str)):\n",
    "    if my_str[i] == char:\n",
    "        count = count +1\n",
    "        if count ==1:\n",
    "            print(i)\n",
    "if count == 0:\n",
    "    print(\"value error\")"
   ]
  },
  {
   "cell_type": "code",
   "execution_count": 72,
   "id": "1a2e2249",
   "metadata": {},
   "outputs": [
    {
     "data": {
      "text/plain": [
       "['She', 'sells', 'sea', 'shells', 'on', 'the', 'sea', 'shore']"
      ]
     },
     "execution_count": 72,
     "metadata": {},
     "output_type": "execute_result"
    }
   ],
   "source": [
    "# split function\n",
    "my_str.split()"
   ]
  },
  {
   "cell_type": "code",
   "execution_count": 96,
   "id": "6d65eb01",
   "metadata": {},
   "outputs": [
    {
     "data": {
      "text/plain": [
       "'She sells sea shells on the sea shore'"
      ]
     },
     "execution_count": 96,
     "metadata": {},
     "output_type": "execute_result"
    }
   ],
   "source": [
    "my_str"
   ]
  },
  {
   "cell_type": "code",
   "execution_count": 6,
   "id": "745c303c",
   "metadata": {},
   "outputs": [
    {
     "name": "stdout",
     "output_type": "stream",
     "text": [
      "S\n",
      "Sh\n",
      "She\n",
      "['She']\n",
      "------------------\n",
      "s\n",
      "se\n",
      "sel\n",
      "sell\n",
      "sells\n",
      "['She', 'sells']\n",
      "------------------\n",
      "s\n",
      "se\n",
      "sea\n",
      "['She', 'sells', 'sea']\n",
      "------------------\n",
      "s\n",
      "sh\n",
      "she\n",
      "shel\n",
      "shell\n",
      "shells\n",
      "['She', 'sells', 'sea', 'shells']\n",
      "------------------\n",
      "o\n",
      "on\n",
      "['She', 'sells', 'sea', 'shells', 'on']\n",
      "------------------\n",
      "t\n",
      "th\n",
      "the\n",
      "['She', 'sells', 'sea', 'shells', 'on', 'the']\n",
      "------------------\n",
      "s\n",
      "se\n",
      "sea\n",
      "['She', 'sells', 'sea', 'shells', 'on', 'the', 'sea']\n",
      "------------------\n",
      "s\n",
      "sh\n",
      "sho\n",
      "shor\n",
      "shore\n",
      "['She', 'sells', 'sea', 'shells', 'on', 'the', 'sea', 'shore']\n"
     ]
    }
   ],
   "source": [
    "my_str = 'She sells sea shells on the sea shore'\n",
    "Output = [] # here i am creating an empty list to store the output\n",
    "word = '' # here i am creating an empty string to store the word \n",
    "\n",
    "for i in my_str: # iterate over the elements  of string\n",
    "    if i != ' ': # checks whether my i is a space character or not\n",
    "        \n",
    "        # if it is not a space character i am concatenating that character into my word \n",
    "        word = word +i\n",
    "        print(word)\n",
    "    else: \n",
    "        \n",
    "        # if it is a space character i am concatenating the list of that word to a output list\n",
    "        Output = Output + [word]\n",
    "        word = '' # we are empty the string again so that it can store the next word\n",
    "        print(Output)\n",
    "        print('------------------')\n",
    "Output = Output + [word]\n",
    "print(Output)"
   ]
  },
  {
   "cell_type": "code",
   "execution_count": 84,
   "id": "89b0019b",
   "metadata": {},
   "outputs": [
    {
     "name": "stdout",
     "output_type": "stream",
     "text": [
      "Enter according to youm\n",
      "value error\n"
     ]
    }
   ],
   "source": [
    "\n",
    "\n"
   ]
  },
  {
   "cell_type": "code",
   "execution_count": 2,
   "id": "c58005e2",
   "metadata": {},
   "outputs": [
    {
     "data": {
      "text/plain": [
       "'m'"
      ]
     },
     "execution_count": 2,
     "metadata": {},
     "output_type": "execute_result"
    }
   ],
   "source": [
    "''+'m'"
   ]
  },
  {
   "cell_type": "code",
   "execution_count": null,
   "id": "3d400dad",
   "metadata": {},
   "outputs": [],
   "source": []
  }
 ],
 "metadata": {
  "kernelspec": {
   "display_name": "Python 3 (ipykernel)",
   "language": "python",
   "name": "python3"
  },
  "language_info": {
   "codemirror_mode": {
    "name": "ipython",
    "version": 3
   },
   "file_extension": ".py",
   "mimetype": "text/x-python",
   "name": "python",
   "nbconvert_exporter": "python",
   "pygments_lexer": "ipython3",
   "version": "3.11.5"
  }
 },
 "nbformat": 4,
 "nbformat_minor": 5
}
