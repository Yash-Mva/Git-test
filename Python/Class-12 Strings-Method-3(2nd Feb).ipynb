{
 "cells": [
  {
   "cell_type": "markdown",
   "id": "4c1db376",
   "metadata": {},
   "source": [
    "### isalnum()\n",
    "\n",
    "- It returns True, if all the characters in the string are alphanumeric else it will retuun a False\n",
    "- Alphanumeric means that it should be a combination of A-Z, a-z or 0-9"
   ]
  },
  {
   "cell_type": "code",
   "execution_count": 1,
   "id": "f4c69efb",
   "metadata": {},
   "outputs": [
    {
     "name": "stdout",
     "output_type": "stream",
     "text": [
      "True\n"
     ]
    }
   ],
   "source": [
    "my_str = 'Data'\n",
    "print(my_str.isalnum())"
   ]
  },
  {
   "cell_type": "code",
   "execution_count": 2,
   "id": "43350502",
   "metadata": {},
   "outputs": [
    {
     "name": "stdout",
     "output_type": "stream",
     "text": [
      "True\n"
     ]
    }
   ],
   "source": [
    "my_str = 'Data123'\n",
    "print(my_str.isalnum())"
   ]
  },
  {
   "cell_type": "code",
   "execution_count": 3,
   "id": "a0d4837e",
   "metadata": {},
   "outputs": [
    {
     "name": "stdout",
     "output_type": "stream",
     "text": [
      "False\n"
     ]
    }
   ],
   "source": [
    "my_str = 'Data123@'\n",
    "print(my_str.isalnum())"
   ]
  },
  {
   "cell_type": "code",
   "execution_count": 4,
   "id": "cb436deb",
   "metadata": {},
   "outputs": [
    {
     "name": "stdout",
     "output_type": "stream",
     "text": [
      "True\n"
     ]
    }
   ],
   "source": [
    "my_str = 'DATA'\n",
    "print(my_str.isalnum())"
   ]
  },
  {
   "cell_type": "markdown",
   "id": "a5428e05",
   "metadata": {},
   "source": [
    "### isalpha()\n",
    "\n",
    "- It returns a True, if all the characters in the string are only alphabets otherwise it returns a False\n",
    "- Here, the string should be a combination of A-Z and a-z\n",
    "- NO Digits and special characters are allowed"
   ]
  },
  {
   "cell_type": "code",
   "execution_count": 5,
   "id": "864d5c3e",
   "metadata": {},
   "outputs": [
    {
     "name": "stdout",
     "output_type": "stream",
     "text": [
      "True\n"
     ]
    }
   ],
   "source": [
    "my_str = 'DATA'\n",
    "print(my_str.isalpha())"
   ]
  },
  {
   "cell_type": "code",
   "execution_count": 6,
   "id": "8ec75a90",
   "metadata": {},
   "outputs": [
    {
     "name": "stdout",
     "output_type": "stream",
     "text": [
      "False\n"
     ]
    }
   ],
   "source": [
    "my_str = 'Data123@'\n",
    "print(my_str.isalpha())"
   ]
  },
  {
   "cell_type": "markdown",
   "id": "b63b4215",
   "metadata": {},
   "source": [
    "### isupper()\n",
    "\n",
    "- It returns True, if all the character in the string are in the upper case else False\n"
   ]
  },
  {
   "cell_type": "code",
   "execution_count": 7,
   "id": "3d90ef7a",
   "metadata": {},
   "outputs": [
    {
     "name": "stdout",
     "output_type": "stream",
     "text": [
      "True\n"
     ]
    }
   ],
   "source": [
    "my_str = 'DATA SCIENCE'\n",
    "print(my_str.isupper())"
   ]
  },
  {
   "cell_type": "code",
   "execution_count": 8,
   "id": "632f99ec",
   "metadata": {},
   "outputs": [
    {
     "name": "stdout",
     "output_type": "stream",
     "text": [
      "False\n"
     ]
    }
   ],
   "source": [
    "my_str = 'Data SCIENCE'\n",
    "print(my_str.isupper())"
   ]
  },
  {
   "cell_type": "code",
   "execution_count": 9,
   "id": "e7f7b7c2",
   "metadata": {},
   "outputs": [
    {
     "name": "stdout",
     "output_type": "stream",
     "text": [
      "True\n"
     ]
    }
   ],
   "source": [
    "my_str = 'DATA SCIENCE123@'\n",
    "print(my_str.isupper())"
   ]
  },
  {
   "cell_type": "code",
   "execution_count": 13,
   "id": "88434743",
   "metadata": {},
   "outputs": [
    {
     "data": {
      "text/plain": [
       "False"
      ]
     },
     "execution_count": 13,
     "metadata": {},
     "output_type": "execute_result"
    }
   ],
   "source": [
    "a = '1'\n",
    "a.isupper()"
   ]
  },
  {
   "cell_type": "markdown",
   "id": "0ec40cb0",
   "metadata": {},
   "source": [
    "### islower()\n",
    "\n",
    "- It returns True if all the character in the string is going to be in lowercase."
   ]
  },
  {
   "cell_type": "code",
   "execution_count": 11,
   "id": "f256dd45",
   "metadata": {},
   "outputs": [
    {
     "name": "stdout",
     "output_type": "stream",
     "text": [
      "True\n"
     ]
    }
   ],
   "source": [
    "my_str = 'data science123@'\n",
    "print(my_str.islower())"
   ]
  },
  {
   "cell_type": "code",
   "execution_count": 14,
   "id": "a81f085d",
   "metadata": {},
   "outputs": [
    {
     "data": {
      "text/plain": [
       "False"
      ]
     },
     "execution_count": 14,
     "metadata": {},
     "output_type": "execute_result"
    }
   ],
   "source": [
    "a = '1'\n",
    "a.islower()"
   ]
  },
  {
   "cell_type": "code",
   "execution_count": 15,
   "id": "3b1f4460",
   "metadata": {},
   "outputs": [
    {
     "name": "stdout",
     "output_type": "stream",
     "text": [
      "False\n"
     ]
    }
   ],
   "source": [
    "my_str = 'DATA'\n",
    "print(my_str.islower())"
   ]
  },
  {
   "cell_type": "markdown",
   "id": "e38b2c64",
   "metadata": {},
   "source": [
    "### istitle()\n",
    "\n",
    "- It returns True if the string is in Title case\n",
    "- Title case --> The first character of each word should be in the uppercase"
   ]
  },
  {
   "cell_type": "code",
   "execution_count": 16,
   "id": "6c456d71",
   "metadata": {},
   "outputs": [
    {
     "name": "stdout",
     "output_type": "stream",
     "text": [
      "False\n"
     ]
    }
   ],
   "source": [
    "my_str = 'This is a Python Class @'\n",
    "print(my_str.istitle())"
   ]
  },
  {
   "cell_type": "code",
   "execution_count": 17,
   "id": "5eb3e157",
   "metadata": {},
   "outputs": [
    {
     "name": "stdout",
     "output_type": "stream",
     "text": [
      "True\n"
     ]
    }
   ],
   "source": [
    "my_str = 'This Is A Python Class @'\n",
    "print(my_str.istitle())"
   ]
  },
  {
   "cell_type": "code",
   "execution_count": 18,
   "id": "37990865",
   "metadata": {},
   "outputs": [
    {
     "name": "stdout",
     "output_type": "stream",
     "text": [
      "True\n"
     ]
    }
   ],
   "source": [
    "my_str = 'Mayank Atul Ghai'\n",
    "print(my_str.istitle())"
   ]
  },
  {
   "cell_type": "markdown",
   "id": "48e28ff1",
   "metadata": {},
   "source": [
    "### isspace()\n",
    "\n",
    "- It returns a True, if all the characters in the string are space characters\n",
    "- Space characters --> \\n, \\t, \\r and space"
   ]
  },
  {
   "cell_type": "code",
   "execution_count": 19,
   "id": "f33e98cc",
   "metadata": {},
   "outputs": [
    {
     "name": "stdout",
     "output_type": "stream",
     "text": [
      "True\n"
     ]
    }
   ],
   "source": [
    "my_str = ' '\n",
    "print(my_str.isspace())"
   ]
  },
  {
   "cell_type": "code",
   "execution_count": 20,
   "id": "e72e0f26",
   "metadata": {},
   "outputs": [
    {
     "name": "stdout",
     "output_type": "stream",
     "text": [
      "True\n"
     ]
    }
   ],
   "source": [
    "my_str = '\\n'\n",
    "print(my_str.isspace())"
   ]
  },
  {
   "cell_type": "code",
   "execution_count": 21,
   "id": "d5086ee6",
   "metadata": {},
   "outputs": [
    {
     "name": "stdout",
     "output_type": "stream",
     "text": [
      "True\n"
     ]
    }
   ],
   "source": [
    "my_str = '\\r'\n",
    "print(my_str.isspace())"
   ]
  },
  {
   "cell_type": "code",
   "execution_count": 22,
   "id": "396d3a02",
   "metadata": {},
   "outputs": [
    {
     "name": "stdout",
     "output_type": "stream",
     "text": [
      "False\n"
     ]
    }
   ],
   "source": [
    "my_str = '_'\n",
    "print(my_str.isspace())"
   ]
  },
  {
   "cell_type": "code",
   "execution_count": 23,
   "id": "f5729e40",
   "metadata": {},
   "outputs": [
    {
     "name": "stdout",
     "output_type": "stream",
     "text": [
      "False\n"
     ]
    }
   ],
   "source": [
    "my_str = 'Mayank\\nGhai'\n",
    "print(my_str.isspace())"
   ]
  },
  {
   "cell_type": "code",
   "execution_count": null,
   "id": "f32cc36d",
   "metadata": {},
   "outputs": [],
   "source": [
    "\\n ---> new line\n",
    "\\t---> horizontaltab\n",
    "\\r ---> carriage return \n",
    "' '---> space"
   ]
  },
  {
   "cell_type": "code",
   "execution_count": 24,
   "id": "c8325b3a",
   "metadata": {},
   "outputs": [
    {
     "name": "stdout",
     "output_type": "stream",
     "text": [
      "Ghai\n"
     ]
    }
   ],
   "source": [
    "my_str = 'Mayank\\rGhai'\n",
    "print(my_str)"
   ]
  },
  {
   "cell_type": "code",
   "execution_count": 26,
   "id": "29827d61",
   "metadata": {},
   "outputs": [
    {
     "name": "stdout",
     "output_type": "stream",
     "text": [
      "Classes\n"
     ]
    }
   ],
   "source": [
    "my_str = 'Learnbay\\rClasses'\n",
    "print(my_str)"
   ]
  },
  {
   "cell_type": "code",
   "execution_count": 29,
   "id": "c5fbb7c2",
   "metadata": {},
   "outputs": [
    {
     "name": "stdout",
     "output_type": "stream",
     "text": [
      "Mayank\n"
     ]
    }
   ],
   "source": [
    "my_str = 'Atul\\rMayank'\n",
    "print(my_str)"
   ]
  },
  {
   "cell_type": "code",
   "execution_count": 31,
   "id": "33857087",
   "metadata": {},
   "outputs": [
    {
     "name": "stdout",
     "output_type": "stream",
     "text": [
      "mayank\tghai\n"
     ]
    }
   ],
   "source": [
    "my_str = 'mayank\\tghai'\n",
    "print(my_str)"
   ]
  },
  {
   "cell_type": "code",
   "execution_count": 32,
   "id": "a515a41a",
   "metadata": {},
   "outputs": [
    {
     "data": {
      "text/plain": [
       "11"
      ]
     },
     "execution_count": 32,
     "metadata": {},
     "output_type": "execute_result"
    }
   ],
   "source": [
    "len('mayank\tghai')"
   ]
  },
  {
   "cell_type": "markdown",
   "id": "450db390",
   "metadata": {},
   "source": [
    "### startswith()\n",
    "\n",
    "- It returns True if the string starts with a specified character or a sub-string else it will return False"
   ]
  },
  {
   "cell_type": "code",
   "execution_count": 37,
   "id": "65c896a3",
   "metadata": {},
   "outputs": [
    {
     "name": "stdout",
     "output_type": "stream",
     "text": [
      "False\n"
     ]
    }
   ],
   "source": [
    "a = \"this is a Python class\"\n",
    "print(a.startswith('T'))"
   ]
  },
  {
   "cell_type": "code",
   "execution_count": 38,
   "id": "a2081ac3",
   "metadata": {},
   "outputs": [
    {
     "name": "stdout",
     "output_type": "stream",
     "text": [
      "True\n"
     ]
    }
   ],
   "source": [
    "a = \"This is a Python class\"\n",
    "print(a.startswith('T'))"
   ]
  },
  {
   "cell_type": "code",
   "execution_count": 39,
   "id": "e9c554af",
   "metadata": {},
   "outputs": [
    {
     "name": "stdout",
     "output_type": "stream",
     "text": [
      "True\n"
     ]
    }
   ],
   "source": [
    "a = \"This is a Python class\"\n",
    "print(a.startswith('Th'))"
   ]
  },
  {
   "cell_type": "code",
   "execution_count": 40,
   "id": "02d64846",
   "metadata": {},
   "outputs": [
    {
     "name": "stdout",
     "output_type": "stream",
     "text": [
      "False\n"
     ]
    }
   ],
   "source": [
    "a = \"This is a Python class\"\n",
    "print(a.startswith('th'))"
   ]
  },
  {
   "cell_type": "code",
   "execution_count": 41,
   "id": "3e68d90c",
   "metadata": {},
   "outputs": [
    {
     "name": "stdout",
     "output_type": "stream",
     "text": [
      "False\n"
     ]
    }
   ],
   "source": [
    "a = \"This is a Python class\"\n",
    "print(a.startswith('this'))"
   ]
  },
  {
   "cell_type": "code",
   "execution_count": 42,
   "id": "4e05fdeb",
   "metadata": {
    "scrolled": true
   },
   "outputs": [
    {
     "name": "stdout",
     "output_type": "stream",
     "text": [
      "True\n"
     ]
    }
   ],
   "source": [
    "a = \"This is a Python class\"\n",
    "print(a.startswith('This'))"
   ]
  },
  {
   "cell_type": "code",
   "execution_count": 36,
   "id": "4517fdb5",
   "metadata": {},
   "outputs": [
    {
     "name": "stdout",
     "output_type": "stream",
     "text": [
      "False\n"
     ]
    }
   ],
   "source": [
    "my_str = 'mayank\\vghai'\n",
    "print(my_str.isspace())"
   ]
  },
  {
   "cell_type": "code",
   "execution_count": 44,
   "id": "c6c9414d",
   "metadata": {},
   "outputs": [
    {
     "name": "stdout",
     "output_type": "stream",
     "text": [
      "True\n"
     ]
    }
   ],
   "source": [
    "a = \"@This is a Python class\"\n",
    "print(a.startswith('@'))"
   ]
  },
  {
   "cell_type": "markdown",
   "id": "402764f8",
   "metadata": {},
   "source": [
    "### endswith()\n",
    "\n",
    "- It returns True if the string ends with a specified character or a sub-string else it will return False"
   ]
  },
  {
   "cell_type": "code",
   "execution_count": 47,
   "id": "e2128f63",
   "metadata": {},
   "outputs": [
    {
     "name": "stdout",
     "output_type": "stream",
     "text": [
      "True\n",
      "True\n",
      "False\n"
     ]
    }
   ],
   "source": [
    "my_str = \"Data Science\"\n",
    "print(my_str.endswith('ce'))\n",
    "print(my_str.endswith('Science'))\n",
    "print(my_str.endswith('a'))"
   ]
  },
  {
   "cell_type": "markdown",
   "id": "e253a95a",
   "metadata": {},
   "source": [
    "### Identifier\n",
    "\n",
    "- An identifier is a name given to a variable, function, class or a file etc"
   ]
  },
  {
   "cell_type": "markdown",
   "id": "b39a771f",
   "metadata": {},
   "source": [
    "### Properties of Valid Identifier\n",
    "\n",
    "- An identifier may have alphanumeric characters (A-Z, a-z or 0-9) and also an underscore(_)\n",
    "- An identifier may begin with an alphabet or an underscore(_) but it will never begin with a number\n",
    "- An identifier may have numbers but after the alphabet or underscore(_)\n",
    "- No space characters and special characters are allowed\n",
    "- It is case sensitive, i.e. a and A are treated differently"
   ]
  },
  {
   "cell_type": "markdown",
   "id": "d8647444",
   "metadata": {},
   "source": [
    "### isidentifier()\n",
    "\n",
    "- It will return a True if the string is a valid identifier else False\n"
   ]
  },
  {
   "cell_type": "code",
   "execution_count": 48,
   "id": "2a064cb9",
   "metadata": {},
   "outputs": [
    {
     "name": "stdout",
     "output_type": "stream",
     "text": [
      "True\n"
     ]
    }
   ],
   "source": [
    "a = '_Mayank123'\n",
    "print(a.isidentifier())"
   ]
  },
  {
   "cell_type": "code",
   "execution_count": 49,
   "id": "c610f684",
   "metadata": {},
   "outputs": [
    {
     "name": "stdout",
     "output_type": "stream",
     "text": [
      "True\n"
     ]
    }
   ],
   "source": [
    "a = 'Mayank_123'\n",
    "print(a.isidentifier())"
   ]
  },
  {
   "cell_type": "code",
   "execution_count": 50,
   "id": "530e1a29",
   "metadata": {},
   "outputs": [
    {
     "name": "stdout",
     "output_type": "stream",
     "text": [
      "False\n"
     ]
    }
   ],
   "source": [
    "a = '123Mayank_123'\n",
    "print(a.isidentifier())"
   ]
  },
  {
   "cell_type": "code",
   "execution_count": 51,
   "id": "eaf65d3e",
   "metadata": {},
   "outputs": [
    {
     "name": "stdout",
     "output_type": "stream",
     "text": [
      "False\n"
     ]
    }
   ],
   "source": [
    "a = '123 Mayank_123'\n",
    "print(a.isidentifier())"
   ]
  },
  {
   "cell_type": "code",
   "execution_count": 59,
   "id": "daf33503",
   "metadata": {},
   "outputs": [
    {
     "name": "stdout",
     "output_type": "stream",
     "text": [
      "False\n"
     ]
    }
   ],
   "source": [
    "a = 'Mayank Ghai'\n",
    "print(a.isidentifier())"
   ]
  },
  {
   "cell_type": "code",
   "execution_count": 58,
   "id": "e53f8cac",
   "metadata": {},
   "outputs": [
    {
     "name": "stdout",
     "output_type": "stream",
     "text": [
      "True\n"
     ]
    }
   ],
   "source": [
    "a = 'Mayank_Ghai'\n",
    "print(a.isidentifier())"
   ]
  },
  {
   "cell_type": "code",
   "execution_count": 53,
   "id": "e3410d7b",
   "metadata": {},
   "outputs": [
    {
     "name": "stdout",
     "output_type": "stream",
     "text": [
      "False\n"
     ]
    }
   ],
   "source": [
    "a = '@mayank'\n",
    "print(a.isidentifier())"
   ]
  },
  {
   "cell_type": "code",
   "execution_count": 56,
   "id": "1d773259",
   "metadata": {},
   "outputs": [
    {
     "name": "stdout",
     "output_type": "stream",
     "text": [
      "['False', 'None', 'True', 'and', 'as', 'assert', 'async', 'await', 'break', 'class', 'continue', 'def', 'del', 'elif', 'else', 'except', 'finally', 'for', 'from', 'global', 'if', 'import', 'in', 'is', 'lambda', 'nonlocal', 'not', 'or', 'pass', 'raise', 'return', 'try', 'while', 'with', 'yield']\n"
     ]
    }
   ],
   "source": [
    "import keyword\n",
    "print(keyword.kwlist)"
   ]
  },
  {
   "cell_type": "code",
   "execution_count": 57,
   "id": "ab187cf2",
   "metadata": {},
   "outputs": [
    {
     "name": "stdout",
     "output_type": "stream",
     "text": [
      "True\n"
     ]
    }
   ],
   "source": [
    "a=\"Chanderkant123\"\n",
    "print(a.isidentifier())"
   ]
  },
  {
   "cell_type": "code",
   "execution_count": 64,
   "id": "a98db67b",
   "metadata": {},
   "outputs": [],
   "source": [
    "even_num = '2' # snake way of writing"
   ]
  },
  {
   "cell_type": "code",
   "execution_count": 61,
   "id": "51a8d3e4",
   "metadata": {},
   "outputs": [],
   "source": [
    "EvenNum = 1 # camel way of writing"
   ]
  },
  {
   "cell_type": "code",
   "execution_count": 63,
   "id": "f76d6113",
   "metadata": {},
   "outputs": [
    {
     "name": "stdout",
     "output_type": "stream",
     "text": [
      "True\n"
     ]
    }
   ],
   "source": [
    "a = True\n",
    "print(a.isidentifier())"
   ]
  },
  {
   "cell_type": "markdown",
   "id": "10c1dffd",
   "metadata": {},
   "source": [
    "### isprintable()\n",
    "\n",
    "- It will return a True if the element in the string is printable else it will return a false\n"
   ]
  },
  {
   "cell_type": "code",
   "execution_count": 65,
   "id": "17d31bbf",
   "metadata": {},
   "outputs": [
    {
     "name": "stdout",
     "output_type": "stream",
     "text": [
      "True\n"
     ]
    }
   ],
   "source": [
    "my_str = 'Hello Python'\n",
    "print(my_str.isprintable())"
   ]
  },
  {
   "cell_type": "code",
   "execution_count": 66,
   "id": "8964673e",
   "metadata": {},
   "outputs": [
    {
     "name": "stdout",
     "output_type": "stream",
     "text": [
      "False\n"
     ]
    }
   ],
   "source": [
    "my_str = 'Hello\\nPython'\n",
    "print(my_str.isprintable())"
   ]
  },
  {
   "cell_type": "code",
   "execution_count": 67,
   "id": "8c84d6ae",
   "metadata": {},
   "outputs": [
    {
     "name": "stdout",
     "output_type": "stream",
     "text": [
      "Hello\n",
      "Python\n"
     ]
    }
   ],
   "source": [
    "print(my_str)"
   ]
  },
  {
   "cell_type": "code",
   "execution_count": 68,
   "id": "19266eb3",
   "metadata": {},
   "outputs": [
    {
     "name": "stdout",
     "output_type": "stream",
     "text": [
      "False\n"
     ]
    }
   ],
   "source": [
    "my_str = 'Hello\\tPython'\n",
    "print(my_str.isprintable())"
   ]
  },
  {
   "cell_type": "code",
   "execution_count": 69,
   "id": "0d5a85ab",
   "metadata": {},
   "outputs": [
    {
     "name": "stdout",
     "output_type": "stream",
     "text": [
      "False\n"
     ]
    }
   ],
   "source": [
    "my_str = 'Hello\\rPython'\n",
    "print(my_str.isprintable())"
   ]
  },
  {
   "cell_type": "markdown",
   "id": "f1ba9e3f",
   "metadata": {},
   "source": [
    "### replace()\n",
    "\n",
    "- It replaces the existing character or a sub-string from the string with a new character or a new substring\n",
    "- It does not make any changes in the existing string\n",
    "- It will return a new object\n",
    "\n",
    "    Syntax:\n",
    "        \n",
    "        my_str.replace(sub_string, new_sub_string)"
   ]
  },
  {
   "cell_type": "code",
   "execution_count": 74,
   "id": "4b219d1b",
   "metadata": {},
   "outputs": [
    {
     "data": {
      "text/plain": [
       "'hello  Java'"
      ]
     },
     "execution_count": 74,
     "metadata": {},
     "output_type": "execute_result"
    }
   ],
   "source": [
    "my_str = 'hello Python'\n",
    "b = my_str.replace('Python', ' Java')\n",
    "b"
   ]
  },
  {
   "cell_type": "code",
   "execution_count": 72,
   "id": "61745c59",
   "metadata": {},
   "outputs": [
    {
     "name": "stdout",
     "output_type": "stream",
     "text": [
      "2303106717104 2303113181616\n"
     ]
    }
   ],
   "source": [
    "print(id(my_str), id(b))"
   ]
  },
  {
   "cell_type": "code",
   "execution_count": 75,
   "id": "33aa3d89",
   "metadata": {},
   "outputs": [
    {
     "data": {
      "text/plain": [
       "'hello Python'"
      ]
     },
     "execution_count": 75,
     "metadata": {},
     "output_type": "execute_result"
    }
   ],
   "source": [
    "my_str"
   ]
  },
  {
   "cell_type": "code",
   "execution_count": 77,
   "id": "e6a455b9",
   "metadata": {},
   "outputs": [
    {
     "data": {
      "text/plain": [
       "'hello C++! C++ is a very easy langauge'"
      ]
     },
     "execution_count": 77,
     "metadata": {},
     "output_type": "execute_result"
    }
   ],
   "source": [
    "my_str = 'hello Python! Python is a very easy langauge'\n",
    "b = my_str.replace('Python', 'C++')\n",
    "b"
   ]
  },
  {
   "cell_type": "markdown",
   "id": "9b3ebf6a",
   "metadata": {},
   "source": [
    "### isnumeric(), isdigit() and isdecimal()\n",
    "\n",
    "#### isnumeric()\n",
    "    \n",
    "    - It returns a True if all the characters in the string are digits, superscipts, subscripts, vulgar fractions or Roman numbers else False\n",
    "    \n",
    "#### isdigit()\n",
    "\n",
    "    - It returns a True if all the characters are digits, superscript and sub-scripts else False\n",
    "    \n",
    "#### isdecimal()\n",
    "    \n",
    "    - It returns a True if all the characters are digits only else False\n",
    "    \n",
    "  "
   ]
  },
  {
   "cell_type": "code",
   "execution_count": 78,
   "id": "bf11bcf2",
   "metadata": {},
   "outputs": [
    {
     "name": "stdout",
     "output_type": "stream",
     "text": [
      "True\n",
      "True\n",
      "True\n"
     ]
    }
   ],
   "source": [
    "a = '10'\n",
    "print(a.isnumeric())\n",
    "print(a.isdigit())\n",
    "print(a.isdecimal())"
   ]
  },
  {
   "cell_type": "code",
   "execution_count": 87,
   "id": "3815c5fd",
   "metadata": {},
   "outputs": [
    {
     "ename": "ValueError",
     "evalue": "invalid literal for int() with base 10: '2³'",
     "output_type": "error",
     "traceback": [
      "\u001b[1;31m---------------------------------------------------------------------------\u001b[0m",
      "\u001b[1;31mValueError\u001b[0m                                Traceback (most recent call last)",
      "Cell \u001b[1;32mIn[87], line 2\u001b[0m\n\u001b[0;32m      1\u001b[0m a \u001b[38;5;241m=\u001b[39m \u001b[38;5;124m'\u001b[39m\u001b[38;5;124m2\u001b[39m\u001b[38;5;130;01m\\u00b3\u001b[39;00m\u001b[38;5;124m'\u001b[39m\n\u001b[1;32m----> 2\u001b[0m \u001b[38;5;28mint\u001b[39m(a)\n",
      "\u001b[1;31mValueError\u001b[0m: invalid literal for int() with base 10: '2³'"
     ]
    }
   ],
   "source": [
    "a = '2\\u00b3'\n",
    "int(a)"
   ]
  },
  {
   "cell_type": "code",
   "execution_count": 80,
   "id": "f5cc0c34",
   "metadata": {},
   "outputs": [
    {
     "name": "stdout",
     "output_type": "stream",
     "text": [
      "True\n",
      "True\n",
      "False\n"
     ]
    }
   ],
   "source": [
    "print(a.isnumeric())\n",
    "print(a.isdigit())\n",
    "print(a.isdecimal())"
   ]
  },
  {
   "cell_type": "code",
   "execution_count": 89,
   "id": "76913001",
   "metadata": {},
   "outputs": [
    {
     "data": {
      "text/plain": [
       "'12345Δ'"
      ]
     },
     "execution_count": 89,
     "metadata": {},
     "output_type": "execute_result"
    }
   ],
   "source": [
    "a = '12345\\u0394'\n",
    "a"
   ]
  },
  {
   "cell_type": "code",
   "execution_count": 90,
   "id": "b34a6fe1",
   "metadata": {},
   "outputs": [
    {
     "name": "stdout",
     "output_type": "stream",
     "text": [
      "False\n",
      "False\n",
      "False\n"
     ]
    }
   ],
   "source": [
    "print(a.isnumeric())\n",
    "print(a.isdigit())\n",
    "print(a.isdecimal())"
   ]
  },
  {
   "cell_type": "code",
   "execution_count": 91,
   "id": "f6ba91e7",
   "metadata": {},
   "outputs": [
    {
     "data": {
      "text/plain": [
       "'2₂'"
      ]
     },
     "execution_count": 91,
     "metadata": {},
     "output_type": "execute_result"
    }
   ],
   "source": [
    "a = '2\\u2082'\n",
    "a"
   ]
  },
  {
   "cell_type": "code",
   "execution_count": 92,
   "id": "152d185e",
   "metadata": {},
   "outputs": [
    {
     "name": "stdout",
     "output_type": "stream",
     "text": [
      "True\n",
      "True\n",
      "False\n"
     ]
    }
   ],
   "source": [
    "print(a.isnumeric())\n",
    "print(a.isdigit())\n",
    "print(a.isdecimal())"
   ]
  },
  {
   "cell_type": "code",
   "execution_count": 93,
   "id": "b2df52a6",
   "metadata": {},
   "outputs": [
    {
     "ename": "SyntaxError",
     "evalue": "unexpected character after line continuation character (3931178398.py, line 1)",
     "output_type": "error",
     "traceback": [
      "\u001b[1;36m  Cell \u001b[1;32mIn[93], line 1\u001b[1;36m\u001b[0m\n\u001b[1;33m    a = 2\\u00b32\u001b[0m\n\u001b[1;37m          ^\u001b[0m\n\u001b[1;31mSyntaxError\u001b[0m\u001b[1;31m:\u001b[0m unexpected character after line continuation character\n"
     ]
    }
   ],
   "source": [
    "a = 2\\u00b3"
   ]
  },
  {
   "cell_type": "code",
   "execution_count": 95,
   "id": "0d3677e9",
   "metadata": {},
   "outputs": [
    {
     "data": {
      "text/plain": [
       "'5½'"
      ]
     },
     "execution_count": 95,
     "metadata": {},
     "output_type": "execute_result"
    }
   ],
   "source": [
    "a = '5'+chr(189)\n",
    "a"
   ]
  },
  {
   "cell_type": "code",
   "execution_count": 96,
   "id": "7295847d",
   "metadata": {},
   "outputs": [
    {
     "name": "stdout",
     "output_type": "stream",
     "text": [
      "True\n",
      "False\n",
      "False\n"
     ]
    }
   ],
   "source": [
    "print(a.isnumeric())\n",
    "print(a.isdigit())\n",
    "print(a.isdecimal())"
   ]
  },
  {
   "cell_type": "code",
   "execution_count": 97,
   "id": "978ce4b7",
   "metadata": {},
   "outputs": [
    {
     "data": {
      "text/plain": [
       "19"
      ]
     },
     "execution_count": 97,
     "metadata": {},
     "output_type": "execute_result"
    }
   ],
   "source": [
    "a = 'akash akash mayank akash priya'\n",
    "\n",
    "a.rfind('akash')"
   ]
  },
  {
   "cell_type": "code",
   "execution_count": 98,
   "id": "fd0d08d9",
   "metadata": {},
   "outputs": [
    {
     "name": "stdout",
     "output_type": "stream",
     "text": [
      "0 a\n",
      "1 k\n",
      "2 a\n",
      "3 s\n",
      "4 h\n",
      "5  \n",
      "6 a\n",
      "7 k\n",
      "8 a\n",
      "9 s\n",
      "10 h\n",
      "11  \n",
      "12 m\n",
      "13 a\n",
      "14 y\n",
      "15 a\n",
      "16 n\n",
      "17 k\n",
      "18  \n",
      "19 a\n",
      "20 k\n",
      "21 a\n",
      "22 s\n",
      "23 h\n",
      "24  \n",
      "25 p\n",
      "26 r\n",
      "27 i\n",
      "28 y\n",
      "29 a\n"
     ]
    }
   ],
   "source": [
    "for i,j in enumerate(a):\n",
    "    print(i,j)"
   ]
  },
  {
   "cell_type": "code",
   "execution_count": 100,
   "id": "d0459dd1",
   "metadata": {},
   "outputs": [
    {
     "data": {
      "text/plain": [
       "'Mayank'"
      ]
     },
     "execution_count": 100,
     "metadata": {},
     "output_type": "execute_result"
    }
   ],
   "source": [
    "a = '$Mayank$'\n",
    "a.strip('$')"
   ]
  },
  {
   "cell_type": "code",
   "execution_count": 101,
   "id": "42f2006d",
   "metadata": {},
   "outputs": [
    {
     "data": {
      "text/plain": [
       "'Mayank$'"
      ]
     },
     "execution_count": 101,
     "metadata": {},
     "output_type": "execute_result"
    }
   ],
   "source": [
    "a.lstrip('$')"
   ]
  },
  {
   "cell_type": "code",
   "execution_count": 103,
   "id": "4d292bbe",
   "metadata": {},
   "outputs": [
    {
     "data": {
      "text/plain": [
       "'mayank#'"
      ]
     },
     "execution_count": 103,
     "metadata": {},
     "output_type": "execute_result"
    }
   ],
   "source": [
    "a = '$mayank#'\n",
    "a.strip('$')"
   ]
  },
  {
   "cell_type": "code",
   "execution_count": null,
   "id": "d8ae16ff",
   "metadata": {},
   "outputs": [],
   "source": []
  }
 ],
 "metadata": {
  "kernelspec": {
   "display_name": "Python 3 (ipykernel)",
   "language": "python",
   "name": "python3"
  },
  "language_info": {
   "codemirror_mode": {
    "name": "ipython",
    "version": 3
   },
   "file_extension": ".py",
   "mimetype": "text/x-python",
   "name": "python",
   "nbconvert_exporter": "python",
   "pygments_lexer": "ipython3",
   "version": "3.11.5"
  }
 },
 "nbformat": 4,
 "nbformat_minor": 5
}
