{
 "cells": [
  {
   "cell_type": "markdown",
   "id": "08d4e4d9",
   "metadata": {},
   "source": [
    "### Comments\n",
    "\n",
    "- Comments are used to improve the readability of the code written by any other person or even by me.\n",
    "- anything written after the '#' will be ignored by the translator"
   ]
  },
  {
   "cell_type": "code",
   "execution_count": 2,
   "id": "0cb8e166",
   "metadata": {},
   "outputs": [
    {
     "name": "stdout",
     "output_type": "stream",
     "text": [
      "The sum of 10 and 20 is 30\n"
     ]
    }
   ],
   "source": [
    "a = 10 #initialising the variable a with a value 10\n",
    "b = 20 # initialising the varaible b with a value 20\n",
    "c = a+b # initialising a variable c that is going to store the sum of the two variable in it\n",
    "print(f'The sum of {a} and {b} is {c}')# printing out the output"
   ]
  },
  {
   "cell_type": "code",
   "execution_count": 3,
   "id": "897a713f",
   "metadata": {},
   "outputs": [
    {
     "name": "stdout",
     "output_type": "stream",
     "text": [
      "The sum of 10 and 20 is 30\n"
     ]
    }
   ],
   "source": [
    "# initialising the variable a and b with some value in it \n",
    "a = 10\n",
    "b = 20\n",
    "\n",
    "#adding the value stored in a and b and storing the result in a variable c\n",
    "c = a + b\n",
    "\n",
    "# print the output \n",
    "print(f'The sum of {a} and {b} is {c}')"
   ]
  },
  {
   "cell_type": "markdown",
   "id": "42093096",
   "metadata": {},
   "source": [
    "### Way of Writing an Output"
   ]
  },
  {
   "cell_type": "code",
   "execution_count": 4,
   "id": "1e723f4e",
   "metadata": {},
   "outputs": [
    {
     "name": "stdout",
     "output_type": "stream",
     "text": [
      "30\n"
     ]
    }
   ],
   "source": [
    "a = 10 \n",
    "b = 20\n",
    "c = a+b\n",
    "print(c)"
   ]
  },
  {
   "cell_type": "code",
   "execution_count": 16,
   "id": "4abc5f08",
   "metadata": {},
   "outputs": [
    {
     "name": "stdout",
     "output_type": "stream",
     "text": [
      "The result is  30\n"
     ]
    }
   ],
   "source": [
    "# Normal way \n",
    "\n",
    "a = 10 \n",
    "b = 20\n",
    "c = a+b\n",
    "print(\"The result is \", c)"
   ]
  },
  {
   "cell_type": "code",
   "execution_count": 6,
   "id": "03c94f00",
   "metadata": {},
   "outputs": [
    {
     "name": "stdout",
     "output_type": "stream",
     "text": [
      "The sum of 10 and 20 is 30\n"
     ]
    }
   ],
   "source": [
    "print('The sum of',a, 'and', b, 'is', c)"
   ]
  },
  {
   "cell_type": "code",
   "execution_count": 17,
   "id": "acf861cf",
   "metadata": {},
   "outputs": [
    {
     "ename": "TypeError",
     "evalue": "can only concatenate str (not \"int\") to str",
     "output_type": "error",
     "traceback": [
      "\u001b[1;31m---------------------------------------------------------------------------\u001b[0m",
      "\u001b[1;31mTypeError\u001b[0m                                 Traceback (most recent call last)",
      "Cell \u001b[1;32mIn[17], line 1\u001b[0m\n\u001b[1;32m----> 1\u001b[0m \u001b[38;5;28mprint\u001b[39m(\u001b[38;5;124m'\u001b[39m\u001b[38;5;124mThe sum of\u001b[39m\u001b[38;5;124m'\u001b[39m\u001b[38;5;241m+\u001b[39m\u001b[38;5;124m'\u001b[39m\u001b[38;5;124m \u001b[39m\u001b[38;5;124m'\u001b[39m\u001b[38;5;241m+\u001b[39m(a)\u001b[38;5;241m+\u001b[39m\u001b[38;5;124m'\u001b[39m\u001b[38;5;124m \u001b[39m\u001b[38;5;124m'\u001b[39m\u001b[38;5;241m+\u001b[39m\u001b[38;5;124m'\u001b[39m\u001b[38;5;124mand\u001b[39m\u001b[38;5;124m'\u001b[39m\u001b[38;5;241m+\u001b[39m\u001b[38;5;124m'\u001b[39m\u001b[38;5;124m \u001b[39m\u001b[38;5;124m'\u001b[39m\u001b[38;5;241m+\u001b[39m\u001b[38;5;28mstr\u001b[39m(b)\u001b[38;5;241m+\u001b[39m\u001b[38;5;124m'\u001b[39m\u001b[38;5;124m \u001b[39m\u001b[38;5;124m'\u001b[39m\u001b[38;5;241m+\u001b[39m \u001b[38;5;124m'\u001b[39m\u001b[38;5;124mis\u001b[39m\u001b[38;5;124m'\u001b[39m\u001b[38;5;241m+\u001b[39m\u001b[38;5;124m'\u001b[39m\u001b[38;5;124m \u001b[39m\u001b[38;5;124m'\u001b[39m\u001b[38;5;241m+\u001b[39m \u001b[38;5;28mstr\u001b[39m(c))\n",
      "\u001b[1;31mTypeError\u001b[0m: can only concatenate str (not \"int\") to str"
     ]
    }
   ],
   "source": [
    "print('The sum of'+' '+(a)+' '+'and'+' '+str(b)+' '+ 'is'+' '+ str(c))"
   ]
  },
  {
   "cell_type": "code",
   "execution_count": 21,
   "id": "293bd023",
   "metadata": {},
   "outputs": [
    {
     "name": "stdout",
     "output_type": "stream",
     "text": [
      "The sum of 10 and 20 is 30\n"
     ]
    }
   ],
   "source": [
    "print('The sum of'+' '+str(a)+' '+'and'+' '+str(b)+' '+ 'is'+' '+ str(c))"
   ]
  },
  {
   "cell_type": "code",
   "execution_count": 14,
   "id": "c7000713",
   "metadata": {},
   "outputs": [
    {
     "name": "stdout",
     "output_type": "stream",
     "text": [
      "Hello World\n"
     ]
    }
   ],
   "source": [
    "a = 'Hello'\n",
    "b = 'World'\n",
    "c = a+' '+b\n",
    "print(c)"
   ]
  },
  {
   "cell_type": "code",
   "execution_count": 12,
   "id": "2b187294",
   "metadata": {},
   "outputs": [
    {
     "ename": "TypeError",
     "evalue": "unsupported operand type(s) for +: 'int' and 'str'",
     "output_type": "error",
     "traceback": [
      "\u001b[1;31m---------------------------------------------------------------------------\u001b[0m",
      "\u001b[1;31mTypeError\u001b[0m                                 Traceback (most recent call last)",
      "Cell \u001b[1;32mIn[12], line 1\u001b[0m\n\u001b[1;32m----> 1\u001b[0m \u001b[38;5;241m1\u001b[39m\u001b[38;5;241m+\u001b[39m\u001b[38;5;124m'\u001b[39m\u001b[38;5;124mmayank\u001b[39m\u001b[38;5;124m'\u001b[39m\n",
      "\u001b[1;31mTypeError\u001b[0m: unsupported operand type(s) for +: 'int' and 'str'"
     ]
    }
   ],
   "source": [
    "1+'mayank'"
   ]
  },
  {
   "cell_type": "code",
   "execution_count": 33,
   "id": "fea2f095",
   "metadata": {},
   "outputs": [],
   "source": [
    "# using format method"
   ]
  },
  {
   "cell_type": "code",
   "execution_count": 27,
   "id": "94594a13",
   "metadata": {},
   "outputs": [
    {
     "name": "stdout",
     "output_type": "stream",
     "text": [
      "The sum of 10 and 20 is 30\n"
     ]
    }
   ],
   "source": [
    "print('The sum of {} and {} is {}'.format(a,b,c))"
   ]
  },
  {
   "cell_type": "code",
   "execution_count": 23,
   "id": "07880720",
   "metadata": {},
   "outputs": [
    {
     "name": "stdout",
     "output_type": "stream",
     "text": [
      "The sum of 20 and 10 and 30\n"
     ]
    }
   ],
   "source": [
    "print('The sum of {} and {} and {}'.format(b,a,c))"
   ]
  },
  {
   "cell_type": "code",
   "execution_count": 24,
   "id": "f4162ab6",
   "metadata": {},
   "outputs": [
    {
     "name": "stdout",
     "output_type": "stream",
     "text": [
      "The sum of 30 and 10 and 20\n"
     ]
    }
   ],
   "source": [
    "print('The sum of {} and {} and {}'.format(c,a, b))"
   ]
  },
  {
   "cell_type": "code",
   "execution_count": 26,
   "id": "b17a6f96",
   "metadata": {},
   "outputs": [
    {
     "name": "stdout",
     "output_type": "stream",
     "text": [
      "the sum 10 20\n"
     ]
    }
   ],
   "source": [
    "print('the sum', a, b)\n"
   ]
  },
  {
   "cell_type": "code",
   "execution_count": 28,
   "id": "bc1031b3",
   "metadata": {},
   "outputs": [
    {
     "name": "stdout",
     "output_type": "stream",
     "text": [
      "10 20 30\n"
     ]
    }
   ],
   "source": [
    "print(a,b,c)"
   ]
  },
  {
   "cell_type": "code",
   "execution_count": 30,
   "id": "d1058d4a",
   "metadata": {},
   "outputs": [
    {
     "name": "stdout",
     "output_type": "stream",
     "text": [
      "Enter a number: 10\n",
      "Enter a number: 50\n",
      "The sum of 10 and 50 is 60\n"
     ]
    }
   ],
   "source": [
    "a = int(input('Enter a number: '))\n",
    "b = int(input('Enter a number: '))\n",
    "\n",
    "c = a+b\n",
    "\n",
    "print('The sum of {} and {} is {}'.format(a,b,c))"
   ]
  },
  {
   "cell_type": "code",
   "execution_count": 35,
   "id": "8eb9a06a",
   "metadata": {},
   "outputs": [
    {
     "name": "stdout",
     "output_type": "stream",
     "text": [
      "Enter a number: 10\n",
      "Enter a number in words: Ten\n",
      "The number is 10 and in words it is Ten\n",
      "the number given by the user in word is this Ten and the numeber is 10\n"
     ]
    }
   ],
   "source": [
    "a = int(input('Enter a number: '))\n",
    "b = input('Enter a number in words: ')\n",
    "\n",
    "print('The number is {} and in words it is {}'.format(a,b))\n",
    "print('the number given by the user in word is this {} and the numeber is {}'.format(b,a))"
   ]
  },
  {
   "cell_type": "code",
   "execution_count": 32,
   "id": "6c4c1900",
   "metadata": {},
   "outputs": [
    {
     "name": "stdout",
     "output_type": "stream",
     "text": [
      "The sum of 50 and 10 is 60\n"
     ]
    }
   ],
   "source": [
    "# f- formatting\n",
    "print(f'The sum of {b} and {a} is {c}')"
   ]
  },
  {
   "cell_type": "markdown",
   "id": "258dbfaa",
   "metadata": {},
   "source": [
    "### Operators\n",
    "\n",
    "- We will use operators to perform different kinds of operation in different set of value "
   ]
  },
  {
   "cell_type": "markdown",
   "id": "7edda7d5",
   "metadata": {},
   "source": [
    "#### Type of Operator \n",
    "\n",
    "- Arithmetic Operator \n",
    "- Logical Operator \n",
    "- Comparison Operator\n",
    "- Equality Operator \n",
    "- Assignment OPerator \n",
    "- Compounding Operator \n",
    "- Membership Operator \n",
    "- Identity Operator \n",
    "- Bitwise Operator \n",
    "- Ternary Operators"
   ]
  },
  {
   "cell_type": "markdown",
   "id": "cf9e4a49",
   "metadata": {},
   "source": [
    "### Arithmetic Operator \n",
    "\n",
    "- Will help us to do any arithemtic operation over the values stored in variable\n",
    "- These are valid for int, float, complex and bool (Will use the first four Operations)\n",
    "    \n",
    "        - (+) ---> addition\n",
    "        - (-) ---> subtraction\n",
    "        - (*) ---> Multiplication\n",
    "        - (/) ----> float division (the result will be in the float datatype) (ans - quotient)\n",
    "        - (//) ---> floor division (the result will be in the int datatype) (ans - quotient)\n",
    "        - (%) ----> modulus (the answer will be the remainder)\n",
    "        - (**) ---> Exponential (raise to the power)"
   ]
  },
  {
   "cell_type": "code",
   "execution_count": 36,
   "id": "862f433d",
   "metadata": {},
   "outputs": [
    {
     "name": "stdout",
     "output_type": "stream",
     "text": [
      "7\n"
     ]
    }
   ],
   "source": [
    "print(2+5)"
   ]
  },
  {
   "cell_type": "code",
   "execution_count": 37,
   "id": "c4336681",
   "metadata": {},
   "outputs": [
    {
     "name": "stdout",
     "output_type": "stream",
     "text": [
      "7\n"
     ]
    }
   ],
   "source": [
    "print(10-3)"
   ]
  },
  {
   "cell_type": "code",
   "execution_count": 38,
   "id": "faf69bfa",
   "metadata": {},
   "outputs": [
    {
     "name": "stdout",
     "output_type": "stream",
     "text": [
      "20\n"
     ]
    }
   ],
   "source": [
    "print(10*2)"
   ]
  },
  {
   "cell_type": "code",
   "execution_count": 40,
   "id": "ac46190a",
   "metadata": {},
   "outputs": [
    {
     "name": "stdout",
     "output_type": "stream",
     "text": [
      "5.5\n"
     ]
    }
   ],
   "source": [
    "print(11/2) # Dividend = Divsior * Quotient + Remainder "
   ]
  },
  {
   "cell_type": "code",
   "execution_count": null,
   "id": "013b5798",
   "metadata": {},
   "outputs": [],
   "source": [
    "Floor      Number        Ceil\n",
    "   1         1.2         2\n",
    "    \n",
    "1.2 = 1.0 +0.2"
   ]
  },
  {
   "cell_type": "code",
   "execution_count": 41,
   "id": "67a33ca9",
   "metadata": {},
   "outputs": [
    {
     "name": "stdout",
     "output_type": "stream",
     "text": [
      "5\n"
     ]
    }
   ],
   "source": [
    "print(11//2)"
   ]
  },
  {
   "cell_type": "code",
   "execution_count": 43,
   "id": "92175da7",
   "metadata": {},
   "outputs": [
    {
     "name": "stdout",
     "output_type": "stream",
     "text": [
      "2.4\n"
     ]
    }
   ],
   "source": [
    "print(12/5)"
   ]
  },
  {
   "cell_type": "code",
   "execution_count": 44,
   "id": "2bd7c26b",
   "metadata": {},
   "outputs": [
    {
     "name": "stdout",
     "output_type": "stream",
     "text": [
      "2\n"
     ]
    }
   ],
   "source": [
    "print(12//5)"
   ]
  },
  {
   "cell_type": "code",
   "execution_count": 47,
   "id": "192d8445",
   "metadata": {},
   "outputs": [
    {
     "name": "stdout",
     "output_type": "stream",
     "text": [
      "0\n"
     ]
    }
   ],
   "source": [
    "print(10%5)"
   ]
  },
  {
   "cell_type": "code",
   "execution_count": 48,
   "id": "6ab4afdd",
   "metadata": {},
   "outputs": [
    {
     "name": "stdout",
     "output_type": "stream",
     "text": [
      "8\n"
     ]
    }
   ],
   "source": [
    "print(2**3) # 2*2*2"
   ]
  },
  {
   "cell_type": "code",
   "execution_count": 49,
   "id": "df4017c7",
   "metadata": {},
   "outputs": [
    {
     "data": {
      "text/plain": [
       "2"
      ]
     },
     "execution_count": 49,
     "metadata": {},
     "output_type": "execute_result"
    }
   ],
   "source": [
    "True+True "
   ]
  },
  {
   "cell_type": "code",
   "execution_count": 50,
   "id": "abb56586",
   "metadata": {},
   "outputs": [
    {
     "data": {
      "text/plain": [
       "0"
      ]
     },
     "execution_count": 50,
     "metadata": {},
     "output_type": "execute_result"
    }
   ],
   "source": [
    "True - True"
   ]
  },
  {
   "cell_type": "code",
   "execution_count": 51,
   "id": "7c5e84c6",
   "metadata": {},
   "outputs": [
    {
     "data": {
      "text/plain": [
       "1.0"
      ]
     },
     "execution_count": 51,
     "metadata": {},
     "output_type": "execute_result"
    }
   ],
   "source": [
    "True/True "
   ]
  },
  {
   "cell_type": "code",
   "execution_count": 52,
   "id": "4cd0735d",
   "metadata": {},
   "outputs": [
    {
     "data": {
      "text/plain": [
       "0.0"
      ]
     },
     "execution_count": 52,
     "metadata": {},
     "output_type": "execute_result"
    }
   ],
   "source": [
    "False/True"
   ]
  },
  {
   "cell_type": "code",
   "execution_count": 53,
   "id": "4f1caa89",
   "metadata": {},
   "outputs": [
    {
     "data": {
      "text/plain": [
       "0"
      ]
     },
     "execution_count": 53,
     "metadata": {},
     "output_type": "execute_result"
    }
   ],
   "source": [
    "False//True"
   ]
  },
  {
   "cell_type": "code",
   "execution_count": 54,
   "id": "94498291",
   "metadata": {},
   "outputs": [
    {
     "ename": "ZeroDivisionError",
     "evalue": "division by zero",
     "output_type": "error",
     "traceback": [
      "\u001b[1;31m---------------------------------------------------------------------------\u001b[0m",
      "\u001b[1;31mZeroDivisionError\u001b[0m                         Traceback (most recent call last)",
      "Cell \u001b[1;32mIn[54], line 1\u001b[0m\n\u001b[1;32m----> 1\u001b[0m \u001b[38;5;28;01mTrue\u001b[39;00m\u001b[38;5;241m/\u001b[39m\u001b[38;5;28;01mFalse\u001b[39;00m\n",
      "\u001b[1;31mZeroDivisionError\u001b[0m: division by zero"
     ]
    }
   ],
   "source": [
    "True/False"
   ]
  },
  {
   "cell_type": "markdown",
   "id": "ea344d36",
   "metadata": {},
   "source": [
    "### Order of Execution \n",
    "\n",
    "- First Paranthese will get executed \n",
    "- Exponential Will get executed\n",
    "- Multiplcation, float divison, floor division, modulus\n",
    "- Addition, Subtraction\n"
   ]
  },
  {
   "cell_type": "code",
   "execution_count": null,
   "id": "8c5df8d4",
   "metadata": {},
   "outputs": [],
   "source": [
    "a = (1+2)*3**2//2+3\n",
    "a = (3)*3**2//2+3\n",
    "a = (3)*9//2+3\n",
    "a = 27//2+3\n",
    "a = 13+3\n",
    "a = 16"
   ]
  },
  {
   "cell_type": "code",
   "execution_count": 55,
   "id": "60e7d4c9",
   "metadata": {},
   "outputs": [
    {
     "data": {
      "text/plain": [
       "16"
      ]
     },
     "execution_count": 55,
     "metadata": {},
     "output_type": "execute_result"
    }
   ],
   "source": [
    "a = (1+2)*3**2//2+3\n",
    "a"
   ]
  },
  {
   "cell_type": "code",
   "execution_count": null,
   "id": "2b82ab49",
   "metadata": {},
   "outputs": [],
   "source": [
    "a = (9+3)**3//2%5\n",
    "a = (12)**3//2%5\n",
    "a = 1728//2%5\n",
    "a = 864%5\n",
    "a = 4"
   ]
  },
  {
   "cell_type": "code",
   "execution_count": 56,
   "id": "dd0a8778",
   "metadata": {},
   "outputs": [
    {
     "data": {
      "text/plain": [
       "4"
      ]
     },
     "execution_count": 56,
     "metadata": {},
     "output_type": "execute_result"
    }
   ],
   "source": [
    "a = (9+3)**3//2%5\n",
    "a"
   ]
  },
  {
   "cell_type": "markdown",
   "id": "2817d4d2",
   "metadata": {},
   "source": [
    "### Assignment Operator (=)\n",
    "\n",
    "- It is used to assign a value to a particular variable"
   ]
  },
  {
   "cell_type": "code",
   "execution_count": 57,
   "id": "90a88ca0",
   "metadata": {},
   "outputs": [
    {
     "name": "stdout",
     "output_type": "stream",
     "text": [
      "10\n"
     ]
    }
   ],
   "source": [
    "a = 10\n",
    "print(a)"
   ]
  },
  {
   "cell_type": "code",
   "execution_count": 59,
   "id": "ed434b94",
   "metadata": {},
   "outputs": [
    {
     "name": "stdout",
     "output_type": "stream",
     "text": [
      "mayank\n"
     ]
    }
   ],
   "source": [
    "b = 'mayank'\n",
    "print(b)"
   ]
  },
  {
   "cell_type": "code",
   "execution_count": 60,
   "id": "fa5dbb21",
   "metadata": {},
   "outputs": [
    {
     "name": "stdout",
     "output_type": "stream",
     "text": [
      "10.0\n"
     ]
    }
   ],
   "source": [
    "c = 10.0\n",
    "print(c)"
   ]
  },
  {
   "cell_type": "code",
   "execution_count": null,
   "id": "2c99398f",
   "metadata": {},
   "outputs": [],
   "source": []
  }
 ],
 "metadata": {
  "kernelspec": {
   "display_name": "Python 3 (ipykernel)",
   "language": "python",
   "name": "python3"
  },
  "language_info": {
   "codemirror_mode": {
    "name": "ipython",
    "version": 3
   },
   "file_extension": ".py",
   "mimetype": "text/x-python",
   "name": "python",
   "nbconvert_exporter": "python",
   "pygments_lexer": "ipython3",
   "version": "3.11.5"
  }
 },
 "nbformat": 4,
 "nbformat_minor": 5
}
